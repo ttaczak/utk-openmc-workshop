{
 "cells": [
  {
   "cell_type": "markdown",
   "id": "7b956360-d372-4875-9adb-119316f72e5e",
   "metadata": {},
   "source": [
    "# In Class Exploration\n",
    "\n",
    "Goal: To practice and get more comfortable with the process of creating and running openMC simulations. Each section will be ghost written so that some framework is provided. You can answer some interesting questions using only the material from class. However, please feel free to use any of the material provided in the longer tutorial if desired. You can find all the documentation links below for extra resources."
   ]
  },
  {
   "cell_type": "markdown",
   "id": "bb306cba",
   "metadata": {},
   "source": [
    "Documentation:\n",
    "\n",
    "Example outputs: https://slides.com/neutronics_workshop/neutronics_workshop#/"
   ]
  },
  {
   "cell_type": "markdown",
   "id": "d9757671-a65f-4285-b893-fd2537da5d98",
   "metadata": {},
   "source": [
    "IF you are running this in Docker then right mouse click on the vti file in the file explorer to download the vti file onto your base computer and open it with a VTK file reader such as Paraview or Visit.\n",
    "\n",
    "Paraview can be downloaded here: https://www.paraview.org/download/. Visit can be downloaded here: https://wci.llnl.gov/simulation/computer-codes/visit/downloads."
   ]
  },
  {
   "cell_type": "markdown",
   "id": "8b5b2ff3",
   "metadata": {},
   "source": [
    "Each section offers some different parameters to try and play around with. Try only changing one or two at a time to see a difference in your simulations. At least in the learning stage, it is also important to be able to comprehend your results and visualization tools can significantly help with that."
   ]
  },
  {
   "cell_type": "markdown",
   "id": "c24f8c39-5fff-488b-91d3-25e3c332a8ca",
   "metadata": {},
   "source": [
    "# Geometry\n",
    "\n",
    "Things to try: \n",
    "\n",
    "-using a torus shape instead of a sphere\n",
    "\n",
    "--bonus: can you create circular or D shaped magnets that go around the torus\n",
    "\n",
    "-add multiple layers with different materials\n",
    "\n",
    "-create more complex shapes by adding planes together\n",
    "\n",
    "-finding new/better ways to view the geometry in paraview"
   ]
  },
  {
   "cell_type": "markdown",
   "id": "c6ff31eb-1f9c-4327-a5a8-0001d7a62b76",
   "metadata": {},
   "source": [
    "# Materials\n",
    "\n",
    "Things to Try:\n",
    "\n",
    "-see the difference between convetional vs neutron resistant materials\n",
    "\n",
    "-changing the concentration of Li6 and Li7 for the blanket"
   ]
  },
  {
   "cell_type": "markdown",
   "id": "6eb2c148-40e9-4ec0-915c-dfbafc08af92",
   "metadata": {},
   "source": [
    "# Sources\n",
    "\n",
    "-create a plasma source that fits in a a spherical or torus CSG geometry\n",
    "\n",
    "-use different fluxes or plasma parameters to decrease some tally to an appropriate level\n",
    "\n",
    "-visualize your geometry and source in the same setting in paraview"
   ]
  },
  {
   "cell_type": "markdown",
   "id": "5ce0448c",
   "metadata": {},
   "source": [
    "# Tallies and Filters \n",
    "\n",
    "-use different filters based on material, isotope, cell, and/or mesh and see how they compare\n",
    "\n",
    "-check out the docs to play around with the different types of tallies and filters https://docs.openmc.org/en/stable/usersguide/tallies.html "
   ]
  },
  {
   "cell_type": "markdown",
   "id": "35ca09fc",
   "metadata": {},
   "source": []
  }
 ],
 "metadata": {
  "kernelspec": {
   "display_name": "Python 3 (ipykernel)",
   "language": "python",
   "name": "python3"
  },
  "language_info": {
   "codemirror_mode": {
    "name": "ipython",
    "version": 3
   },
   "file_extension": ".py",
   "mimetype": "text/x-python",
   "name": "python",
   "nbconvert_exporter": "python",
   "pygments_lexer": "ipython3",
   "version": "3.11.2"
  }
 },
 "nbformat": 4,
 "nbformat_minor": 5
}
