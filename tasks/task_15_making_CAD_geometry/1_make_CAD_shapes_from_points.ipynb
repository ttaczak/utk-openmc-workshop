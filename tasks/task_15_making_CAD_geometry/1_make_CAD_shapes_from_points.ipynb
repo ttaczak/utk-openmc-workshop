{
 "cells": [
  {
   "cell_type": "markdown",
   "metadata": {},
   "source": [
    "# Part 1 - Making a parametric shape\n",
    "\n",
    "CAD geometry has a few advatanges over traditional Constructive Solid Geometry (CSG):\n",
    "\n",
    "- The ability to model curved spline surfaces.\n",
    "- Implicit void creation so there is no need to define void cells.\n",
    "\n",
    "This notebook allows users to create a CAD model from coordinates / points.\n",
    "\n",
    "This geometry creation makes use of the Paramak package which has been designed to make neutronics ready CAD geometry for fusion reactors.\n",
    "\n",
    "The Paramak is:\n",
    "\n",
    "    Open-source: https://github.com/fusion-energy/paramak\n",
    "    Documented: https://paramak.readthedocs.io\n",
    "    Published: https://f1000research.com/articles/10-27\n",
    "    Video presentation: https://www.youtube.com/watch?v=fXboew3U7rw"
   ]
  },
  {
   "cell_type": "code",
   "execution_count": null,
   "metadata": {},
   "outputs": [],
   "source": [
    "from IPython.display import IFrame\n",
    "IFrame(src=\"https://www.youtube.com/embed/Bn_TcJSOvaA\", width=560, height=340)"
   ]
  },
  {
   "cell_type": "markdown",
   "metadata": {},
   "source": [
    "3D shapes can be made using coordinates and CAD opperations such as extrude, rotate and sweep.\n",
    "\n",
    "This first example shows 4 points connected by straight edges and rotated by 180 degrees."
   ]
  },
  {
   "cell_type": "code",
   "execution_count": null,
   "metadata": {},
   "outputs": [],
   "source": [
    "import paramak\n",
    "my_shape = paramak.RotateStraightShape(\n",
    "    points=[\n",
    "        (50,50),\n",
    "        (50,100),\n",
    "        (100,100),\n",
    "        (100,50)\n",
    "    ],\n",
    "    rotation_angle=180\n",
    ")\n",
    "\n",
    "my_shape.show()"
   ]
  },
  {
   "cell_type": "markdown",
   "metadata": {},
   "source": [
    "This second example shows 4 points connected by spline edges and rotated by 180 degrees."
   ]
  },
  {
   "cell_type": "code",
   "execution_count": null,
   "metadata": {},
   "outputs": [],
   "source": [
    "my_shape = paramak.RotateSplineShape(\n",
    "    points=[\n",
    "        (50,50),\n",
    "        (50,100),\n",
    "        (100,100),\n",
    "        (100,50)\n",
    "    ],\n",
    "    rotation_angle=180\n",
    ")\n",
    "\n",
    "my_shape.show()"
   ]
  },
  {
   "cell_type": "markdown",
   "metadata": {},
   "source": [
    "This second example shows 4 points connected by straight edges and extruded by by 20."
   ]
  },
  {
   "cell_type": "code",
   "execution_count": null,
   "metadata": {},
   "outputs": [],
   "source": [
    "my_shape = paramak.ExtrudeStraightShape(\n",
    "    points=[\n",
    "        (50,50),\n",
    "        (50,100),\n",
    "        (100,100),\n",
    "        (100,50)\n",
    "    ],\n",
    "    distance=20\n",
    ")\n",
    "\n",
    "my_shape.show()"
   ]
  },
  {
   "cell_type": "markdown",
   "metadata": {},
   "source": [
    "This second example shows 4 points connected by spline edges and extruded by by 20."
   ]
  },
  {
   "cell_type": "code",
   "execution_count": null,
   "metadata": {},
   "outputs": [],
   "source": [
    "my_shape = paramak.ExtrudeSplineShape(\n",
    "    points=[\n",
    "        (50,50),\n",
    "        (50,100),\n",
    "        (100,100),\n",
    "        (100,50)\n",
    "    ],\n",
    "    distance=20\n",
    ")\n",
    "\n",
    "my_shape.show()"
   ]
  },
  {
   "cell_type": "markdown",
   "metadata": {},
   "source": [
    "Boolean opperations like cut, union and intersection are also supported.\n",
    "\n",
    "The following example makes two shapes and cuts the first one away from the second."
   ]
  },
  {
   "cell_type": "code",
   "execution_count": null,
   "metadata": {},
   "outputs": [],
   "source": [
    "small_Shape = paramak.ExtrudeStraightShape(\n",
    "    points=[\n",
    "        (60,60),\n",
    "        (60,90),\n",
    "        (90,90),\n",
    "        (90,60)\n",
    "    ],\n",
    "    distance=20,\n",
    ")\n",
    "\n",
    "my_shape = paramak.ExtrudeStraightShape(\n",
    "    points=[\n",
    "        (50,50),\n",
    "        (50,100),\n",
    "        (100,100),\n",
    "        (100,50)\n",
    "    ],\n",
    "    distance=20,\n",
    "    cut=small_Shape\n",
    ")\n",
    "\n",
    "my_shape.show()"
   ]
  },
  {
   "cell_type": "markdown",
   "metadata": {},
   "source": [
    "The 3D volumes produced can then be:\n",
    "- exported to stp files.\n",
    "- exported to stl files."
   ]
  },
  {
   "cell_type": "code",
   "execution_count": null,
   "metadata": {},
   "outputs": [],
   "source": [
    "my_shape.export_stp('example_shape.stp')\n",
    "my_shape.export_stl('example_shape.stl')"
   ]
  },
  {
   "cell_type": "markdown",
   "metadata": {},
   "source": [
    "The geometry can also be converted into a DAGMC h5m file and used in neutronics simulations.\n",
    "\n",
    "To visualize the h5m file it can be converted into a vtk file"
   ]
  },
  {
   "cell_type": "code",
   "execution_count": null,
   "metadata": {},
   "outputs": [],
   "source": [
    "from stl_to_h5m import stl_to_h5m\n",
    "\n",
    "stl_to_h5m(\n",
    "    files_with_tags=[('example_shape.stl', 'mat1')],\n",
    "    h5m_filename='dagmc.h5m',\n",
    ")\n",
    "\n",
    "import os\n",
    "os.system('mbconvert dagmc.h5m dagmc.vtk')"
   ]
  },
  {
   "cell_type": "markdown",
   "metadata": {},
   "source": [
    "The geometry produced can be downloaded and viewed in FreeCAD (stp and stl) or Paraview (stl, vtk)"
   ]
  },
  {
   "cell_type": "code",
   "execution_count": null,
   "metadata": {},
   "outputs": [],
   "source": [
    "from IPython.display import FileLink\n",
    "display(FileLink('example_shape.stp'))\n",
    "display(FileLink('example_shape.stl'))\n",
    "display(FileLink('dagmc.vtk'))"
   ]
  },
  {
   "cell_type": "markdown",
   "metadata": {},
   "source": [
    "There are additional Shape attributes that allow more complex shapes to be made. For more details take a look at the Documented: https://paramak.readthedocs.io"
   ]
  },
  {
   "cell_type": "code",
   "execution_count": null,
   "metadata": {},
   "outputs": [],
   "source": []
  }
 ],
 "metadata": {
  "interpreter": {
   "hash": "e6c41b96ed9fbad96e04cc7638353f3e0586ef712f1ad27cb7f46f0c7023c1cc"
  },
  "kernelspec": {
   "display_name": "Python 3 (ipykernel)",
   "language": "python",
   "name": "python3"
  },
  "language_info": {
   "codemirror_mode": {
    "name": "ipython",
    "version": 3
   },
   "file_extension": ".py",
   "mimetype": "text/x-python",
   "name": "python",
   "nbconvert_exporter": "python",
   "pygments_lexer": "ipython3",
   "version": "3.8.5"
  }
 },
 "nbformat": 4,
 "nbformat_minor": 4
}
