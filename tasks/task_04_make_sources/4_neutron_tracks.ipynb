{
 "cells": [
  {
   "attachments": {},
   "cell_type": "markdown",
   "metadata": {},
   "source": [
    "# Part 3 - Visualising Particle Tracks\n",
    "\n",
    "When running neutronics simulations we may want to track how particles travel through the defined geometry.\n",
    "\n",
    "This python notebook allows users to generate particle track files that can be opened and viewed alongside the 3D geometry."
   ]
  },
  {
   "attachments": {},
   "cell_type": "markdown",
   "metadata": {},
   "source": [
    "This first code block makes a geometry with hemispheres. One side is a moderator (H2O) and the other is a material that is quite transparent to neutrons (zirconium).\n",
    "\n",
    "Because of the different neutronic properties of the materials, we expect neutrons to track differently through the two materials. We can visualise this using OpenMC."
   ]
  },
  {
   "cell_type": "code",
   "execution_count": null,
   "metadata": {},
   "outputs": [],
   "source": [
    "import openmc\n",
    "import os\n",
    "\n",
    "# MATERIALS\n",
    "mats = openmc.Materials()\n",
    "\n",
    "moderating_material = openmc.Material(42, \"water\")  # water contains hydrogen which is a good neutron moderator, note the ID number is 42, we need this later\n",
    "moderating_material.add_element('H', 2, 'ao')  # Note, 'percent_type=' does not have to be written to specify 'ao' or 'wo'\n",
    "moderating_material.add_element('O', 1, 'ao')\n",
    "moderating_material.set_density('g/cm3', 1.0)\n",
    "mats.append(moderating_material)\n",
    "\n",
    "transparent_material = openmc.Material(82, \"zirconium\")  # one of the more transparent materials, note the ID number is 42, we need this later\n",
    "transparent_material.add_element('Zr', 1, 'ao')\n",
    "transparent_material.set_density('g/cm3', 6.49)\n",
    "mats.append(transparent_material)\n",
    "\n",
    "\n",
    "# GEOMETRY\n",
    "sph0 = openmc.Sphere(r=400)\n",
    "sph1 = openmc.Sphere(r=600, boundary_type='vacuum')\n",
    "flat_surf = openmc.YPlane(y0=0)\n",
    "\n",
    "simple_moderator_cell = openmc.Cell(region=+sph0 & -sph1 & +flat_surf)\n",
    "simple_moderator_cell.fill = moderating_material\n",
    "\n",
    "simple_transparent_cell = openmc.Cell(region=+sph0 & -sph1 & -flat_surf)\n",
    "simple_transparent_cell.fill = transparent_material\n",
    "\n",
    "vaccum_cell = openmc.Cell(region=-sph0)\n",
    "\n",
    "geom = openmc.Geometry([simple_moderator_cell, simple_transparent_cell, vaccum_cell])\n",
    "\n",
    "\n",
    "# SIMULATION SETTINGS\n",
    "\n",
    "# Instantiate a Settings object\n",
    "sett = openmc.Settings()\n",
    "batches = 1\n",
    "sett.batches = batches\n",
    "sett.inactive = 0\n",
    "sett.particles = 10  # Note that only 10 particles are simulated, otherwise we make too many files\n",
    "sett.particle = \"neutron\"\n",
    "sett.run_mode = 'fixed source'\n",
    "\n",
    "# creates a 14MeV point source\n",
    "source = openmc.IndependentSource()\n",
    "source.space = openmc.stats.Point((0, 0, 0))\n",
    "source.angle = openmc.stats.Isotropic()\n",
    "source.energy = openmc.stats.Discrete([14e6], [1])\n",
    "\n",
    "# source.file = 'source_1000_particles.h5'\n",
    "sett.source = source"
   ]
  },
  {
   "attachments": {},
   "cell_type": "markdown",
   "metadata": {},
   "source": [
    "This is the new part covered by this task. The running of OpenMC in track mode."
   ]
  },
  {
   "cell_type": "code",
   "execution_count": null,
   "metadata": {},
   "outputs": [],
   "source": [
    "# Run OpenMC!\n",
    "model = openmc.model.Model(geom, mats, sett)\n",
    "model.run(tracks=True)  # this creates h5 files that contain track information"
   ]
  },
  {
   "attachments": {},
   "cell_type": "markdown",
   "metadata": {},
   "source": [
    "Loading the track output file and plotting the results"
   ]
  },
  {
   "cell_type": "code",
   "execution_count": null,
   "metadata": {},
   "outputs": [],
   "source": [
    "tracks = openmc.Tracks('tracks.h5')"
   ]
  },
  {
   "attachments": {},
   "cell_type": "markdown",
   "metadata": {},
   "source": [
    "Makes a quick 3D plot of the tracks."
   ]
  },
  {
   "cell_type": "code",
   "execution_count": null,
   "metadata": {},
   "outputs": [],
   "source": [
    "tracks.plot()"
   ]
  },
  {
   "attachments": {},
   "cell_type": "markdown",
   "metadata": {},
   "source": [
    "This exports the tracks.h5 files to vtk / vtp files which can be opened with Paraview to show the tracks in 3d."
   ]
  },
  {
   "cell_type": "code",
   "execution_count": null,
   "metadata": {},
   "outputs": [],
   "source": [
    "tracks.write_to_vtk('tracks.vtp')"
   ]
  },
  {
   "attachments": {},
   "cell_type": "markdown",
   "metadata": {},
   "source": [
    "Cycles through each of the tracks printing information on each track"
   ]
  },
  {
   "cell_type": "code",
   "execution_count": null,
   "metadata": {},
   "outputs": [],
   "source": [
    "# gets the first track from the 10 tracks. This is 10 because we simulated 10 particles\n",
    "track = tracks[0]\n",
    "\n",
    "# get the primary particle track from this particle\n",
    "one_particle = track.particle_tracks[0]\n",
    "\n",
    "# prints out the x position, y position, z position, x direction, y direction, z direction, energy, weight (varience reduction is off), cell id and material id\n",
    "print(one_particle.states)\n",
    "\n",
    "# Notice the energy starts at 14MeV and decreases with each collision"
   ]
  },
  {
   "attachments": {},
   "cell_type": "markdown",
   "metadata": {},
   "source": [
    "Filtering of tracks is also easy with the built in filter method.\n",
    "\n",
    "There are 10 tracks in total as we simulated just 10 particles.\n",
    "\n",
    "However we can filter these 10 particles to look at the ones that interacted with water then we could inspect the properties of tracks in certain materials."
   ]
  },
  {
   "cell_type": "code",
   "execution_count": null,
   "metadata": {},
   "outputs": [],
   "source": [
    "tracks_in_zirconium_material = tracks.filter(state_filter=lambda s:s['material_id'] == 82)\n",
    "# writing a separate vtk file for the tracks that go through the zirconium material \n",
    "tracks_in_zirconium_material.write_to_vtk('tracks_in_zirconium_material.vtp')\n",
    "\n",
    "tracks_in_water_material = tracks.filter(state_filter=lambda s:s['material_id'] == 42)\n",
    "# writing a separate vtk file for the tracks that go through the water material \n",
    "tracks_in_water_material.write_to_vtk('tracks_in_water_material.vtp')\n",
    "\n",
    "print(f'{len(tracks_in_water_material)} tracks in water and {len(tracks_in_zirconium_material)}')"
   ]
  },
  {
   "attachments": {},
   "cell_type": "markdown",
   "metadata": {},
   "source": [
    "This next code block might be familiar from task 3. Here, we are converting the geometry into a 3D version which can be viewed. This will provide a nice background for the tracks so we know where are relative to the materials.\n",
    "\n",
    "If you were working with CAD geometry you could load up STL files or use mbconvert to convert a dagmc.h5m to a VTK file.\n",
    "\n",
    "Mesh tallies (in VTK format) as you can visualize the geometry together with the source in Paraview"
   ]
  },
  {
   "cell_type": "code",
   "execution_count": null,
   "metadata": {},
   "outputs": [],
   "source": [
    "vox_plot = openmc.Plot()\n",
    "vox_plot.type = 'voxel'\n",
    "vox_plot.width = (1300., 1300., 1300.)\n",
    "vox_plot.pixels = (100, 100, 100)\n",
    "vox_plot.filename = 'plot_3d'\n",
    "vox_plot.color_by = 'material'\n",
    "vox_plot.colors = {moderating_material: 'blue', transparent_material: 'red'}\n",
    "plots = openmc.Plots([vox_plot])\n",
    "plots.export_to_xml()\n",
    "\n",
    "openmc.plot_geometry()\n",
    "# openmc-voxel-to-vtk is a python script distributed with openmc\n",
    "os.system('openmc-voxel-to-vtk plot_3d.h5 -o plot_3d.vti')"
   ]
  },
  {
   "attachments": {},
   "cell_type": "markdown",
   "metadata": {},
   "source": [
    "Right mouse click on the vtp files in the file explorer to download the vtk file to your base computer and open it with a VTK file reader such as Paraview or Visit.\n",
    "\n",
    "Paraview can be downloaded here: https://www.paraview.org/download/.\n",
    "Visit can be downloaded here https://wci.llnl.gov/simulation/computer-codes/visit/downloads.\n"
   ]
  },
  {
   "attachments": {},
   "cell_type": "markdown",
   "metadata": {},
   "source": [
    "**Learning Outcomes for Part 3:**\n",
    "\n",
    "- Particle tracks through geometry can be tracked in OpenMC and visualised in programs such as Paraview and Visit."
   ]
  }
 ],
 "metadata": {
  "interpreter": {
   "hash": "33e18018ded8e01153c5ac42767424b73b36decfac9010179e09e720b8c045af"
  },
  "kernelspec": {
   "display_name": "Python 3 (ipykernel)",
   "language": "python",
   "name": "python3"
  },
  "language_info": {
   "codemirror_mode": {
    "name": "ipython",
    "version": 3
   },
   "file_extension": ".py",
   "mimetype": "text/x-python",
   "name": "python",
   "nbconvert_exporter": "python",
   "pygments_lexer": "ipython3",
   "version": "3.10.12"
  }
 },
 "nbformat": 4,
 "nbformat_minor": 4
}
