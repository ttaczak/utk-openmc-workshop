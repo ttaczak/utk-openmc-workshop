{
 "cells": [
  {
   "attachments": {},
   "cell_type": "markdown",
   "metadata": {},
   "source": [
    "# Simulating Displacements Per Atom (DPA)\n",
    "\n",
    "Displacements per atom (DPA) is one measure of damage within materials exposed to neutron irradiation. Damage energy can be tallied in OpenMC with MT reaction number 444 and DPA can be estimated.\n",
    "\n",
    "In the case of DPA a neutronics code alone can't fully calculate the value as material science techniques are needed to account for the material and recombination effects. For example, after a displacement there is a chance that the atom relocates to it's original lattice position (recombination) and different atoms require different amounts of energy to [displace](https://fispact.ukaea.uk/wiki/Output_interpretation#DPA_and_KERMA). The DPA tally from neutronics is therefore only an estimate of the DPA.\n",
    "\n",
    "The MT 444 / damage energy tally is in units of eV per source particle. Therefore the result needs scaling by the source intensity (in neutrons per second), the irradiation duration (in seconds) and the number of atoms in the volume."
   ]
  },
  {
   "cell_type": "code",
   "execution_count": null,
   "metadata": {},
   "outputs": [],
   "source": [
    "from IPython.display import IFrame\n",
    "IFrame(src=\"https://www.youtube.com/embed/VLn59FSc4GA\", width=560, height=340)"
   ]
  },
  {
   "attachments": {},
   "cell_type": "markdown",
   "metadata": {},
   "source": [
    "This first stage sets up the geometry and materials for the simulation."
   ]
  },
  {
   "cell_type": "code",
   "execution_count": null,
   "metadata": {},
   "outputs": [],
   "source": [
    "import openmc\n",
    "\n",
    "\n",
    "# MATERIALS\n",
    "\n",
    "density_of_iron_in_g_per_cm3 = 7.75\n",
    "mat_iron = openmc.Material()\n",
    "mat_iron.set_density('g/cm3', density_of_iron_in_g_per_cm3)\n",
    "mat_iron.add_element('Fe', 1.0, percent_type='wo')\n",
    "mat_iron.id = 1 # the id is set so that is can be accessed later from the volume calculation\n",
    "my_materials = openmc.Materials([mat_iron])\n",
    "\n",
    "\n",
    "# GEOMETRY\n",
    "\n",
    "# surfaces\n",
    "outer_surface = openmc.Sphere(r=100, boundary_type='vacuum')\n",
    "\n",
    "# cells\n",
    "vessel_region = -outer_surface\n",
    "vessel_cell = openmc.Cell(region=vessel_region)\n",
    "vessel_cell.id = 1 # the id is set so that is can be accessed later from the volume calculation\n",
    "vessel_cell.fill = mat_iron\n",
    "\n",
    "my_geometry = openmc.Geometry([vessel_cell])\n",
    "\n",
    "\n",
    "# SIMULATION SETTINGS\n",
    "\n",
    "# Instantiate a Settings object\n",
    "my_settings = openmc.Settings()\n",
    "batches = 10\n",
    "my_settings.batches = batches\n",
    "my_settings.inactive = 0\n",
    "my_settings.particles = 10000\n",
    "my_settings.run_mode = 'fixed source'\n",
    "\n",
    "# Create a DT point source\n",
    "my_source = openmc.IndependentSource()\n",
    "my_source.space = openmc.stats.Point((0, 0, 0))\n",
    "my_source.angle = openmc.stats.Isotropic()\n",
    "my_source.energy = openmc.stats.Discrete([14e6], [1])\n",
    "my_settings.source = my_source"
   ]
  },
  {
   "attachments": {},
   "cell_type": "markdown",
   "metadata": {},
   "source": [
    "This sets up the damage energy tally using the MT number 444. A list of MT numbers including their reaction discription can be found [here](https://t2.lanl.gov/nis/endf/mts.html)."
   ]
  },
  {
   "cell_type": "code",
   "execution_count": null,
   "metadata": {},
   "outputs": [],
   "source": [
    "# added a cell tally for DPA to the iron vessel cell\n",
    "cell_filter = openmc.CellFilter(vessel_cell)\n",
    "dpa_reaction_tally = openmc.Tally(name='DPA')\n",
    "dpa_reaction_tally.filters = [cell_filter]\n",
    "dpa_reaction_tally.scores = ['444']  # note use of 444 in string format, this is the MT reaction number for damage energy more MT numbers here https://t2.lanl.gov/nis/endf/mts.html\n",
    "dpa_reaction_tally.nuclides = ['Fe54', 'Fe56', 'Fe57', 'Fe58'] # this records the tally for each nuclide in the list\n",
    "my_tallies = openmc.Tallies([dpa_reaction_tally])"
   ]
  },
  {
   "attachments": {},
   "cell_type": "markdown",
   "metadata": {},
   "source": [
    "This runs the simulation."
   ]
  },
  {
   "cell_type": "code",
   "execution_count": null,
   "metadata": {},
   "outputs": [],
   "source": [
    "model = openmc.model.Model(my_geometry, my_materials, my_settings, my_tallies)\n",
    "!rm *.h5\n",
    "sp_filename = model.run()"
   ]
  },
  {
   "attachments": {},
   "cell_type": "markdown",
   "metadata": {},
   "source": [
    "This extracts the simulation results and displays the damage-energy (444 MT number tally) for each nuclide"
   ]
  },
  {
   "cell_type": "code",
   "execution_count": null,
   "metadata": {},
   "outputs": [],
   "source": [
    "sp = openmc.StatePoint(sp_filename)\n",
    "\n",
    "# access the tally\n",
    "tally = sp.get_tally(name='DPA')\n",
    "\n",
    "df = tally.get_pandas_dataframe()\n",
    "\n",
    "print(df)"
   ]
  },
  {
   "attachments": {},
   "cell_type": "markdown",
   "metadata": {},
   "source": [
    "This calculates the total number of displacements for all atoms by summing together the seperate damage-energy for each nuclide. From here, DPA can be found."
   ]
  },
  {
   "cell_type": "code",
   "execution_count": null,
   "metadata": {},
   "outputs": [],
   "source": [
    "damage_energy_in_ev = df['mean'].sum()\n",
    "\n",
    "print('Damage energy deposited per source neutron = ', damage_energy_in_ev, 'eV\\n')\n",
    "\n",
    "print('Two times the threshold energy of 40eV is needed to displace an atom')\n",
    "displacements_per_source_neutron = damage_energy_in_ev / (2*40)\n",
    "print('Displacements per source neutron = ', displacements_per_source_neutron, '\\n')\n",
    "\n",
    "print('Assuming about 80% remains after 20% recombine to original lattice locations')\n",
    "displacements_per_source_neutron_with_recombination = displacements_per_source_neutron*0.8\n",
    "print('Displacements per source neutron after recombination = ', displacements_per_source_neutron_with_recombination, '\\n')\n",
    "\n",
    "fusion_power = 3e9  # units Watts\n",
    "energy_per_fusion_reaction = 17.6e6  # units eV\n",
    "eV_to_Joules = 1.60218e-19  # multiplication factor to convert eV to Joules\n",
    "number_of_neutrons_per_second = fusion_power / (energy_per_fusion_reaction * eV_to_Joules)\n",
    "print('Number of neutrons per second', number_of_neutrons_per_second, '\\n')\n",
    "\n",
    "number_of_neutrons_per_year = number_of_neutrons_per_second * 60 * 60 * 24 * 365.25\n",
    "print('Number of neutrons per full power year ', number_of_neutrons_per_year)\n",
    "\n",
    "displacements_for_all_atoms = number_of_neutrons_per_year * displacements_per_source_neutron_with_recombination\n",
    "print('Displacements for all atoms in the volume ', displacements_for_all_atoms, '\\n')\n",
    "\n",
    "print('Now the number of atoms in the volume must be found to find displacements per atom (DPA)')\n",
    "\n",
    "volume_of_firstwall_cell = 4.18879e6  # 4/3PiR^3 with R=100\n",
    "\n",
    "iron_atomic_mass_in_g = 55.845*1.66054E-24  # molar mass multiplier by the atomic mass unit (u)\n",
    "number_of_iron_atoms = volume_of_firstwall_cell * density_of_iron_in_g_per_cm3 / (iron_atomic_mass_in_g)\n",
    "\n",
    "print('Number of iron atoms in the firstwall ', number_of_iron_atoms)"
   ]
  },
  {
   "attachments": {},
   "cell_type": "markdown",
   "metadata": {},
   "source": [
    "Therefore, as the total number of atoms and the total number of displacements is known, DPA can be found."
   ]
  },
  {
   "cell_type": "code",
   "execution_count": null,
   "metadata": {},
   "outputs": [],
   "source": [
    "DPA = displacements_for_all_atoms / number_of_iron_atoms\n",
    "\n",
    "print('DPA =', DPA)"
   ]
  },
  {
   "attachments": {},
   "cell_type": "markdown",
   "metadata": {},
   "source": [
    "In this task we knew the volume of the cell as it was a sphere of radius 100. If you don't know the volume of the cell there is a stochastic volume task that might be of interest as it shows you how OpenMC can find the volume of more complex cells.\n",
    "\n",
    "**Extra topics\n",
    "There are better methods of predicting DPA, further reading https://www.nature.com/articles/s41467-018-03415-5/\n",
    "\n",
    "**Learning Outcomes for Task 6:**\n",
    "\n",
    "- Damage energy deposited can be found with the OpenMC MT 444 tally.\n",
    "- Post tally calculations are sometimes required to convert neutronics numbers into something more useful."
   ]
  },
  {
   "attachments": {},
   "cell_type": "markdown",
   "metadata": {},
   "source": []
  }
 ],
 "metadata": {
  "interpreter": {
   "hash": "388a69045c46a6cab693fa82e98fd7f2d33e04d9f9ebcb2c17dde5f00932fece"
  },
  "kernelspec": {
   "display_name": "Python 3 (ipykernel)",
   "language": "python",
   "name": "python3"
  },
  "language_info": {
   "codemirror_mode": {
    "name": "ipython",
    "version": 3
   },
   "file_extension": ".py",
   "mimetype": "text/x-python",
   "name": "python",
   "nbconvert_exporter": "python",
   "pygments_lexer": "ipython3",
   "version": "3.10.12"
  }
 },
 "nbformat": 4,
 "nbformat_minor": 4
}
