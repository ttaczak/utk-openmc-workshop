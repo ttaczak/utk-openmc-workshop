{
 "cells": [
  {
   "cell_type": "markdown",
   "metadata": {},
   "source": [
    "# Part 3 - Plotting neutron lethargy energy spectra across a surface with a energy group structure\n",
    "\n",
    "This example creates a simple sphere of water and tallies the neutrons crossing a surface:\n",
    "\n",
    "We are also making use of an energy group structure for the spectrum instead of the linear energy group bins in the previous example.\n",
    "\n",
    "Group structures provide a list of energy bins which are non uniformly spaced and this helps get details from the tally.\n",
    "\n",
    "Current per unit lethargy is also plotted instead of \n"
   ]
  },
  {
   "cell_type": "code",
   "execution_count": null,
   "metadata": {},
   "outputs": [],
   "source": [
    "from IPython.display import IFrame\n",
    "IFrame(\"https://www.youtube.com/embed/qHqAuqMLYPA\", width=560, height=315)"
   ]
  },
  {
   "cell_type": "markdown",
   "metadata": {},
   "source": [
    "This section creates a simple material, geometry and settings. This model is used in both the neutron current tally and the neutron flux tally."
   ]
  },
  {
   "cell_type": "code",
   "execution_count": null,
   "metadata": {},
   "outputs": [],
   "source": [
    "import openmc\n",
    "\n",
    "# MATERIALS\n",
    "\n",
    "# Due to the hydrogen content water is a very good neutron moderator\n",
    "my_material = openmc.Material()\n",
    "my_material.add_element('H', 1, percent_type='ao')\n",
    "my_material.add_element('O', 2, percent_type='ao')\n",
    "my_material.set_density('g/cm3', 1)\n",
    "\n",
    "my_materials = openmc.Materials([my_material])\n",
    "\n",
    "\n",
    "# GEOMETRY\n",
    "\n",
    "# surfaces\n",
    "inner_surface = openmc.Sphere(r=1)\n",
    "mid_surface = openmc.Sphere(r=10)\n",
    "# Currently it is not possible to tally on boundary_type='vacuum' surfaces\n",
    "outer_surface = openmc.Sphere(r=20, boundary_type='vacuum')\n",
    "\n",
    "# three cells of the same material\n",
    "inner_cell = openmc.Cell(region=-inner_surface)\n",
    "inner_cell.fill = my_material\n",
    "\n",
    "mid_cell = openmc.Cell(region=-mid_surface & +inner_surface)\n",
    "mid_cell.fill = my_material\n",
    "\n",
    "outer_vessel_cell = openmc.Cell(region=+mid_surface & -outer_surface)\n",
    "mid_cell.fill = my_material\n",
    "\n",
    "my_geometry = openmc.Geometry([inner_cell,mid_cell, outer_vessel_cell])\n",
    "\n",
    "\n",
    "# SIMULATION SETTINGS\n",
    "\n",
    "# Instantiate a Settings object\n",
    "my_settings = openmc.Settings()\n",
    "my_settings.batches = 10\n",
    "my_settings.particles = 200000\n",
    "my_settings.run_mode = 'fixed source'\n",
    "\n",
    "# Create a DT point source\n",
    "my_source = openmc.IndependentSource()\n",
    "my_source.space = openmc.stats.Point((0, 0, 0))\n",
    "my_source.angle = openmc.stats.Isotropic()\n",
    "my_source.energy = openmc.stats.Discrete([14e6], [1])\n",
    "my_settings.source = my_source"
   ]
  },
  {
   "cell_type": "markdown",
   "metadata": {},
   "source": [
    "This section section adds a tally for the average neutron flux across a cell."
   ]
  },
  {
   "cell_type": "code",
   "execution_count": null,
   "metadata": {},
   "outputs": [],
   "source": [
    "#creates an empty tally object\n",
    "my_tallies = openmc.Tallies()\n",
    "\n",
    "# sets up filters for the tallies\n",
    "neutron_particle_filter = openmc.ParticleFilter(['neutron'])\n",
    "\n",
    "# creates an array of energy bins to use for the tally\n",
    "# these are not linearly spaced as they have extra bins in key energy ranges\n",
    "# A full list of energy structures is available here\n",
    "# https://github.com/openmc-dev/openmc/blob/6254be37582e09acff038f5656332b89e53e4eae/openmc/mgxs/__init__.py#L50-L420\n",
    "energy_filter = openmc.EnergyFilter.from_group_structure('CCFE-709')\n",
    "\n",
    "# setup the filters for the cell tally\n",
    "inner_surface_filter = openmc.SurfaceFilter(inner_surface)\n",
    "mid_surface_filter = openmc.SurfaceFilter(mid_surface) \n",
    "\n",
    "# in openmc a surface current includes positive contributions from neutrons\n",
    "# passing in one direction and negative contributions from neutrons passing\n",
    "# in the other direction. A openmc.CellFromFilter can be used to get\n",
    "# contributions from a single direction.\n",
    "\n",
    "# create the tally\n",
    "inner_surface_spectra_tally = openmc.Tally(name='inner_surface_spectra_tally')\n",
    "inner_surface_spectra_tally.scores = ['current']\n",
    "inner_surface_spectra_tally.filters = [inner_surface_filter, neutron_particle_filter, energy_filter]\n",
    "my_tallies.append(inner_surface_spectra_tally)\n",
    "\n",
    "mid_surface_spectra_tally = openmc.Tally(name='mid_surface_spectra_tally')\n",
    "mid_surface_spectra_tally.scores = ['current']\n",
    "mid_surface_spectra_tally.filters = [mid_surface_filter, neutron_particle_filter, energy_filter]\n",
    "my_tallies.append(mid_surface_spectra_tally)"
   ]
  },
  {
   "cell_type": "markdown",
   "metadata": {},
   "source": [
    "This section adds two surface current tallies - one on the inner sphere surface and one on the outer sphere surface."
   ]
  },
  {
   "cell_type": "markdown",
   "metadata": {},
   "source": [
    "This section runs the simulation."
   ]
  },
  {
   "cell_type": "code",
   "execution_count": null,
   "metadata": {},
   "outputs": [],
   "source": [
    "# combine all the required parts to make a model\n",
    "model = openmc.model.Model(my_geometry, my_materials, my_settings, my_tallies)\n",
    "\n",
    "# remove old files and runs OpenMC\n",
    "!rm *.h5\n",
    "results_filename = model.run()"
   ]
  },
  {
   "cell_type": "markdown",
   "metadata": {},
   "source": [
    "This section extracts the cell tally data from the results file and plots neutron flux across the cell."
   ]
  },
  {
   "cell_type": "code",
   "execution_count": null,
   "metadata": {},
   "outputs": [],
   "source": [
    "# open the results file\n",
    "results = openmc.StatePoint(results_filename)\n",
    "\n",
    "#extracts the tally values from the simulation results\n",
    "inner_surface_tally = results.get_tally(name='inner_surface_spectra_tally')\n",
    "mid_surface_tally = results.get_tally(name='mid_surface_spectra_tally')\n",
    "\n",
    "# these are the widths of each energy bin (energy bins vary in size to get detail in specific areas of the spectrum)\n",
    "bin_boundaries = energy_filter.lethargy_bin_width\n",
    "\n",
    "inner_current = inner_surface_tally.mean.flatten()\n",
    "mid_current = mid_surface_tally.mean.flatten()\n",
    "\n",
    "normalised_inner_current = inner_current / bin_boundaries\n",
    "normalised_mid_current = mid_current / bin_boundaries\n",
    "\n",
    "import matplotlib.pyplot as plt\n",
    "plt.figure()\n",
    "plt.step(energy_filter.values[:-1], normalised_mid_current, label='mid surface')\n",
    "plt.step(energy_filter.values[:-1], normalised_inner_current, label='inner surface')\n",
    "plt.xscale('log')\n",
    "plt.yscale('log')\n",
    "plt.legend()\n",
    "plt.ylabel('Neutron current per unit lethargy')\n",
    "plt.xlabel('Neutron Energy [eV]')\n",
    "plt.show()"
   ]
  },
  {
   "cell_type": "markdown",
   "metadata": {},
   "source": [
    "This section extracts the surface tally data from the results file and plots neutron current through the inner and outer surfaces."
   ]
  },
  {
   "cell_type": "markdown",
   "metadata": {},
   "source": [
    "#### Additional notes\n",
    "\n",
    "- The current tally has a direction so particles can be +ve or -ve contributors.\n",
    "- Sometimes an additional cellFromFilter is needed to detect the current in a certain direction.\n",
    "- When comparing these results with other codes it might be necessary to scale them:\n",
    "    - The OpenMC surface current needs to be divided by the surface area when comparing with MCNP.\n"
   ]
  },
  {
   "cell_type": "markdown",
   "metadata": {},
   "source": [
    "**Learning Outcomes for Part 1:**\n",
    "\n",
    "- Neutron spectra can be tallied in OpenMC using current tallies, and energy bins.\n",
    "- Neutrons get moderated as they pass through a geometry and the thermal neutron distribution can be seen.\n",
    "- To clearly identify the thermal neutron distribution extra energy bins are needed to resolve the structure.\n",
    "- OpenMC has lots of group structure built in which can be accessed with the ```from_group_structure``` method"
   ]
  },
  {
   "cell_type": "markdown",
   "metadata": {},
   "source": [
    "Can you think of a case where the neutron flux might increase in the first few cm of material, can you model it and show this to be the case"
   ]
  },
  {
   "cell_type": "code",
   "execution_count": null,
   "metadata": {},
   "outputs": [],
   "source": []
  }
 ],
 "metadata": {
  "interpreter": {
   "hash": "388a69045c46a6cab693fa82e98fd7f2d33e04d9f9ebcb2c17dde5f00932fece"
  },
  "kernelspec": {
   "display_name": "Python 3 (ipykernel)",
   "language": "python",
   "name": "python3"
  },
  "language_info": {
   "codemirror_mode": {
    "name": "ipython",
    "version": 3
   },
   "file_extension": ".py",
   "mimetype": "text/x-python",
   "name": "python",
   "nbconvert_exporter": "python",
   "pygments_lexer": "ipython3",
   "version": "3.10.12"
  }
 },
 "nbformat": 4,
 "nbformat_minor": 4
}
