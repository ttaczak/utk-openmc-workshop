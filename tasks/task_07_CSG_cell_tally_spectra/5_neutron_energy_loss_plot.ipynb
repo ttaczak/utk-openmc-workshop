{
 "cells": [
  {
   "cell_type": "markdown",
   "metadata": {},
   "source": [
    "# Part 2 - Plotting energy loss per collision\n",
    "\n",
    "This example shows the energy loss per collision for a large mass absorbing element (W) and a low mass element (H).\n",
    "\n",
    "They both end up stopping neutrons, however they accomplish this in different ways.\n",
    "\n",
    "The hydrogen slows the neutron down quickly and absorbs low energy neutrons.\n",
    "\n",
    "The Tungsten slows the neutron down less effectively but absorbs high energy neutrons."
   ]
  },
  {
   "cell_type": "markdown",
   "metadata": {},
   "source": [
    "Imports required packages"
   ]
  },
  {
   "cell_type": "code",
   "execution_count": null,
   "metadata": {},
   "outputs": [],
   "source": [
    "import openmc\n",
    "import matplotlib.pyplot as plt\n",
    "from shutil import move"
   ]
  },
  {
   "cell_type": "markdown",
   "metadata": {},
   "source": [
    "This section a function that makes use of the openmc tracks feature.\n",
    "\n",
    "Track data for each particle simulatated is saved and then used to find out the energy loss per collision."
   ]
  },
  {
   "cell_type": "code",
   "execution_count": null,
   "metadata": {},
   "outputs": [],
   "source": [
    "def generate_tracks_file_for_material(mat):\n",
    "\n",
    "    my_materials = openmc.Materials([mat])\n",
    "    vessel_inner = openmc.Sphere(r=100, boundary_type=\"vacuum\")\n",
    "    inner_vessel_region = -vessel_inner\n",
    "    inner_vessel_cell = openmc.Cell(region=inner_vessel_region, fill=mat)\n",
    "\n",
    "    my_geometry = openmc.Geometry([inner_vessel_cell])\n",
    "\n",
    "    my_settings = openmc.Settings()\n",
    "    my_settings.batches = 1\n",
    "    my_settings.inactive = 0\n",
    "    my_settings.particles = 20\n",
    "    my_settings.run_mode = \"fixed source\"\n",
    "\n",
    "    my_source = openmc.IndependentSource()\n",
    "    my_source.space = openmc.stats.Point((0, 0, 0))\n",
    "    my_source.energy = openmc.stats.Discrete([14e6], [1])\n",
    "    my_settings.source = my_source\n",
    "\n",
    "    model = openmc.model.Model(my_geometry, my_materials, my_settings)\n",
    "\n",
    "    model.run(tracks=True)\n",
    "    move(\"tracks.h5\", f\"tracks_{mat.name}.h5\")\n",
    "    return f\"tracks_{mat.name}.h5\"\n"
   ]
  },
  {
   "cell_type": "markdown",
   "metadata": {},
   "source": [
    "This section makes two materials to compare"
   ]
  },
  {
   "cell_type": "code",
   "execution_count": null,
   "metadata": {},
   "outputs": [],
   "source": [
    "# makes the material\n",
    "tungsten = openmc.Material()\n",
    "tungsten.set_density(\"g/cm3\", 19.25)\n",
    "tungsten.add_element('W', 1.0, percent_type=\"ao\")\n",
    "\n",
    "liquid_hydrogen = openmc.Material()\n",
    "liquid_hydrogen.set_density(\"g/cm3\", 0.07)\n",
    "liquid_hydrogen.add_element('H', 1.0, percent_type=\"ao\")\n"
   ]
  },
  {
   "cell_type": "markdown",
   "metadata": {},
   "source": [
    "This section calls the function and plots the results"
   ]
  },
  {
   "cell_type": "code",
   "execution_count": null,
   "metadata": {},
   "outputs": [],
   "source": [
    "# remove old summary and statepoint files\n",
    "!rm *.h5\n",
    "\n",
    "for element, color in zip([liquid_hydrogen, tungsten], [\"red\", \"blue\"]):\n",
    "    plt.plot([0], label=element, color=color)\n",
    "    tracks_filename = generate_tracks_file_for_material(element)\n",
    "    tracks = openmc.Tracks(tracks_filename)\n",
    "    for track in tracks:\n",
    "        for p_number, particle in enumerate(track.particle_tracks):\n",
    "            energy = []\n",
    "            if particle.particle == 0:  # 0 is a neutron\n",
    "                for state in particle.states:\n",
    "                    energy.append(state[2])\n",
    "                plt.plot(energy, color=color)\n",
    "\n",
    "plt.yscale('log')\n",
    "plt.xlabel('Collision number')\n",
    "plt.ylabel('Neutron Energy [eV]')\n",
    "plt.ylabel('Energy loss per collision of neutrons travelling through materials')\n",
    "plt.show()"
   ]
  },
  {
   "cell_type": "markdown",
   "metadata": {},
   "source": [
    "# Learning outcomes\n",
    "\n",
    "- We learned that energy lost is related to atom mass\n",
    "- Large mass atoms reduce the energy of neutrons by small amounts per collision e.g W\n",
    "- Small mass atoms reduce the energy of neutrons by large amounts per collision e.g H\n",
    "\n",
    "\n",
    "# Additional tasks\n",
    "\n",
    "- See if you can spot a neutron that has reached thermal equalibrium with the material (these neutrons can gain or lose energy with each collision)\n",
    "- Try changing the material to a transparent material like Zirconium (Zr) which has a density of 6.511g/cm3"
   ]
  },
  {
   "cell_type": "code",
   "execution_count": null,
   "metadata": {},
   "outputs": [],
   "source": []
  }
 ],
 "metadata": {
  "interpreter": {
   "hash": "388a69045c46a6cab693fa82e98fd7f2d33e04d9f9ebcb2c17dde5f00932fece"
  },
  "kernelspec": {
   "display_name": "Python 3 (ipykernel)",
   "language": "python",
   "name": "python3"
  },
  "language_info": {
   "codemirror_mode": {
    "name": "ipython",
    "version": 3
   },
   "file_extension": ".py",
   "mimetype": "text/x-python",
   "name": "python",
   "nbconvert_exporter": "python",
   "pygments_lexer": "ipython3",
   "version": "3.10.12"
  }
 },
 "nbformat": 4,
 "nbformat_minor": 4
}
