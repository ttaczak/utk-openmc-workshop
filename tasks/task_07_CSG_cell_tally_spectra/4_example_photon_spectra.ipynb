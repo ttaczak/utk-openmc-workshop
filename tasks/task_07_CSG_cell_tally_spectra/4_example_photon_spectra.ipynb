{
 "cells": [
  {
   "cell_type": "markdown",
   "metadata": {},
   "source": [
    "# Part 2 - Plotting photon and neutron energy spectra in a cell with a energy group structure\n",
    "\n",
    "This example creates a simple sphere of tungsten with a neutron source inside.\n",
    "\n",
    "Neutrons generate photons as they travel through the material.\n",
    "\n",
    "Photon transport is enabled so these photons can be tracked tallied and plotted\n",
    "\n",
    "Photon flux is averaged across the cell and plotted as a function of energy."
   ]
  },
  {
   "cell_type": "markdown",
   "metadata": {},
   "source": [
    "This section creates a simple material, geometry and settings. This model is used in both the photon current tally and photon flux tally."
   ]
  },
  {
   "cell_type": "code",
   "execution_count": null,
   "metadata": {},
   "outputs": [],
   "source": [
    "import openmc\n",
    "import matplotlib.pyplot as plt\n",
    "\n",
    "# MATERIALS\n",
    "\n",
    "# Tungsten is a very good photon shield, partly due to its high Z number and electrons\n",
    "my_material = openmc.Material()\n",
    "my_material.add_element('W', 1, percent_type='ao')\n",
    "my_material.set_density('g/cm3', 19)\n",
    "\n",
    "my_materials = openmc.Materials([my_material])\n",
    "\n",
    "# GEOMETRY\n",
    "\n",
    "# surfaces\n",
    "outer_surface = openmc.Sphere(r=100, boundary_type='vacuum')\n",
    "\n",
    "# cells\n",
    "blanket_cell = openmc.Cell(region=-outer_surface)\n",
    "blanket_cell.fill = my_material\n",
    "\n",
    "my_geometry = openmc.Geometry([blanket_cell])\n",
    "\n",
    "\n",
    "# SIMULATION SETTINGS\n",
    "\n",
    "# Instantiate a Settings object\n",
    "my_settings = openmc.Settings()\n",
    "my_settings.batches = 10\n",
    "my_settings.particles = 1000\n",
    "my_settings.run_mode = 'fixed source'\n",
    "my_settings.photon_transport = True  # This line is required to switch on photons tracking, other wise the photons created by the neutrons are not tracked\n",
    "\n",
    "\n",
    "# Create a DT point source\n",
    "source = openmc.IndependentSource()\n",
    "source.space = openmc.stats.Point((0, 0, 0))\n",
    "source.angle = openmc.stats.Isotropic()\n",
    "# neutron is the default source.particle value so this line is not actually necessary for the simulation.\n",
    "# However it is added for clarity.\n",
    "# This simulation has a neutron source and those neutrons generate photons via interactions with the material.\n",
    "# The resulting photons energy spectrum is tallied, but the units are still per source netron.\n",
    "source.particle = 'neutron' \n",
    "source.energy = openmc.stats.Discrete([14e6], [1])\n",
    "my_settings.source = source"
   ]
  },
  {
   "cell_type": "markdown",
   "metadata": {},
   "source": [
    "This section section adds a tally for the average photon flux across a cell."
   ]
  },
  {
   "cell_type": "code",
   "execution_count": null,
   "metadata": {},
   "outputs": [],
   "source": [
    "#creates an empty tally object\n",
    "my_tallies = openmc.Tallies()\n",
    "\n",
    "# sets up filters for the tallies\n",
    "particle_filter = openmc.ParticleFilter(['photon'])  # note the use of photons here, otherwise all particles are tallied\n",
    "energy_filter = openmc.EnergyFilter.from_group_structure('VITAMIN-J-175')\n",
    "\n",
    "# setup the filters for the cell tally\n",
    "cell_filter = openmc.CellFilter(blanket_cell) \n",
    "\n",
    "# create the tally\n",
    "cell_spectra_tally = openmc.Tally(name='cell_photon_spectra_tally')\n",
    "cell_spectra_tally.scores = ['flux']\n",
    "cell_spectra_tally.filters = [cell_filter, particle_filter, energy_filter]\n",
    "my_tallies.append(cell_spectra_tally)"
   ]
  },
  {
   "cell_type": "markdown",
   "metadata": {},
   "source": [
    "This section runs the simulation."
   ]
  },
  {
   "cell_type": "code",
   "execution_count": null,
   "metadata": {},
   "outputs": [],
   "source": [
    "# combine all the required parts to make a model\n",
    "model = openmc.model.Model(my_geometry, my_materials, my_settings, my_tallies)\n",
    "\n",
    "# remove old files and runs OpenMC\n",
    "!rm *.h5\n",
    "results_filename = model.run()"
   ]
  },
  {
   "cell_type": "markdown",
   "metadata": {},
   "source": [
    "This section extracts the cell tally data from the results file and plots photon flux across the cell."
   ]
  },
  {
   "cell_type": "code",
   "execution_count": null,
   "metadata": {},
   "outputs": [],
   "source": [
    "# open the results file\n",
    "results = openmc.StatePoint(results_filename)\n",
    "\n",
    "#extracts the tally values from the simulation results\n",
    "cell_tally = results.get_tally(name='cell_photon_spectra_tally')\n",
    "\n",
    "# flattens the ndarray into a 1d array for plotting\n",
    "openmc_flux = cell_tally.mean.flatten()\n",
    "\n",
    "volume_of_cell = 4188790 # cell is 100cm radius sphere, this volume is in units of cm3\n",
    "reactor_power = 500e6  # in units of watts\n",
    "energy_of_each_fusion_reaction = 17.5e6 * 2.8e-18  # eV converted to Joules\n",
    "neutrons_per_second = reactor_power / energy_of_each_fusion_reaction\n",
    "\n",
    "flux = (openmc_flux / volume_of_cell) * neutrons_per_second # divide by cell volume and then multiply by source strength\n",
    "\n",
    "\n",
    "plt.figure()\n",
    " # trim the last energy filter bin edge to make the number of x and y values the same\n",
    "plt.step(energy_filter.values[:-1], flux)\n",
    "plt.yscale('log')\n",
    "plt.xscale('log')\n",
    "plt.ylabel('Flux [photons/cm2-s]')\n",
    "plt.xlabel('Energy [eV]')\n",
    "plt.show()"
   ]
  },
  {
   "cell_type": "markdown",
   "metadata": {},
   "source": [
    "- In this simulation we used the VITAMIN-J-175 energy group structure to tally photons in energy bins.\n",
    "- There are several group structures built into OpenMC.\n",
    "- The VITAMIN-J-175, CCFE-709 and UKAEA-1102 structures are popular in fusion energy as they include 14MeV in the range.\n",
    "- OpenMC source code with other group structures can be found here: https://github.com/openmc-dev/openmc/blob/develop/openmc/mgxs/__init__.py."
   ]
  },
  {
   "cell_type": "markdown",
   "metadata": {},
   "source": [
    "**Learning Outcomes for Part 2:**\n",
    "\n",
    "- OpenMC can perform coupled neutron-photon simulations where photons are created from neutron interactions.\n",
    "- Photon spectra can be tallied in OpenMC using flux or current tallies, and energy bins."
   ]
  }
 ],
 "metadata": {
  "interpreter": {
   "hash": "388a69045c46a6cab693fa82e98fd7f2d33e04d9f9ebcb2c17dde5f00932fece"
  },
  "kernelspec": {
   "display_name": "Python 3 (ipykernel)",
   "language": "python",
   "name": "python3"
  },
  "language_info": {
   "codemirror_mode": {
    "name": "ipython",
    "version": 3
   },
   "file_extension": ".py",
   "mimetype": "text/x-python",
   "name": "python",
   "nbconvert_exporter": "python",
   "pygments_lexer": "ipython3",
   "version": "3.10.12"
  }
 },
 "nbformat": 4,
 "nbformat_minor": 4
}
