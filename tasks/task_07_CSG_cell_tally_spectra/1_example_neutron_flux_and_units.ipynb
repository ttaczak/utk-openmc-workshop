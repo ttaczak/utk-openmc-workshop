{
 "cells": [
  {
   "cell_type": "markdown",
   "metadata": {},
   "source": [
    "# Part 1 - Neutron flux and units\n",
    "\n",
    "This example creates a simple sphere of water and tallies neutron flux averaged across a cell.\n"
   ]
  },
  {
   "cell_type": "markdown",
   "metadata": {},
   "source": [
    "This section creates a simple material, geometry and settings. This model is used in both the neutron current tally and the neutron flux tally."
   ]
  },
  {
   "cell_type": "code",
   "execution_count": null,
   "metadata": {},
   "outputs": [],
   "source": [
    "import openmc\n",
    "\n",
    "# MATERIALS\n",
    "\n",
    "# Due to the hydrogen content water is a very good neutron moderator\n",
    "my_material = openmc.Material()\n",
    "my_material.add_element('H', 1, percent_type='ao')\n",
    "my_material.add_element('O', 2, percent_type='ao')\n",
    "my_material.set_density('g/cm3', 1)\n",
    "\n",
    "my_materials = openmc.Materials([my_material])\n",
    "\n",
    "\n",
    "# GEOMETRY\n",
    "\n",
    "# surfaces\n",
    "outer_surface = openmc.Sphere(r=500, boundary_type='vacuum')\n",
    "\n",
    "# cells\n",
    "cell_1 = openmc.Cell(region=-outer_surface)\n",
    "cell_1.fill = my_material\n",
    "# we will need this volume later to convert the flux units\n",
    "cell_1.volume = 5.24e8  # using (4/3)pi * r^3\n",
    "\n",
    "my_geometry = openmc.Geometry([cell_1])\n",
    "\n",
    "\n",
    "# SIMULATION SETTINGS\n",
    "\n",
    "# Instantiate a Settings object\n",
    "my_settings = openmc.Settings()\n",
    "my_settings.batches = 10\n",
    "my_settings.particles = 1000\n",
    "my_settings.run_mode = 'fixed source'\n",
    "\n",
    "# Create a DT point source\n",
    "my_source = openmc.IndependentSource()\n",
    "my_source.space = openmc.stats.Point((0, 0, 0))\n",
    "my_source.angle = openmc.stats.Isotropic()\n",
    "my_source.energy = openmc.stats.Discrete([14e6], [1])\n",
    "my_settings.source = my_source"
   ]
  },
  {
   "cell_type": "markdown",
   "metadata": {},
   "source": [
    "This section section adds a tally for the average neutron flux across a cell."
   ]
  },
  {
   "cell_type": "code",
   "execution_count": null,
   "metadata": {},
   "outputs": [],
   "source": [
    "# sets up filters for the tallies\n",
    "neutron_particle_filter = openmc.ParticleFilter(['neutron'])\n",
    "\n",
    "# setup the filters for the cell tally\n",
    "cell_filter = openmc.CellFilter(cell_1) \n",
    "\n",
    "# create the tally\n",
    "cell_spectra_tally = openmc.Tally(name='cell_flux_tally')\n",
    "cell_spectra_tally.scores = ['flux']\n",
    "cell_spectra_tally.filters = [cell_filter, neutron_particle_filter]\n",
    "my_tallies = openmc.Tallies([cell_spectra_tally])"
   ]
  },
  {
   "cell_type": "markdown",
   "metadata": {},
   "source": [
    "This section adds two surface current tallies - one on the inner sphere surface and one on the outer sphere surface."
   ]
  },
  {
   "cell_type": "markdown",
   "metadata": {},
   "source": [
    "This section runs the simulation."
   ]
  },
  {
   "cell_type": "code",
   "execution_count": null,
   "metadata": {},
   "outputs": [],
   "source": [
    "# combine all the required parts to make a model\n",
    "model = openmc.model.Model(my_geometry, my_materials, my_settings, my_tallies)\n",
    "\n",
    "# remove old files and runs OpenMC\n",
    "!rm *.h5\n",
    "results_filename = model.run()"
   ]
  },
  {
   "cell_type": "markdown",
   "metadata": {},
   "source": [
    "This section extracts the cell tally data from the results file and plots neutron flux across the cell. Selecting log-log scale will allow you to see a distribution of thermal neutrons."
   ]
  },
  {
   "cell_type": "code",
   "execution_count": null,
   "metadata": {},
   "outputs": [],
   "source": [
    "# open the results file\n",
    "results = openmc.StatePoint(results_filename)\n",
    "\n",
    "#extracts the tally values from the simulation results\n",
    "cell_tally = results.get_tally(name='cell_flux_tally')\n",
    "\n",
    "# flattens the ndarray into a 1d array\n",
    "openmc_flux = cell_tally.mean.flatten()\n"
   ]
  },
  {
   "cell_type": "markdown",
   "metadata": {},
   "source": [
    "Discussion on results and units of flux\n",
    "\n",
    "Openmc like most of other neutronics codes accumulates track lengths within cell volumes, i.e the length that a neutron travels in a material.\n",
    "\n",
    "A track length has units of centimeters (cm).\n",
    "\n",
    "Neutronics codes typically make use of cm instead of the SI base unit for length of meters, this is partly historical and partly due to the format of nuclear data files.\n",
    "\n",
    "A flux score on a cell in OpenMC therefore returns the average length that neutrons travel through the cell.\n",
    "\n",
    "As we have simulated many neutrons we can get an average result and as we have batches we can get a standard deviation on that result.\n",
    "\n",
    "OpenMC returns a flux tally in units of \"neutron cm per source neutron\"\n",
    "\n",
    "To convert this into more common units of flux \"neutrons per cm2 per second\" we must first divide by the volume.\n",
    "\n",
    "As this is a cell tally we divide by the cell volume, if this was a mesh tally we would divide by the voxel volume.\n",
    "\n",
    "This gives us units of \"neutrons per cm2 per source neutron\".\n",
    "\n",
    "In a fixed source simulation (not an fission eigenvalue simulation) we can then scale the result by the number of neutrons per second that the source emits.\n",
    "\n",
    "To find the number of neutrons you would typically know the power of the fusion reactor in watts.\n",
    "\n",
    "Assuming we are using DT fuel then we know that each neutron resulted in 17.6MeV or 2.8e-18Joules of energy.\n",
    "\n",
    "Therefore the neutrons per second is power in watts / 2.8e-18. For a 500MW fusion power reactor we would get 500e6/2.8e-18=1.785e+26 neutrons per second\n",
    "\n",
    "So our source strength is 1.785e+26 and we multiply out flux by this to get units of \"neutrons per cm2 per second\"\n",
    "\n",
    "For ICF (Inertial Confinement Fusion) you might use units of per shot instead of per second\n",
    "\n",
    "\n",
    "\n"
   ]
  },
  {
   "cell_type": "code",
   "execution_count": null,
   "metadata": {},
   "outputs": [],
   "source": [
    "volume_of_cell = 5.24e8 # in units of cm3\n",
    "reactor_power = 500e6  # in units of watts\n",
    "energy_of_each_fusion_reaction = 17.5e6 * 1.60218e-19  # eV converted to Joules\n",
    "neutrons_per_second = reactor_power / energy_of_each_fusion_reaction\n",
    "flux = (openmc_flux / volume_of_cell) * neutrons_per_second # divide by cell volume and then multiply by source strength\n",
    "\n",
    "\n",
    "print(f'neutron flux = {flux} neutrons per cm2 per second')"
   ]
  },
  {
   "cell_type": "markdown",
   "metadata": {},
   "source": [
    "**Learning Outcomes for Part 1:**\n",
    "\n",
    "- Neutron flux in found in units of \"neutron cm per source neutron\" but can be converted to \"neutrons per cm2 per second\""
   ]
  }
 ],
 "metadata": {
  "interpreter": {
   "hash": "388a69045c46a6cab693fa82e98fd7f2d33e04d9f9ebcb2c17dde5f00932fece"
  },
  "kernelspec": {
   "display_name": "Python 3 (ipykernel)",
   "language": "python",
   "name": "python3"
  },
  "language_info": {
   "codemirror_mode": {
    "name": "ipython",
    "version": 3
   },
   "file_extension": ".py",
   "mimetype": "text/x-python",
   "name": "python",
   "nbconvert_exporter": "python",
   "pygments_lexer": "ipython3",
   "version": "3.10.12"
  }
 },
 "nbformat": 4,
 "nbformat_minor": 4
}
