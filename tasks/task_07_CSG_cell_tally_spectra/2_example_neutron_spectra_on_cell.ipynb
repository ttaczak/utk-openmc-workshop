{
 "cells": [
  {
   "cell_type": "markdown",
   "metadata": {},
   "source": [
    "# Part 2 - Plotting neutron energy spectra in a cell with progressively improved plotting and tallying techniques\n",
    "\n",
    "This example creates a simple sphere of water and tallies neutron energy distribution averaged across a couple of cell.\n",
    "\n",
    "linear spaced energy bins from 0MeV to 15MeV, then group structure, then lethargy"
   ]
  },
  {
   "cell_type": "code",
   "execution_count": null,
   "metadata": {},
   "outputs": [],
   "source": [
    "from IPython.display import IFrame\n",
    "IFrame(src=\"https://www.youtube.com/embed/qHqAuqMLYPA\", width=560, height=340)"
   ]
  },
  {
   "cell_type": "markdown",
   "metadata": {},
   "source": [
    "This section creates a simple material, geometry and settings. This model is used in both the neutron current tally and the neutron flux tally."
   ]
  },
  {
   "cell_type": "code",
   "execution_count": null,
   "metadata": {},
   "outputs": [],
   "source": [
    "import openmc\n",
    "import numpy as np\n",
    "import matplotlib.pyplot as plt\n",
    "\n",
    "# MATERIALS\n",
    "\n",
    "# Due to the hydrogen content water is a very good neutron moderator\n",
    "my_material = openmc.Material()\n",
    "my_material.add_element('H', 1, percent_type='ao')\n",
    "my_material.add_element('O', 2, percent_type='ao')\n",
    "my_material.set_density('g/cm3', 1)\n",
    "\n",
    "my_materials = openmc.Materials([my_material])\n",
    "\n",
    "\n",
    "# GEOMETRY\n",
    "\n",
    "# surfaces\n",
    "outer_surface = openmc.Sphere(r=100, boundary_type='vacuum')\n",
    "\n",
    "# cells\n",
    "cell_1 = openmc.Cell(region=-outer_surface)\n",
    "cell_1.fill = my_material\n",
    "\n",
    "my_geometry = openmc.Geometry([cell_1])\n",
    "\n",
    "\n",
    "# SIMULATION SETTINGS\n",
    "\n",
    "# Instantiate a Settings object\n",
    "my_settings = openmc.Settings()\n",
    "my_settings.batches = 10\n",
    "my_settings.particles = 10000\n",
    "my_settings.run_mode = 'fixed source'\n",
    "\n",
    "# Create a DT point source\n",
    "my_source = openmc.IndependentSource()\n",
    "my_source.space = openmc.stats.Point((0, 0, 0))\n",
    "my_source.angle = openmc.stats.Isotropic()\n",
    "my_source.energy = openmc.stats.Discrete([14e6], [1])\n",
    "my_settings.source = my_source"
   ]
  },
  {
   "cell_type": "markdown",
   "metadata": {},
   "source": [
    "This section section adds a tally for the average neutron flux across a cell."
   ]
  },
  {
   "cell_type": "code",
   "execution_count": null,
   "metadata": {},
   "outputs": [],
   "source": [
    "# sets up filters for the tallies\n",
    "neutron_particle_filter = openmc.ParticleFilter(['neutron'])\n",
    "\n",
    "# creates an array of 709 linear spaced energy bins from 0MeV to 15MeV\n",
    "# our source is 14MeV so this should capture all the neutron energies in the simulation\n",
    "# there is a disadvantage of using a linear group structure which is covered later in this task\n",
    "energy_filter = openmc.EnergyFilter(np.linspace(0, 15e6, 719))\n",
    "\n",
    "# setup the filters for the cell tally\n",
    "cell_filter = openmc.CellFilter([cell_1]) \n",
    "\n",
    "# create the tally\n",
    "cell_spectra_tally = openmc.Tally(name='cell_spectra_tally')\n",
    "cell_spectra_tally.scores = ['flux']\n",
    "cell_spectra_tally.filters = [cell_filter, neutron_particle_filter, energy_filter]\n",
    "my_tallies = openmc.Tallies([cell_spectra_tally])"
   ]
  },
  {
   "cell_type": "markdown",
   "metadata": {},
   "source": [
    "This section runs the simulation."
   ]
  },
  {
   "cell_type": "code",
   "execution_count": null,
   "metadata": {},
   "outputs": [],
   "source": [
    "# combine all the required parts to make a model\n",
    "model = openmc.model.Model(my_geometry, my_materials, my_settings, my_tallies)\n",
    "\n",
    "# remove old files and runs OpenMC\n",
    "!rm *.h5\n",
    "results_filename = model.run()"
   ]
  },
  {
   "cell_type": "markdown",
   "metadata": {},
   "source": [
    "This section extracts the cell tally data from the results file and plots neutron flux across the cell. Selecting log-log scale will allow you to see a distribution of thermal neutrons."
   ]
  },
  {
   "cell_type": "code",
   "execution_count": null,
   "metadata": {},
   "outputs": [],
   "source": [
    "# open the results file\n",
    "results = openmc.StatePoint(results_filename)\n",
    "\n",
    "#extracts the tally values from the simulation results\n",
    "cell_tally = results.get_tally(name='cell_spectra_tally')\n",
    "\n",
    "# flattens the ndarray into a 1d array\n",
    "flux = cell_tally.mean.flatten()\n",
    "\n",
    "plt.figure()\n",
    " # trim the last energy filter bin edge to make the number of x and y values the same\n",
    "plt.step(energy_filter.values[:-1], flux)\n",
    "plt.yscale('log')\n",
    "plt.xscale('log')\n",
    "plt.ylabel('Flux [neutron cm per source neutron]')  # these are not ideal units but part 3 improves the units\n",
    "plt.show()"
   ]
  },
  {
   "cell_type": "markdown",
   "metadata": {},
   "source": [
    "This plot is not particularly good as the uniform bin width means we don't see all the details in the neutron spectra.\n",
    "\n",
    "We can improve the simulation by using bins that are spaced to capture details in certain parts of the spectra (e.g. thermal neutron energies) \n",
    "\n",
    "This next cell replaces the tally with a spectra tally that makes use of a predefined group structure"
   ]
  },
  {
   "cell_type": "code",
   "execution_count": null,
   "metadata": {},
   "outputs": [],
   "source": [
    "# creates an array of energy bins to use for the tally\n",
    "# these are not linearly spaced as they have extra bins in key energy ranges\n",
    "# A full list of energy structures is available here\n",
    "# https://github.com/openmc-dev/openmc/blob/6254be37582e09acff038f5656332b89e53e4eae/openmc/mgxs/__init__.py#L50-L420\n",
    "energy_filter = openmc.EnergyFilter.from_group_structure('CCFE-709')\n",
    "\n",
    "# setup the filters for the cell tally\n",
    "cell_filter = openmc.CellFilter([cell_1]) \n",
    "\n",
    "# create the tally\n",
    "cell_spectra_tally = openmc.Tally(name='cell_spectra_tally')\n",
    "cell_spectra_tally.scores = ['flux']\n",
    "cell_spectra_tally.filters = [cell_filter, neutron_particle_filter, energy_filter]\n",
    "my_tallies = openmc.Tallies([cell_spectra_tally])"
   ]
  },
  {
   "cell_type": "markdown",
   "metadata": {},
   "source": [
    "This remakes the model wit the new energy filter in the tally and reruns the simulation"
   ]
  },
  {
   "cell_type": "code",
   "execution_count": null,
   "metadata": {},
   "outputs": [],
   "source": [
    "# combine all the required parts to make a model\n",
    "model = openmc.model.Model(my_geometry, my_materials, my_settings, my_tallies)\n",
    "\n",
    "# remove old files and runs OpenMC\n",
    "!rm *.h5\n",
    "results_filename = model.run()"
   ]
  },
  {
   "cell_type": "markdown",
   "metadata": {},
   "source": [
    "This extracts the result and plots the spectrum\n",
    "\n",
    "additionally the units are converted to n/cm2-s\n",
    "\n",
    "The thermal neutron distribution is now much more visible"
   ]
  },
  {
   "cell_type": "code",
   "execution_count": null,
   "metadata": {},
   "outputs": [],
   "source": [
    "# open the results file\n",
    "results = openmc.StatePoint(results_filename)\n",
    "\n",
    "#extracts the tally values from the simulation results\n",
    "cell_tally = results.get_tally(name='cell_spectra_tally')\n",
    "\n",
    "# flattens the ndarray into a 1d array for plotting\n",
    "openmc_flux = cell_tally.mean.flatten()\n",
    "\n",
    "volume_of_cell = 5.24e8 # in units of cm3\n",
    "reactor_power = 500e6  # in units of watts\n",
    "energy_of_each_fusion_reaction = 17.5e6 * 2.8e-18  # eV converted to Joules\n",
    "neutrons_per_second = reactor_power / energy_of_each_fusion_reaction\n",
    "\n",
    "flux = (openmc_flux / volume_of_cell) * neutrons_per_second # divide by cell volume and then multiply by source strength\n",
    "\n",
    "plt.figure()\n",
    " # trim the last energy filter bin edge to make the number of x and y values the same\n",
    "plt.step(energy_filter.values[:-1], flux)\n",
    "plt.xscale('log')\n",
    "plt.yscale('log')\n",
    "plt.ylabel('Flux [n/cm2-s]')\n",
    "plt.xlabel('Energy [eV]')\n",
    "plt.show()"
   ]
  },
  {
   "cell_type": "markdown",
   "metadata": {},
   "source": [
    "We can go one step further and scale with lethargy\n",
    "Background reading links\n",
    "https://gaussling.wordpress.com/2008/05/15/neutron-lethargy-this-weeks-obscure-dimensionless-quantity/\n",
    "https://www.ornl.gov/file/plotting-flux-spectra-keno/display\n",
    "http://profjrwhite.com/rphys_course/NRTlecture_files/NRT_Lesson1_ThmFluxSpectrum.pdf"
   ]
  },
  {
   "cell_type": "code",
   "execution_count": null,
   "metadata": {},
   "outputs": [],
   "source": [
    "bin_boundaries = energy_filter.lethargy_bin_width\n",
    "norm_flux = flux / bin_boundaries\n",
    "\n",
    "plt.figure()\n",
    " # trim the last energy filter bin edge to make the number of x and y values the same\n",
    "plt.step(energy_filter.values[:-1], norm_flux)\n",
    "plt.yscale('log')\n",
    "plt.xscale('log')\n",
    "plt.ylabel('Flux per unit lethargy [n/cm2-s]')\n",
    "plt.xlabel('Energy [eV]')\n",
    "plt.show()"
   ]
  },
  {
   "cell_type": "markdown",
   "metadata": {},
   "source": [
    "#### Additional notes\n",
    "\n",
    "- When comparing these results with other codes it might be necessary to scale them:\n",
    "    - The OpenMC cell flux needs to be divided by the cell volume when comparing with MCNP.\n"
   ]
  },
  {
   "cell_type": "markdown",
   "metadata": {},
   "source": [
    "**Learning Outcomes for Part 1:**\n",
    "\n",
    "- Neutron spectra can be tallied in OpenMC using flux tallies, and energy bins.\n",
    "- Neutron spectra need to be recorded on energy grids with specific structure if the details are to be highlighted\n",
    "- Neutron energy tend to decrease as a function of depth in the materials as they neutrons are down scattered"
   ]
  }
 ],
 "metadata": {
  "interpreter": {
   "hash": "388a69045c46a6cab693fa82e98fd7f2d33e04d9f9ebcb2c17dde5f00932fece"
  },
  "kernelspec": {
   "display_name": "Python 3 (ipykernel)",
   "language": "python",
   "name": "python3"
  },
  "language_info": {
   "codemirror_mode": {
    "name": "ipython",
    "version": 3
   },
   "file_extension": ".py",
   "mimetype": "text/x-python",
   "name": "python",
   "nbconvert_exporter": "python",
   "pygments_lexer": "ipython3",
   "version": "3.10.12"
  }
 },
 "nbformat": 4,
 "nbformat_minor": 4
}
