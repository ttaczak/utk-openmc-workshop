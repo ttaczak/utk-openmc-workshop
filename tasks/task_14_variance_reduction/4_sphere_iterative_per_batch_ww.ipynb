{
 "cells": [
  {
   "attachments": {},
   "cell_type": "markdown",
   "id": "db6c76be-284f-4355-88aa-b4c89b9bbcea",
   "metadata": {},
   "source": [
    "This example has a sphere of concrete with a second smaller shell of concrete\n",
    "surrounding the sphere.\n",
    "\n",
    "The first simulation is analog with no variance reduction / weight windows.\n",
    "This simulation shows that not many neutrons get to the shell and the \n",
    "consequently the neutron spectra on the shell cell is unresolved. Additional\n",
    "batches improve the neutron spectra but it is clear that it would take many\n",
    "batches to get a reasonable neutron spectra.\n",
    "\n",
    "The second simulation makes use of a variance reduction method called weight\n",
    "windows. The value of the weight windows is assigned using the MAGIC method.\n",
    "https://scientific-publications.ukaea.uk/papers/application-of-novel-global-variance-reduction-methods-to-fusion-radiation-transport-problems/\n",
    "The value of the weight windows are updated with each simulated batch and as\n",
    "the simulation runs for longer the weight windows improve gradually as does\n",
    "spectra tally."
   ]
  },
  {
   "cell_type": "code",
   "execution_count": null,
   "id": "ecaafb63-bd33-4597-baf3-8e8cccd32f9c",
   "metadata": {},
   "outputs": [],
   "source": [
    "import openmc\n",
    "# Note this example makes use of OpenMC lib which provides python bindings to\n",
    "# the C/C++ methods in OpenMC and allows more direct control of the Monte Carlo\n",
    "# simulation. In this example we iterate through the batches and access the\n",
    "# tally result each time.\n",
    "# Link to openmc.lib documentation https://docs.openmc.org/en/stable/pythonapi/capi.html\n",
    "import openmc.lib\n",
    "import numpy as np\n",
    "import matplotlib.pyplot as plt"
   ]
  },
  {
   "attachments": {},
   "cell_type": "markdown",
   "id": "1e8755e5-f1f8-4c4f-b142-eb8b1e6e6f84",
   "metadata": {},
   "source": [
    "This makes concrete which is the shielding material for this simulation"
   ]
  },
  {
   "cell_type": "code",
   "execution_count": null,
   "id": "b26aff6f-e542-4c62-af29-9a4f7a793733",
   "metadata": {},
   "outputs": [],
   "source": [
    "mat_concrete = openmc.Material()\n",
    "mat_concrete.add_element(\"H\",0.168759)\n",
    "mat_concrete.add_element(\"C\",0.001416)\n",
    "mat_concrete.add_element(\"O\",0.562524)\n",
    "mat_concrete.add_element(\"Na\",0.011838)\n",
    "mat_concrete.add_element(\"Mg\",0.0014)\n",
    "mat_concrete.add_element(\"Al\",0.021354)\n",
    "mat_concrete.add_element(\"Si\",0.204115)\n",
    "mat_concrete.add_element(\"K\",0.005656)\n",
    "mat_concrete.add_element(\"Ca\",0.018674)\n",
    "mat_concrete.add_element(\"Fe\",0.00426)\n",
    "mat_concrete.set_density(\"g/cm3\", 2.3)\n",
    "\n",
    "my_materials = openmc.Materials([mat_concrete])"
   ]
  },
  {
   "attachments": {},
   "cell_type": "markdown",
   "id": "78616dec-bac6-405e-bcfc-b0724670d209",
   "metadata": {},
   "source": [
    "This makes the spherical geometry"
   ]
  },
  {
   "cell_type": "code",
   "execution_count": null,
   "id": "0cb35d51-3d94-48a3-98fa-804a3195383a",
   "metadata": {},
   "outputs": [],
   "source": [
    "# surfaces\n",
    "surf1 = openmc.Sphere(r=170)\n",
    "outer_surface = openmc.Sphere(r=200, boundary_type=\"vacuum\")\n",
    "\n",
    "# regions\n",
    "region_1 = -surf1\n",
    "region_2 = -outer_surface & +surf1\n",
    "\n",
    "# cells\n",
    "cell_1 = openmc.Cell(region=region_1)\n",
    "cell_1.fill = mat_concrete\n",
    "cell_2 = openmc.Cell(region=region_2)\n",
    "cell_2.fill = mat_concrete\n",
    "\n",
    "# settings\n",
    "my_settings = openmc.Settings()\n",
    "\n",
    "my_geometry = openmc.Geometry([cell_1, cell_2])\n",
    "\n",
    "my_geometry.plot(basis='xy', color_by='cell') \n",
    "plt.savefig('geometry_top_down_view.png', bbox_inches=\"tight\")"
   ]
  },
  {
   "attachments": {},
   "cell_type": "markdown",
   "id": "b8be07cf-a90c-4fe9-ab86-44e26b0e6bfa",
   "metadata": {},
   "source": [
    "This code makes a 14MeV neutron point source"
   ]
  },
  {
   "cell_type": "code",
   "execution_count": null,
   "id": "d4868792-6ee6-440e-982c-4698a215c65b",
   "metadata": {},
   "outputs": [],
   "source": [
    "source = openmc.IndependentSource()\n",
    "source.space = openmc.stats.Point((0.0, 0.0, 0.0))\n",
    "source.angle = openmc.stats.Isotropic()\n",
    "source.energy = openmc.stats.Discrete([14e6], [1.0])\n",
    "source.particle = \"neutron\""
   ]
  },
  {
   "attachments": {},
   "cell_type": "markdown",
   "id": "d70dd451-02ff-44d6-9628-84ed2753b578",
   "metadata": {},
   "source": [
    "This section makes the simulation settings"
   ]
  },
  {
   "cell_type": "code",
   "execution_count": null,
   "id": "f11ceb32-f439-4ecd-a99f-fbf0471d9405",
   "metadata": {},
   "outputs": [],
   "source": [
    "my_settings = openmc.Settings()\n",
    "my_settings.run_mode = \"fixed source\"\n",
    "my_settings.source = source\n",
    "my_settings.particles = 50000\n",
    "my_settings.batches = 5\n",
    "my_settings.max_splits = 100  # controls the total number of maximum splits a particle can do over the entire lifetime\n",
    "\n",
    "# the mesh tallies produce large tallies.out files so this output setting avoids writing the tallies.out and saves time\n",
    "my_settings.output = {'tallies': False}"
   ]
  },
  {
   "attachments": {},
   "cell_type": "markdown",
   "id": "e4a965a3-0c7e-4634-9f91-16b0a4325b8d",
   "metadata": {},
   "source": [
    "This section makes the tallies.\n",
    "\n",
    "We have a spherical mesh tally for the getting the flux. This is used to generate the weight windows.\n",
    "\n",
    "We also have a neutron spectra tally to show how the neutrons energy distribution in the outer shell cell is resolved."
   ]
  },
  {
   "cell_type": "code",
   "execution_count": null,
   "id": "a51cd616-b0ff-4322-82db-4608f3082611",
   "metadata": {},
   "outputs": [],
   "source": [
    "my_tallies = openmc.Tallies()\n",
    "\n",
    "# This spherical mesh tally is used for generating the weight windows.\n",
    "mesh = openmc.SphericalMesh(\n",
    "    r_grid = np.linspace(0, outer_surface.r, 5000)\n",
    ")\n",
    "mesh_filter = openmc.MeshFilter(mesh)\n",
    "flux_tally_for_ww = openmc.Tally(name=\"flux tally\")\n",
    "flux_tally_for_ww.filters = [mesh_filter]\n",
    "flux_tally_for_ww.scores = [\"flux\"]\n",
    "flux_tally_for_ww.id = 42\n",
    "my_tallies.append(flux_tally_for_ww)\n",
    "\n",
    "# This spectrum tally is on the outer shell and shows then energy distribution\n",
    "# of neutrons present in the cell.\n",
    "energy_filter = openmc.EnergyFilter.from_group_structure('CCFE-709')\n",
    "surface_filter = openmc.CellFilter(cell_2)\n",
    "outer_surface_spectra_tally = openmc.Tally(name='outer_surface_spectra_tally')\n",
    "outer_surface_spectra_tally.scores = ['current']\n",
    "outer_surface_spectra_tally.filters = [surface_filter, energy_filter]\n",
    "outer_surface_spectra_tally.id = 12\n",
    "my_tallies.append(outer_surface_spectra_tally)"
   ]
  },
  {
   "attachments": {},
   "cell_type": "markdown",
   "id": "f62aacde-8f5e-4fdb-82bd-58f43037b6ac",
   "metadata": {},
   "source": [
    "creates and exports the model to an xml file. When using openmc.lib this\n",
    "export is needed as we don't use the normal model.run() method."
   ]
  },
  {
   "cell_type": "code",
   "execution_count": null,
   "id": "540dde33-25a4-45d9-859f-11ab2e222cfe",
   "metadata": {},
   "outputs": [],
   "source": [
    "model = openmc.model.Model(my_geometry, my_materials, my_settings, my_tallies)\n",
    "!rm *.xml\n",
    "model.export_to_xml()"
   ]
  },
  {
   "attachments": {},
   "cell_type": "markdown",
   "id": "580415f1-d56e-4a4a-b1b4-1ef30aeb92e4",
   "metadata": {},
   "source": [
    "Creates a plotting figure that we will build up with the simulations results. Initially this will be empty but we shall simulate and populate these rows and columns with neutron spectra in the outer shell cell."
   ]
  },
  {
   "cell_type": "code",
   "execution_count": null,
   "id": "ec4a2ecf-ec9e-43a3-b2f1-249ef97aae0e",
   "metadata": {},
   "outputs": [],
   "source": [
    "fig, axs = plt.subplots(my_settings.batches, 2, sharex=True, sharey=True)"
   ]
  },
  {
   "attachments": {},
   "cell_type": "markdown",
   "id": "862c2695-7aec-43e9-9461-0689ceed2482",
   "metadata": {},
   "source": [
    "We run the model in analog mode batch by batch. Each time we plot the spectra\n",
    "tally result. The spectra tally will gradually to get better with each batch\n",
    "as the batches combine to continually improve the result."
   ]
  },
  {
   "cell_type": "code",
   "execution_count": null,
   "id": "ddb7274d-0782-4462-acf1-edf8f99895e6",
   "metadata": {},
   "outputs": [],
   "source": [
    "# this context manager helps close openmc lib when the code indent closes\n",
    "with openmc.lib.run_in_memory():\n",
    "\n",
    "    # gets a live pointer to the tally, this updates as the tally is accumulated\n",
    "    spectra_tally = openmc.lib.tallies[outer_surface_spectra_tally.id]\n",
    "\n",
    "    # simulation_init is needed prior to iter_batches\n",
    "    openmc.lib.simulation_init()\n",
    "\n",
    "    # loops through each batch getting the latest tally result and plotting it\n",
    "    for counter, batch in enumerate(openmc.lib.iter_batches()):\n",
    "\n",
    "        axs[counter][0].step(energy_filter.values[:-1], spectra_tally.mean.flatten())\n",
    "        axs[counter][0].set_title(f'Batch {counter+1}')\n",
    "        axs[counter][0].set_yscale('log')\n",
    "        axs[counter][0].set_xscale('log')\n",
    "\n",
    "    openmc.lib.simulation_finalize()"
   ]
  },
  {
   "attachments": {},
   "cell_type": "markdown",
   "id": "e000825a-033c-4663-8e9f-70390ed54b8e",
   "metadata": {},
   "source": [
    "Now we simulate the same model but with weight windows that are improved on each batch"
   ]
  },
  {
   "attachments": {},
   "cell_type": "markdown",
   "id": "05c69e62-54f8-45b3-919f-f20bb1d3cc80",
   "metadata": {},
   "source": []
  },
  {
   "cell_type": "code",
   "execution_count": null,
   "id": "a7701329-7fba-480c-98de-661969d743b4",
   "metadata": {},
   "outputs": [],
   "source": [
    "# originally we had 2000 particles per batch\n",
    "# on my computer the analog simulation ran with 12470 particles/second\n",
    "# and the weight windows simulation that comes next runs with 87 particles/second\n",
    "# therefore we are going to decrease the settings.particles so that both simulations\n",
    "# get the same amount of compute time. These numbers might differ for your computer.\n",
    "model.settings.particles = int(model.settings.particles*(87/12470))\n",
    "\n",
    "# export the model again so the particles is updated\n",
    "!rm model.xml\n",
    "model.export_to_xml()\n",
    "with openmc.lib.run_in_memory():\n",
    "\n",
    "    # gets a live pointer to the mesh tally that we use to generate the \n",
    "    ww_tally = openmc.lib.tallies[flux_tally_for_ww.id]\n",
    "    # generates a weight window from the tally (which is currently empty)\n",
    "    wws = openmc.lib.WeightWindows.from_tally(ww_tally, particle='neutron')\n",
    "\n",
    "    # You could customise the weight windows by changing this attributes from their defaults\n",
    "    # wws.survival_ratio\n",
    "    # wws.max_lower_bound_ratio\n",
    "    # wws.weight_cutoff\n",
    "    # wws.max_split\n",
    "    \n",
    "    # gets a live pointer to the spectra tally that we will plot with each batch\n",
    "    spectra_tally = openmc.lib.tallies[outer_surface_spectra_tally.id]\n",
    "\n",
    "    # turn the weight windows on\n",
    "    openmc.lib.settings.weight_windows_on = True\n",
    "\n",
    "    openmc.lib.simulation_init()\n",
    "    for counter, batch in enumerate(openmc.lib.iter_batches()):\n",
    "\n",
    "        # updates the weight window with the latest mesh tally flux results \n",
    "        wws.update_magic(ww_tally)\n",
    "\n",
    "        # plots the spectra tally for the batch\n",
    "        axs[counter][1].step(energy_filter.values[:-1], spectra_tally.mean.flatten())\n",
    "        axs[counter][1].set_title(f'Batch {counter+1}')\n",
    "        axs[counter][1].set_yscale('log')\n",
    "        axs[counter][1].set_xscale('log')\n",
    "\n",
    "    openmc.lib.simulation_finalize()\n"
   ]
  },
  {
   "cell_type": "code",
   "execution_count": null,
   "id": "73db1d34-39f5-4065-9113-fe27cf654c1a",
   "metadata": {},
   "outputs": [],
   "source": [
    "# sets titles, labels and saves the plot\n",
    "axs[0][0].set_title('Analog simulation')\n",
    "axs[0][1].set_title('Iterative weight windows simulation')\n",
    "axs[4][1].set_xlabel(f'Energy [eV]')\n",
    "axs[4][0].set_xlabel(f'Energy [eV]')\n",
    "fig.savefig('improving_spectra_with_ww_iteration.jpg', bbox_inches=\"tight\")\n",
    "# plt.show()\n",
    "from IPython.display import Image\n",
    "Image('improving_spectra_with_ww_iteration.jpg')"
   ]
  },
  {
   "attachments": {},
   "cell_type": "markdown",
   "id": "b2c74788-8de5-4be7-9263-7f988fc43890",
   "metadata": {},
   "source": [
    "In the left hand side colum we see that just running a non varience reduction simulation and only occational neutrons get to the outer shell cell to contribute to the tally. This would take a long time to converge the spectra.\n",
    "\n",
    "However with weight windows we see the tally results are developing relatively quickly and we can start to see some spectra structure after just a few batches.\n",
    "\n",
    "We have previously seen flux maps benefit from weight windows but this example showed that spectra simulations can also be improved.\n",
    "\n",
    "The other difference is that we are improving the weight window each batch instead of each simulation. This is quite fine grain evolution of the weight windows. The finaly tally result ends up getting contributions from several batches where each batch has different weight windows."
   ]
  }
 ],
 "metadata": {
  "kernelspec": {
   "display_name": "Python 3 (ipykernel)",
   "language": "python",
   "name": "python3"
  },
  "language_info": {
   "codemirror_mode": {
    "name": "ipython",
    "version": 3
   },
   "file_extension": ".py",
   "mimetype": "text/x-python",
   "name": "python",
   "nbconvert_exporter": "python",
   "pygments_lexer": "ipython3",
   "version": "3.9.16"
  }
 },
 "nbformat": 4,
 "nbformat_minor": 5
}
