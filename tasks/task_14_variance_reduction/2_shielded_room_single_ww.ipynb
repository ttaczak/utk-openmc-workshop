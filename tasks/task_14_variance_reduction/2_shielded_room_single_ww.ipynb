{
 "cells": [
  {
   "attachments": {},
   "cell_type": "markdown",
   "id": "72e0b25d-e541-4e8d-8805-b984374ee53d",
   "metadata": {},
   "source": [
    "# Variance Reduction - Weight Windows\n",
    "\n",
    "## Creating and utilizing a wight window to accelerate deep shielding simulations\n",
    "\n",
    "This example simulates a shield room / bunker with corridor entrance a neutron source in the center of the room with. This example implements a single step of the Magic method of weight window generation. \n",
    "\n",
    "In this tutorial we shall focus on generating a weight window to accelerate the simulation of particles through a shield.\n",
    "\n",
    "Weight Windows are found using the MAGIC method and used to accelerate the simulation.\n",
    "\n",
    "The variance reduction method used for this simulation is well documented in the OpenMC documentation\n",
    "https://docs.openmc.org/en/stable/methods/neutron_physics.html\n",
    "\n",
    "The MAGIC method is well described in the original publication\n",
    "https://scientific-publications.ukaea.uk/wp-content/uploads/Published/INTERN1.pdf\n"
   ]
  },
  {
   "attachments": {},
   "cell_type": "markdown",
   "id": "f00eddb1-1e3a-4973-ba0c-d8feeb2a6704",
   "metadata": {},
   "source": [
    "First we import ```openmc``` and other packages needed for the example"
   ]
  },
  {
   "cell_type": "code",
   "execution_count": null,
   "id": "3448d1db-4328-42e3-8960-50d53896f541",
   "metadata": {},
   "outputs": [],
   "source": [
    "import time  # used to time the simulation\n",
    "\n",
    "import openmc\n",
    "\n",
    "from matplotlib import pyplot as plt\n",
    "from matplotlib.colors import LogNorm  # used for plotting log scale graphs\n",
    "\n",
    "import numpy as np"
   ]
  },
  {
   "attachments": {},
   "cell_type": "markdown",
   "id": "8179e89a-304b-4684-91a9-8a908b75e8cd",
   "metadata": {},
   "source": [
    "We create a couple of materials for the simulation"
   ]
  },
  {
   "cell_type": "code",
   "execution_count": null,
   "id": "47cb21c7-0afa-446c-9a6b-76c8dfb2f93e",
   "metadata": {},
   "outputs": [],
   "source": [
    "mat_air = openmc.Material(name=\"Air\")\n",
    "mat_air.add_element(\"N\", 0.784431)\n",
    "mat_air.add_element(\"O\", 0.210748)\n",
    "mat_air.add_element(\"Ar\", 0.0046)\n",
    "mat_air.set_density(\"g/cc\", 0.001205)\n",
    "\n",
    "mat_concrete = openmc.Material()\n",
    "mat_concrete.add_element(\"H\",0.168759)\n",
    "mat_concrete.add_element(\"C\",0.001416)\n",
    "mat_concrete.add_element(\"O\",0.562524)\n",
    "mat_concrete.add_element(\"Na\",0.011838)\n",
    "mat_concrete.add_element(\"Mg\",0.0014)\n",
    "mat_concrete.add_element(\"Al\",0.021354)\n",
    "mat_concrete.add_element(\"Si\",0.204115)\n",
    "mat_concrete.add_element(\"K\",0.005656)\n",
    "mat_concrete.add_element(\"Ca\",0.018674)\n",
    "mat_concrete.add_element(\"Fe\",0.00426)\n",
    "mat_concrete.set_density(\"g/cm3\", 2.3)\n",
    "\n",
    "materials = openmc.Materials([mat_air, mat_concrete])"
   ]
  },
  {
   "attachments": {},
   "cell_type": "markdown",
   "id": "424b234c-48a2-4d1b-b374-f69430e464db",
   "metadata": {},
   "source": [
    "Now we define and plot the geometry. This geometry is define by parameters for every width and height. The parameters input into the geometry in a stacked manner so they can easily be adjusted to change the geometry without creating overlapping cells."
   ]
  },
  {
   "cell_type": "code",
   "execution_count": null,
   "id": "a72dc5e3-cb8e-41c2-9cfb-f8f7489c7f44",
   "metadata": {},
   "outputs": [],
   "source": [
    "width_a = 100\n",
    "width_b = 100\n",
    "width_c = 500\n",
    "width_d = 100\n",
    "width_e = 100\n",
    "width_f = 100\n",
    "width_g = 100\n",
    "\n",
    "depth_a = 100\n",
    "depth_b = 100\n",
    "depth_c = 700\n",
    "depth_d = 600\n",
    "depth_e = 100\n",
    "depth_f = 100\n",
    "\n",
    "height_j = 100\n",
    "height_k = 500\n",
    "height_l = 100\n",
    "\n",
    "xplane_0 = openmc.XPlane(x0=0, boundary_type=\"vacuum\")\n",
    "xplane_1 = openmc.XPlane(x0=xplane_0.x0 + width_a)\n",
    "xplane_2 = openmc.XPlane(x0=xplane_1.x0 + width_b)\n",
    "xplane_3 = openmc.XPlane(x0=xplane_2.x0 + width_c)\n",
    "xplane_4 = openmc.XPlane(x0=xplane_3.x0 + width_d)\n",
    "xplane_5 = openmc.XPlane(x0=xplane_4.x0 + width_e)\n",
    "xplane_6 = openmc.XPlane(x0=xplane_5.x0 + width_f)\n",
    "xplane_7 = openmc.XPlane(x0=xplane_6.x0 + width_g, boundary_type=\"vacuum\")\n",
    "\n",
    "yplane_0 = openmc.YPlane(y0=0, boundary_type=\"vacuum\")\n",
    "yplane_1 = openmc.YPlane(y0=yplane_0.y0 + depth_a)\n",
    "yplane_2 = openmc.YPlane(y0=yplane_1.y0 + depth_b)\n",
    "yplane_3 = openmc.YPlane(y0=yplane_2.y0 + depth_c)\n",
    "yplane_4 = openmc.YPlane(y0=yplane_3.y0 + depth_d)\n",
    "yplane_5 = openmc.YPlane(y0=yplane_4.y0 + depth_e)\n",
    "yplane_6 = openmc.YPlane(y0=yplane_5.y0 + depth_f, boundary_type=\"vacuum\")\n",
    "\n",
    "zplane_1 = openmc.ZPlane(z0=0, boundary_type=\"vacuum\")\n",
    "zplane_2 = openmc.ZPlane(z0=zplane_1.z0 + height_j)\n",
    "zplane_3 = openmc.ZPlane(z0=zplane_2.z0 + height_k)\n",
    "zplane_4 = openmc.ZPlane(z0=zplane_3.z0 + height_l, boundary_type=\"vacuum\")\n",
    "\n",
    "outside_left_region = +xplane_0 & -xplane_1 & +yplane_1 & -yplane_5 & +zplane_1 & -zplane_4\n",
    "wall_left_region = +xplane_1 & -xplane_2 & +yplane_2 & -yplane_4 & +zplane_2 & -zplane_3\n",
    "wall_right_region = +xplane_5 & -xplane_6 & +yplane_2 & -yplane_5 & +zplane_2 & -zplane_3\n",
    "wall_top_region = +xplane_1 & -xplane_4 & +yplane_4 & -yplane_5 & +zplane_2 & -zplane_3\n",
    "outside_top_region = +xplane_0 & -xplane_7 & +yplane_5 & -yplane_6 & +zplane_1 & -zplane_4\n",
    "wall_bottom_region = +xplane_1 & -xplane_6 & +yplane_1 & -yplane_2 & +zplane_2 & -zplane_3\n",
    "outside_bottom_region = +xplane_0 & -xplane_7 & +yplane_0 & -yplane_1 & +zplane_1 & -zplane_4\n",
    "wall_middle_region = +xplane_3 & -xplane_4 & +yplane_3 & -yplane_4 & +zplane_2 & -zplane_3\n",
    "outside_right_region = +xplane_6 & -xplane_7 & +yplane_1 & -yplane_5 & +zplane_1 & -zplane_4\n",
    "\n",
    "room_region = +xplane_2 & -xplane_3 & +yplane_2 & -yplane_4 & +zplane_2 & -zplane_3\n",
    "gap_region = +xplane_3 & -xplane_4 & +yplane_2 & -yplane_3 & +zplane_2 & -zplane_3\n",
    "corridor_region = +xplane_4 & -xplane_5 & +yplane_2 & -yplane_5 & +zplane_2 & -zplane_3\n",
    "\n",
    "roof_region = +xplane_1 & -xplane_6 & +yplane_1 & -yplane_5 & +zplane_1 & -zplane_2\n",
    "floor_region = +xplane_1 & -xplane_6 & +yplane_1 & -yplane_5 & +zplane_3 & -zplane_4\n",
    "\n",
    "outside_left_cell = openmc.Cell(region=outside_left_region, fill=mat_air)\n",
    "outside_right_cell = openmc.Cell(region=outside_right_region, fill=mat_air)\n",
    "outside_top_cell = openmc.Cell(region=outside_top_region, fill=mat_air)\n",
    "outside_bottom_cell = openmc.Cell(region=outside_bottom_region, fill=mat_air)\n",
    "wall_left_cell = openmc.Cell(region=wall_left_region, fill=mat_concrete)\n",
    "wall_right_cell = openmc.Cell(region=wall_right_region, fill=mat_concrete)\n",
    "wall_top_cell = openmc.Cell(region=wall_top_region, fill=mat_concrete)\n",
    "wall_bottom_cell = openmc.Cell(region=wall_bottom_region, fill=mat_concrete)\n",
    "wall_middle_cell = openmc.Cell(region=wall_middle_region, fill=mat_concrete)\n",
    "room_cell = openmc.Cell(region=room_region, fill=mat_air)\n",
    "gap_cell = openmc.Cell(region=gap_region, fill=mat_air)\n",
    "corridor_cell = openmc.Cell(region=corridor_region, fill=mat_air)\n",
    "\n",
    "roof_cell = openmc.Cell(region=roof_region, fill=mat_concrete)\n",
    "floor_cell = openmc.Cell(region=floor_region, fill=mat_concrete)\n",
    "\n",
    "geometry = openmc.Geometry(\n",
    "    [\n",
    "        outside_bottom_cell,\n",
    "        outside_top_cell,\n",
    "        outside_left_cell,\n",
    "        outside_right_cell,\n",
    "        wall_left_cell,\n",
    "        wall_right_cell,\n",
    "        wall_top_cell,\n",
    "        wall_bottom_cell,\n",
    "        wall_middle_cell,\n",
    "        room_cell,\n",
    "        gap_cell,\n",
    "        corridor_cell,\n",
    "        roof_cell,\n",
    "        floor_cell,\n",
    "    ]\n",
    ")"
   ]
  },
  {
   "attachments": {},
   "cell_type": "markdown",
   "id": "51713fe1",
   "metadata": {},
   "source": [
    "Now we plot the geometry and color by materials."
   ]
  },
  {
   "cell_type": "code",
   "execution_count": null,
   "id": "94c41f17",
   "metadata": {},
   "outputs": [],
   "source": [
    "plot = geometry.plot(basis='xz',  color_by='material')\n",
    "plot.figure.savefig('geometry_top_down_view.png', bbox_inches=\"tight\")"
   ]
  },
  {
   "attachments": {},
   "cell_type": "markdown",
   "id": "8d6bd790",
   "metadata": {},
   "source": [
    "Next we create a point source, this also uses the same geometry parameters to place in the center of the room regardless of the values of the parameters."
   ]
  },
  {
   "cell_type": "code",
   "execution_count": null,
   "id": "fd4986b0",
   "metadata": {},
   "outputs": [],
   "source": [
    "# location of the point source\n",
    "source_x = width_a + width_b + width_c * 0.5\n",
    "source_y = depth_a + depth_b + depth_c * 0.75\n",
    "source_z = height_j + height_k * 0.5\n",
    "space = openmc.stats.Point((source_x, source_y, source_z))\n",
    "\n",
    "angle = openmc.stats.Isotropic()\n",
    "\n",
    "# all (100%) of source particles are 2.5MeV energy\n",
    "energy = openmc.stats.Discrete([2.5e6], [1.0])\n",
    "\n",
    "source = openmc.IndependentSource(space=space, angle=angle, energy=energy)\n",
    "source.particle = \"neutron\""
   ]
  },
  {
   "attachments": {},
   "cell_type": "markdown",
   "id": "1456ac2f",
   "metadata": {},
   "source": [
    "Next we create a mesh that encompasses the entire geometry and scores neutron flux"
   ]
  },
  {
   "cell_type": "code",
   "execution_count": null,
   "id": "9d7bbee6",
   "metadata": {},
   "outputs": [],
   "source": [
    "mesh = openmc.RegularMesh().from_domain(geometry)\n",
    "mesh.dimension = (500, 500, 1)\n",
    "\n",
    "mesh_filter = openmc.MeshFilter(mesh, filter_id=1)\n",
    "particle_filter = openmc.ParticleFilter('neutron', filter_id=2)\n",
    "\n",
    "flux_tally = openmc.Tally(name=\"flux tally\")\n",
    "flux_tally.filters = [mesh_filter, particle_filter]\n",
    "flux_tally.scores = [\"flux\"]\n",
    "flux_tally.id = 42  # we set the ID because we need to access this later\n",
    "\n",
    "tallies = openmc.Tallies([flux_tally])"
   ]
  },
  {
   "attachments": {},
   "cell_type": "markdown",
   "id": "2bc34eac",
   "metadata": {},
   "source": [
    "Creates the simulation settings"
   ]
  },
  {
   "cell_type": "code",
   "execution_count": null,
   "id": "ea32fb73",
   "metadata": {},
   "outputs": [],
   "source": [
    "settings = openmc.Settings()\n",
    "\n",
    "settings.run_mode = \"fixed source\"\n",
    "settings.source = source\n",
    "settings.particles = 80000\n",
    "settings.batches = 5\n",
    "# no need to write the tallies.out file which saves space and time when large meshes are used\n",
    "settings.output = {'tallies': False}"
   ]
  },
  {
   "attachments": {},
   "cell_type": "markdown",
   "id": "9bc4e52b",
   "metadata": {},
   "source": [
    "Creates and export the model"
   ]
  },
  {
   "cell_type": "code",
   "execution_count": null,
   "id": "6d8042a5",
   "metadata": {},
   "outputs": [],
   "source": [
    "model = openmc.Model(geometry, materials, settings, tallies)"
   ]
  },
  {
   "attachments": {},
   "cell_type": "markdown",
   "id": "45a794dc",
   "metadata": {},
   "source": [
    "We are going to plot the mesh results with and without weight windows so lets write a function for the plotting"
   ]
  },
  {
   "cell_type": "code",
   "execution_count": null,
   "id": "05d44467",
   "metadata": {},
   "outputs": [],
   "source": [
    "def plot_mesh_tally(statepoint_filename, image_filename):\n",
    "\n",
    "    with openmc.StatePoint(statepoint_filename) as sp:\n",
    "        flux_tally = sp.get_tally(name=\"flux tally\")\n",
    "\n",
    "    mesh_extent = mesh.bounding_box.extent['xy']\n",
    "\n",
    "    # get a slice of mean values on the xy basis mid z axis\n",
    "    flux_mean = flux_tally.get_reshaped_data(value='mean', expand_dims=True).squeeze()\n",
    "    # create a plot of the mean flux values\n",
    "    plt.imshow(\n",
    "        flux_mean.T,\n",
    "        origin=\"lower\",\n",
    "        extent=mesh_extent,\n",
    "        norm=LogNorm(),\n",
    "    )\n",
    "    plt.title(\"Flux Mean\")\n",
    "\n",
    "    plt.savefig(image_filename)"
   ]
  },
  {
   "attachments": {},
   "cell_type": "markdown",
   "id": "a722260e",
   "metadata": {},
   "source": [
    "Now we run the model without weight windows"
   ]
  },
  {
   "cell_type": "code",
   "execution_count": null,
   "id": "2a9f077f",
   "metadata": {},
   "outputs": [],
   "source": [
    "# this helps time the simulation\n",
    "t0 = time.time()\n",
    "\n",
    "no_ww_statepoint_filename = model.run()\n",
    "\n",
    "print(f'total time without weight windows {int(time.time()-t0)}s')\n",
    "\n",
    "plot_mesh_tally(no_ww_statepoint_filename, 'no_ww_statepoint_filename.png')"
   ]
  },
  {
   "attachments": {},
   "cell_type": "markdown",
   "id": "488391db",
   "metadata": {},
   "source": [
    "Now we want to run the same model but with weight windows.\n",
    "\n",
    "We make use of openmc WeightWindowGenerator to make a WeightWindows object\n",
    "\n",
    "https://docs.openmc.org/en/stable/pythonapi/generated/openmc.WeightWindows.html\n",
    "https://docs.openmc.org/en/latest/pythonapi/generated/openmc.WeightWindowGenerator.html"
   ]
  },
  {
   "cell_type": "code",
   "execution_count": null,
   "id": "9159a336",
   "metadata": {},
   "outputs": [],
   "source": [
    "wwg = openmc.WeightWindowGenerator(\n",
    "    mesh=mesh,  # this is the mesh that covers the geometry\n",
    "    energy_bounds=np.linspace(0.0, 2.5e6, 10),  # 10 energy bins from 0 to max source energy\n",
    "    particle_type='neutron',\n",
    ")\n",
    "\n",
    "# The simulation with Weight Windows takes more time per particle because particles are splitting\n",
    "# and take more time from birth to termination for the particle including all the split particles\n",
    "# we are reducing the number of particles so this simulation takes a similar amount of time\n",
    "# to the previous simulation that didn't use weight windows. So we can make a fair comparison\n",
    "model.settings.particles = 4900\n",
    "model.settings.max_splits = 1_000  # controls the maximum partile splits over the entire lifetime of the particle\n",
    "model.settings.weight_window_generators = wwg"
   ]
  },
  {
   "attachments": {},
   "cell_type": "markdown",
   "id": "79ec2340",
   "metadata": {},
   "source": [
    "Now we run the model with Weight Windows enabled and being generated during the simulation."
   ]
  },
  {
   "cell_type": "code",
   "execution_count": null,
   "id": "e6f60d98",
   "metadata": {},
   "outputs": [],
   "source": [
    "# this helps time the simulation\n",
    "t0 = time.time()\n",
    "\n",
    "ww_statepoint_filename = model.run()\n",
    "\n",
    "t1 = time.time()\n",
    "\n",
    "print(f'total time with weight windows {int(t1-t0)}s')\n",
    "\n",
    "plot_mesh_tally(ww_statepoint_filename, 'ww.png')"
   ]
  },
  {
   "attachments": {},
   "cell_type": "markdown",
   "id": "fb2e6068-446c-4ce4-8555-56b16af5c1b3",
   "metadata": {},
   "source": [
    "You might have to fine tune the particle numbers to get the two simulations taking exactly the same amount of time to make it a fair test.\n",
    "\n",
    "However on this laptop both simulations tok 30 seconds and it is clear from the two images that the weight window simulation was more efficient at getting particles through the shielding.\n",
    "\n",
    "Weight windows can be fine tuned for a specific problem to improve their performance.\n",
    "\n",
    "openmc.lib allows fine control over the weight window creation and that is covered in the next notebooks."
   ]
  },
  {
   "cell_type": "code",
   "execution_count": null,
   "id": "09d8d704-75e5-4339-9ff0-da64ae79721c",
   "metadata": {},
   "outputs": [],
   "source": []
  }
 ],
 "metadata": {
  "kernelspec": {
   "display_name": "Python 3 (ipykernel)",
   "language": "python",
   "name": "python3"
  },
  "language_info": {
   "codemirror_mode": {
    "name": "ipython",
    "version": 3
   },
   "file_extension": ".py",
   "mimetype": "text/x-python",
   "name": "python",
   "nbconvert_exporter": "python",
   "pygments_lexer": "ipython3",
   "version": "3.9.16"
  }
 },
 "nbformat": 4,
 "nbformat_minor": 5
}
