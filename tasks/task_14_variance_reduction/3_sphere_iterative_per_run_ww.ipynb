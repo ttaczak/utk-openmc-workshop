{
 "cells": [
  {
   "attachments": {},
   "cell_type": "markdown",
   "id": "72e0b25d-e541-4e8d-8805-b984374ee53d",
   "metadata": {},
   "source": [
    "# Variance Reduction - Weight Windows\n",
    "\n",
    "## Iteratively creating and utilizing a wight window to accelerate deep shielding simulations\n",
    "\n",
    "This example simulates a sphere of material with a neutron source in the center.This example implements the MAGIC method of weight window generation on each simulation run.\n",
    "\n",
    "In this tutorial we shall focus on generating a weight window to accelerate the simulation of particles through a shield and improving the weight window with each iteration.\n",
    "\n",
    "Weight Windows are found using the MAGIC method and used to accelerate the simulation.\n",
    "\n",
    "The variance reduction method used for this simulation is well documented in the OpenMC documentation\n",
    "https://docs.openmc.org/en/stable/methods/neutron_physics.html\n",
    "\n",
    "The MAGIC method is well described in the original publication\n",
    "https://scientific-publications.ukaea.uk/wp-content/uploads/Published/INTERN1.pdf\n"
   ]
  },
  {
   "attachments": {},
   "cell_type": "markdown",
   "id": "f00eddb1-1e3a-4973-ba0c-d8feeb2a6704",
   "metadata": {},
   "source": [
    "First we import ```openmc``` including ```openmc.lib``` and other packages needed for the example"
   ]
  },
  {
   "cell_type": "code",
   "execution_count": null,
   "id": "3448d1db-4328-42e3-8960-50d53896f541",
   "metadata": {},
   "outputs": [],
   "source": [
    "import openmc\n",
    "import openmc.lib  # this example makes use of openmc lib to run the simulations\n",
    "\n",
    "from matplotlib import pyplot as plt\n",
    "from matplotlib.colors import LogNorm  # used for plotting log scale graphs"
   ]
  },
  {
   "attachments": {},
   "cell_type": "markdown",
   "id": "8179e89a-304b-4684-91a9-8a908b75e8cd",
   "metadata": {},
   "source": [
    "We create a couple of materials for the simulation"
   ]
  },
  {
   "cell_type": "code",
   "execution_count": null,
   "id": "47cb21c7-0afa-446c-9a6b-76c8dfb2f93e",
   "metadata": {},
   "outputs": [],
   "source": [
    "mat_water = openmc.Material()\n",
    "mat_water.add_element(\"H\", 1)\n",
    "mat_water.add_element(\"O\", 2)\n",
    "mat_water.set_density(\"g/cm3\", 1.0)\n",
    "\n",
    "my_materials = openmc.Materials([mat_water])"
   ]
  },
  {
   "attachments": {},
   "cell_type": "markdown",
   "id": "424b234c-48a2-4d1b-b374-f69430e464db",
   "metadata": {},
   "source": [
    "Now we define and plot the spherical geometry."
   ]
  },
  {
   "cell_type": "code",
   "execution_count": null,
   "id": "a72dc5e3-cb8e-41c2-9cfb-f8f7489c7f44",
   "metadata": {},
   "outputs": [],
   "source": [
    "# outer surface at 500 cm\n",
    "outer_surface = openmc.model.RectangularParallelepiped(-300, 300, -300, 300, -300, 300, boundary_type=\"vacuum\")\n",
    "\n",
    "# A single region below the surface\n",
    "region_1 = -outer_surface\n",
    "\n",
    "# A single cell full of water\n",
    "cell_1 = openmc.Cell(region=region_1)\n",
    "cell_1.fill = mat_water\n",
    "\n",
    "my_geometry = openmc.Geometry([cell_1])"
   ]
  },
  {
   "attachments": {},
   "cell_type": "markdown",
   "id": "51713fe1",
   "metadata": {},
   "source": [
    "Now we plot the geometry and color by materials."
   ]
  },
  {
   "cell_type": "code",
   "execution_count": null,
   "id": "94c41f17",
   "metadata": {},
   "outputs": [],
   "source": [
    "plot = my_geometry.plot(basis='xy', color_by='material') \n",
    "plot.figure.savefig('geometry_top_down_view.png', bbox_inches=\"tight\")"
   ]
  },
  {
   "attachments": {},
   "cell_type": "markdown",
   "id": "8d6bd790",
   "metadata": {},
   "source": [
    "Next we create a point source, this also uses the same geometry parameters to place in the center of the room regardless of the values of the parameters."
   ]
  },
  {
   "cell_type": "code",
   "execution_count": null,
   "id": "fd4986b0",
   "metadata": {},
   "outputs": [],
   "source": [
    "# location of the point source\n",
    "space = openmc.stats.Point((0, 0, 0))\n",
    "angle = openmc.stats.Isotropic()\n",
    "\n",
    "# all (100%) of source particles are 14MeV energy\n",
    "energy = openmc.stats.Discrete([14e6], [1.0])\n",
    "\n",
    "source = openmc.IndependentSource(space=space, angle=angle, energy=energy)\n",
    "source.particle = \"neutron\""
   ]
  },
  {
   "attachments": {},
   "cell_type": "markdown",
   "id": "1456ac2f",
   "metadata": {},
   "source": [
    "Next we create a mesh that encompasses the entire geometry and scores neutron flux"
   ]
  },
  {
   "cell_type": "code",
   "execution_count": null,
   "id": "9d7bbee6",
   "metadata": {},
   "outputs": [],
   "source": [
    "mesh = openmc.RegularMesh().from_domain(domain=my_geometry, dimension=[20,20,20])\n",
    "\n",
    "mesh_filter = openmc.MeshFilter(mesh)\n",
    "\n",
    "flux_tally = openmc.Tally(name=\"flux tally\")\n",
    "flux_tally.filters = [mesh_filter]\n",
    "flux_tally.scores = [\"flux\"]\n",
    "flux_tally.id = 55  # we set the ID number here as we need to access it during the openmc lib run\n",
    "\n",
    "# adds the mesh tally to the model\n",
    "my_tallies = openmc.Tallies()\n",
    "my_tallies.append(flux_tally)\n",
    "\n",
    "tallies = openmc.Tallies([flux_tally])"
   ]
  },
  {
   "attachments": {},
   "cell_type": "markdown",
   "id": "2bc34eac",
   "metadata": {},
   "source": [
    "Creates the simulation settings"
   ]
  },
  {
   "cell_type": "code",
   "execution_count": null,
   "id": "ea32fb73",
   "metadata": {},
   "outputs": [],
   "source": [
    "my_settings = openmc.Settings()\n",
    "my_settings.run_mode = \"fixed source\"\n",
    "my_settings.source = source\n",
    "my_settings.particles = 120\n",
    "my_settings.batches = 10\n",
    "my_settings.max_splits = 4000  # controls the total number of maximum splits a particle can do over the entire lifetime\n",
    "\n",
    "# no need to write the tallies.out file which saves space and time when large meshes are used\n",
    "my_settings.output = {'tallies': False}"
   ]
  },
  {
   "attachments": {},
   "cell_type": "markdown",
   "id": "9bc4e52b",
   "metadata": {},
   "source": [
    "Creates and export the model"
   ]
  },
  {
   "cell_type": "code",
   "execution_count": null,
   "id": "6d8042a5",
   "metadata": {},
   "outputs": [],
   "source": [
    "model = openmc.Model(my_geometry, my_materials, my_settings, my_tallies)\n",
    "\n",
    "# deletes old input and output files\n",
    "!rm *.xml\n",
    "!rm *.h5\n",
    "\n",
    "model.export_to_xml()  # this is necessary as openmc.lib loads up the model.xml file"
   ]
  },
  {
   "attachments": {},
   "cell_type": "markdown",
   "id": "bf5eeb8b",
   "metadata": {},
   "source": [
    "Now we want to plot the results of the simulation. We want to do this twice to compare the results so I've written this up as a function that we can call."
   ]
  },
  {
   "cell_type": "code",
   "execution_count": null,
   "id": "bc9ec8cb",
   "metadata": {},
   "outputs": [],
   "source": [
    "def plot_mesh_tally_and_weight_window(statepoint_filename, weight_window_filename, image_filename):\n",
    "    \n",
    "    with openmc.StatePoint(statepoint_filename) as sp:\n",
    "        flux_tally = sp.get_tally(name=\"flux tally\")\n",
    "\n",
    "    tally_mesh = flux_tally.find_filter(openmc.MeshFilter).mesh\n",
    "    tally_mesh_extent = tally_mesh.bounding_box.extent['xy']\n",
    "\n",
    "    # get a slice of mean values on the xy basis mid z axis\n",
    "    flux_mean = flux_tally.get_reshaped_data(value='mean', expand_dims=True).squeeze()[:,:,int(mesh.dimension[2]/2)]\n",
    "    plt.subplot(1, 3, 1)\n",
    "    # create a plot of the mean flux values\n",
    "    plt.imshow(\n",
    "        flux_mean.T,\n",
    "        origin=\"lower\",\n",
    "        extent=tally_mesh_extent,\n",
    "        norm=LogNorm(),\n",
    "    )\n",
    "    plt.title(\"Flux Mean\")\n",
    "\n",
    "\n",
    "    plt.subplot(1, 3, 2)\n",
    "    # get a slice of std dev values on the xy basis mid z axis\n",
    "    flux_std_dev = flux_tally.get_reshaped_data(value='std_dev', expand_dims=True).squeeze()[:,:,int(mesh.dimension[1]/2)]\n",
    "    # create a plot of the flux relative error\n",
    "    plt.imshow(\n",
    "        flux_std_dev.T,\n",
    "        origin=\"lower\",\n",
    "        extent=tally_mesh_extent,\n",
    "        norm=LogNorm(),\n",
    "    )\n",
    "    plt.title(\"Flux Std. Dev.\")\n",
    "\n",
    "    wws=openmc.hdf5_to_wws(weight_window_filename)\n",
    "    ww = wws[0]  # get the one and only mesh tally\n",
    "    ww_mesh = ww.mesh  # get the mesh that the weight window is mapped on\n",
    "    ww_mesh_extent = ww_mesh.bounding_box.extent['xy']\n",
    "    reshaped_ww_vals = ww.lower_ww_bounds.reshape(mesh.dimension)\n",
    "    print('reshaped_ww_vals.shape', reshaped_ww_vals.shape)\n",
    "    # slice on XZ basis, midplane Y axis\n",
    "    slice_of_ww = reshaped_ww_vals[:,:,int(mesh.dimension[1]/2)]\n",
    "    plt.subplot(1, 3, 3)\n",
    "    plt.imshow(\n",
    "        slice_of_ww.T,\n",
    "        origin=\"lower\",\n",
    "        extent=ww_mesh_extent,\n",
    "        norm=LogNorm(),\n",
    "    )\n",
    "    plt.title(\"Weight Window lower bound\")\n",
    "\n",
    "    plt.savefig(image_filename, bbox_inches=\"tight\")"
   ]
  },
  {
   "attachments": {},
   "cell_type": "markdown",
   "id": "647a81d8",
   "metadata": {},
   "source": [
    "Now we make use of openmc.lib to control the simulation. Documentation on openmc.lib is here\n",
    "https://docs.openmc.org/en/stable/pythonapi/capi.html\n",
    "\n",
    "We run 5 iterations with each iteration improving the weight window."
   ]
  },
  {
   "cell_type": "code",
   "execution_count": null,
   "id": "9159a336",
   "metadata": {},
   "outputs": [],
   "source": [
    "with openmc.lib.run_in_memory():\n",
    "\n",
    "    # loads up a live pointer to the tally with id=55, at this stage the tally is empty\n",
    "    tally = openmc.lib.tallies[55]\n",
    "\n",
    "    # makes weight windows from the tally, at this stage the values are empty\n",
    "    wws = openmc.lib.WeightWindows.from_tally(tally, particle='neutron')\n",
    "\n",
    "    # You could customise the weight windows by changing this attributes from their defaults\n",
    "    # wws.survival_ratio\n",
    "    # wws.max_lower_bound_ratio\n",
    "    # wws.weight_cutoff\n",
    "    # wws.max_split  # controls the total number of maximum splits a particle can do per mesh voxel\n",
    "\n",
    "    # 5 iterations of weight window improvements\n",
    "    for i in range(5):\n",
    "\n",
    "        # run the simulation\n",
    "        openmc.lib.run()\n",
    "\n",
    "        # improves the weight window with the latest tally results\n",
    "        wws.update_magic(tally)\n",
    "\n",
    "        # we write out the weight window map for plotting later\n",
    "        openmc.lib.export_weight_windows(filename=f'weight_windows{i}.h5')\n",
    "        # we write out the statepoint so that the tally can be plotted later\n",
    "        openmc.lib.statepoint_write(filename=f'statepoint_simulation_{i}.h5')\n",
    "\n",
    "        # turns on the weight windows to ensure they are used\n",
    "        openmc.lib.settings.weight_windows_on = True\n",
    "\n",
    "        # creates a plot of the flux, std_dev and weight window\n",
    "        plot_mesh_tally_and_weight_window(\n",
    "            f'statepoint_simulation_{i}.h5',\n",
    "            f'weight_windows{i}.h5',\n",
    "            f'plot_{i}.png'\n",
    "        )"
   ]
  },
  {
   "attachments": {},
   "cell_type": "markdown",
   "id": "0c6548fc-a538-432f-9694-3092db42b1b4",
   "metadata": {},
   "source": [
    "The iterative improvment of the flux / standard deviation / weight windows with each simulation run can be seen when we plot all the simulation results one after each other."
   ]
  },
  {
   "cell_type": "code",
   "execution_count": null,
   "id": "0b89dd15-1596-4fb8-9988-9b37d38b9b7c",
   "metadata": {},
   "outputs": [],
   "source": [
    "from PIL import Image\n",
    "images = [Image.open(x) for x in [f'plot_{c}.png' for c in range(5)]]\n",
    "widths, heights = zip(*(i.size for i in images))\n",
    "\n",
    "total_height = sum(heights)\n",
    "max_width = max(widths)\n",
    "\n",
    "new_im = Image.new('RGB', (max_width, total_height))\n",
    "y_offset = 0\n",
    "for im in images:\n",
    "  new_im.paste(im, (0,y_offset))\n",
    "  y_offset += im.size[1]\n",
    "new_im.save('flux_std-dev_ww_for_all_simulations_reset.png')\n",
    "new_im"
   ]
  },
  {
   "attachments": {},
   "cell_type": "markdown",
   "id": "d6daa0ba-5a5b-4701-aeaa-d57db34fb485",
   "metadata": {},
   "source": [
    "Learning outcome\n",
    "\n",
    "Weight windows can be incrementally improved by running subsequent simulations.\n",
    "\n",
    "Running lots of small simulations where the weight window can incrementally improve the wieght window and can yields better results that a big single simulation to generate weight windows and a single big simulation to make use of the weight windows.\n",
    "\n",
    "Doing this iteration with openmc.lib means we don't need to reload the nuclear data between simulations which saves time.\n",
    "\n",
    "Additionally we have access to openmc.lib methods which are nessecary for updating the weight window with the MAGIC method and exporting the weight window to a h5 file.\n"
   ]
  },
  {
   "cell_type": "code",
   "execution_count": null,
   "id": "74b59746-2e58-45b4-baeb-37b69244d145",
   "metadata": {},
   "outputs": [],
   "source": []
  }
 ],
 "metadata": {
  "kernelspec": {
   "display_name": "Python 3 (ipykernel)",
   "language": "python",
   "name": "python3"
  },
  "language_info": {
   "codemirror_mode": {
    "name": "ipython",
    "version": 3
   },
   "file_extension": ".py",
   "mimetype": "text/x-python",
   "name": "python",
   "nbconvert_exporter": "python",
   "pygments_lexer": "ipython3",
   "version": "3.9.16"
  }
 },
 "nbformat": 4,
 "nbformat_minor": 5
}
