{
 "cells": [
  {
   "attachments": {},
   "cell_type": "markdown",
   "metadata": {},
   "source": [
    "This example simulates a shield room / bunker with corridor entrance a neutron source in the center of the room.\n",
    "\n",
    "Variance reduction is used to accelerate the simulation.\n",
    "\n",
    "The variance reduction method used for this simulation (survival_biasing) is not as effective as other variance reduction methods available in OpenMC but is the first task in the variance reduction section as it is the simplest to implement.\n",
    "\n",
    "Openmc documentation on survival-biasing\n",
    "https://docs.openmc.org/en/stable/methods/neutron_physics.html#survival-biasing\n"
   ]
  },
  {
   "attachments": {},
   "cell_type": "markdown",
   "metadata": {},
   "source": [
    "First we import openmc and other packages needed for the example"
   ]
  },
  {
   "cell_type": "code",
   "execution_count": null,
   "metadata": {},
   "outputs": [],
   "source": [
    "import openmc\n",
    "from matplotlib import pyplot as plt\n",
    "from matplotlib.colors import LogNorm  # used for plotting log scale graphs"
   ]
  },
  {
   "attachments": {},
   "cell_type": "markdown",
   "metadata": {},
   "source": [
    "We create a couple of materials for the simulation"
   ]
  },
  {
   "cell_type": "code",
   "execution_count": null,
   "metadata": {},
   "outputs": [],
   "source": [
    "mat_air = openmc.Material(name=\"Air\")\n",
    "mat_air.add_element(\"N\", 0.784431)\n",
    "mat_air.add_element(\"O\", 0.210748)\n",
    "mat_air.add_element(\"Ar\", 0.0046)\n",
    "mat_air.set_density(\"g/cc\", 0.001205)\n",
    "\n",
    "mat_concrete = openmc.Material()\n",
    "mat_concrete.add_element(\"H\",0.168759)\n",
    "mat_concrete.add_element(\"C\",0.001416)\n",
    "mat_concrete.add_element(\"O\",0.562524)\n",
    "mat_concrete.add_element(\"Na\",0.011838)\n",
    "mat_concrete.add_element(\"Mg\",0.0014)\n",
    "mat_concrete.add_element(\"Al\",0.021354)\n",
    "mat_concrete.add_element(\"Si\",0.204115)\n",
    "mat_concrete.add_element(\"K\",0.005656)\n",
    "mat_concrete.add_element(\"Ca\",0.018674)\n",
    "mat_concrete.add_element(\"Fe\",0.00426)\n",
    "mat_concrete.set_density(\"g/cm3\", 2.3)\n",
    "\n",
    "materials = openmc.Materials([mat_air, mat_concrete])"
   ]
  },
  {
   "attachments": {},
   "cell_type": "markdown",
   "metadata": {},
   "source": [
    "Now we define and plot the geometry. This geometry is define by parameters for every width and height. The parameters input into the geometry in a stacked manner so they can easily be adjusted to change the geometry without creating overlapping cells."
   ]
  },
  {
   "cell_type": "code",
   "execution_count": null,
   "metadata": {},
   "outputs": [],
   "source": [
    "width_a = 100\n",
    "width_b = 200\n",
    "width_c = 500\n",
    "width_d = 250\n",
    "width_e = 200\n",
    "width_f = 200\n",
    "width_g = 100\n",
    "\n",
    "depth_a = 100\n",
    "depth_b = 200\n",
    "depth_c = 700\n",
    "depth_d = 600\n",
    "depth_e = 200\n",
    "depth_f = 100\n",
    "\n",
    "height_j = 100\n",
    "height_k = 500\n",
    "height_l = 100\n",
    "\n",
    "xplane_0 = openmc.XPlane(x0=0, boundary_type=\"vacuum\")\n",
    "xplane_1 = openmc.XPlane(x0=xplane_0.x0 + width_a)\n",
    "xplane_2 = openmc.XPlane(x0=xplane_1.x0 + width_b)\n",
    "xplane_3 = openmc.XPlane(x0=xplane_2.x0 + width_c)\n",
    "xplane_4 = openmc.XPlane(x0=xplane_3.x0 + width_d)\n",
    "xplane_5 = openmc.XPlane(x0=xplane_4.x0 + width_e)\n",
    "xplane_6 = openmc.XPlane(x0=xplane_5.x0 + width_f)\n",
    "xplane_7 = openmc.XPlane(x0=xplane_6.x0 + width_g, boundary_type=\"vacuum\")\n",
    "\n",
    "yplane_0 = openmc.YPlane(y0=0, boundary_type=\"vacuum\")\n",
    "yplane_1 = openmc.YPlane(y0=yplane_0.y0 + depth_a)\n",
    "yplane_2 = openmc.YPlane(y0=yplane_1.y0 + depth_b)\n",
    "yplane_3 = openmc.YPlane(y0=yplane_2.y0 + depth_c)\n",
    "yplane_4 = openmc.YPlane(y0=yplane_3.y0 + depth_d)\n",
    "yplane_5 = openmc.YPlane(y0=yplane_4.y0 + depth_e)\n",
    "yplane_6 = openmc.YPlane(y0=yplane_5.y0 + depth_f, boundary_type=\"vacuum\")\n",
    "\n",
    "zplane_1 = openmc.ZPlane(z0=0, boundary_type=\"vacuum\")\n",
    "zplane_2 = openmc.ZPlane(z0=zplane_1.z0 + height_j)\n",
    "zplane_3 = openmc.ZPlane(z0=zplane_2.z0 + height_k)\n",
    "zplane_4 = openmc.ZPlane(z0=zplane_3.z0 + height_l, boundary_type=\"vacuum\")\n",
    "\n",
    "outside_left_region = +xplane_0 & -xplane_1 & +yplane_1 & -yplane_5 & +zplane_1 & -zplane_4\n",
    "wall_left_region = +xplane_1 & -xplane_2 & +yplane_2 & -yplane_4 & +zplane_2 & -zplane_3\n",
    "wall_right_region = +xplane_5 & -xplane_6 & +yplane_2 & -yplane_5 & +zplane_2 & -zplane_3\n",
    "wall_top_region = +xplane_1 & -xplane_4 & +yplane_4 & -yplane_5 & +zplane_2 & -zplane_3\n",
    "outside_top_region = +xplane_0 & -xplane_7 & +yplane_5 & -yplane_6 & +zplane_1 & -zplane_4\n",
    "wall_bottom_region = +xplane_1 & -xplane_6 & +yplane_1 & -yplane_2 & +zplane_2 & -zplane_3\n",
    "outside_bottom_region = +xplane_0 & -xplane_7 & +yplane_0 & -yplane_1 & +zplane_1 & -zplane_4\n",
    "wall_middle_region = +xplane_3 & -xplane_4 & +yplane_3 & -yplane_4 & +zplane_2 & -zplane_3\n",
    "outside_right_region = +xplane_6 & -xplane_7 & +yplane_1 & -yplane_5 & +zplane_1 & -zplane_4\n",
    "\n",
    "room_region = +xplane_2 & -xplane_3 & +yplane_2 & -yplane_4 & +zplane_2 & -zplane_3\n",
    "gap_region = +xplane_3 & -xplane_4 & +yplane_2 & -yplane_3 & +zplane_2 & -zplane_3\n",
    "corridor_region = +xplane_4 & -xplane_5 & +yplane_2 & -yplane_5 & +zplane_2 & -zplane_3\n",
    "\n",
    "roof_region = +xplane_1 & -xplane_6 & +yplane_1 & -yplane_5 & +zplane_1 & -zplane_2\n",
    "floor_region = +xplane_1 & -xplane_6 & +yplane_1 & -yplane_5 & +zplane_3 & -zplane_4\n",
    "\n",
    "outside_left_cell = openmc.Cell(region=outside_left_region, fill=mat_air)\n",
    "outside_right_cell = openmc.Cell(region=outside_right_region, fill=mat_air)\n",
    "outside_top_cell = openmc.Cell(region=outside_top_region, fill=mat_air)\n",
    "outside_bottom_cell = openmc.Cell(region=outside_bottom_region, fill=mat_air)\n",
    "wall_left_cell = openmc.Cell(region=wall_left_region, fill=mat_concrete)\n",
    "wall_right_cell = openmc.Cell(region=wall_right_region, fill=mat_concrete)\n",
    "wall_top_cell = openmc.Cell(region=wall_top_region, fill=mat_concrete)\n",
    "wall_bottom_cell = openmc.Cell(region=wall_bottom_region, fill=mat_concrete)\n",
    "wall_middle_cell = openmc.Cell(region=wall_middle_region, fill=mat_concrete)\n",
    "room_cell = openmc.Cell(region=room_region, fill=mat_air)\n",
    "gap_cell = openmc.Cell(region=gap_region, fill=mat_air)\n",
    "corridor_cell = openmc.Cell(region=corridor_region, fill=mat_air)\n",
    "\n",
    "roof_cell = openmc.Cell(region=roof_region, fill=mat_concrete)\n",
    "floor_cell = openmc.Cell(region=floor_region, fill=mat_concrete)\n",
    "\n",
    "geometry = openmc.Geometry(\n",
    "    [\n",
    "        outside_bottom_cell,\n",
    "        outside_top_cell,\n",
    "        outside_left_cell,\n",
    "        outside_right_cell,\n",
    "        wall_left_cell,\n",
    "        wall_right_cell,\n",
    "        wall_top_cell,\n",
    "        wall_bottom_cell,\n",
    "        wall_middle_cell,\n",
    "        room_cell,\n",
    "        gap_cell,\n",
    "        corridor_cell,\n",
    "        roof_cell,\n",
    "        floor_cell,\n",
    "    ]\n",
    ")"
   ]
  },
  {
   "attachments": {},
   "cell_type": "markdown",
   "metadata": {},
   "source": [
    "Now we plot the geometry and color by materials."
   ]
  },
  {
   "cell_type": "code",
   "execution_count": null,
   "metadata": {},
   "outputs": [],
   "source": [
    "plot = geometry.plot(basis='xy', color_by='material') \n",
    "plot.figure.savefig('geometry_top_down_view.png', bbox_inches=\"tight\")"
   ]
  },
  {
   "attachments": {},
   "cell_type": "markdown",
   "metadata": {},
   "source": [
    "Next we create a point source, this also uses the same geometry parameters to place in the center of the room regardless of the values of the parameters."
   ]
  },
  {
   "cell_type": "code",
   "execution_count": null,
   "metadata": {},
   "outputs": [],
   "source": [
    "# location of the point source\n",
    "source_x = width_a + width_b + width_c * 0.5\n",
    "source_y = depth_a + depth_b + depth_c * 0.75\n",
    "source_z = height_j + height_k * 0.5\n",
    "space = openmc.stats.Point((source_x, source_y, source_z))\n",
    "\n",
    "angle = openmc.stats.Isotropic()\n",
    "\n",
    "# all (100%) of source particles are 2.5MeV energy\n",
    "energy = openmc.stats.Discrete([2.5e6], [1.0])\n",
    "\n",
    "source = openmc.IndependentSource(space=space, angle=angle, energy=energy)\n",
    "source.particle = \"neutron\""
   ]
  },
  {
   "attachments": {},
   "cell_type": "markdown",
   "metadata": {},
   "source": [
    "Create a mesh that encompasses the entire geoemtry and scores neutron flux"
   ]
  },
  {
   "cell_type": "code",
   "execution_count": null,
   "metadata": {},
   "outputs": [],
   "source": [
    "mesh = openmc.RegularMesh().from_domain(geometry)\n",
    "mesh.dimension = (100, 100, 1)\n",
    "\n",
    "mesh_filter = openmc.MeshFilter(mesh)\n",
    "particle_filter = openmc.ParticleFilter('neutron')\n",
    "\n",
    "flux_tally = openmc.Tally(name=\"flux tally\")\n",
    "flux_tally.filters = [mesh_filter, particle_filter]\n",
    "flux_tally.scores = [\"flux\"]\n",
    "\n",
    "tallies = openmc.Tallies([flux_tally])"
   ]
  },
  {
   "attachments": {},
   "cell_type": "markdown",
   "metadata": {},
   "source": [
    "Creates the simulation settings"
   ]
  },
  {
   "cell_type": "code",
   "execution_count": null,
   "metadata": {},
   "outputs": [],
   "source": [
    "settings = openmc.Settings()\n",
    "\n",
    "settings.run_mode = \"fixed source\"\n",
    "settings.source = source\n",
    "settings.particles = 2000\n",
    "settings.batches = 5"
   ]
  },
  {
   "attachments": {},
   "cell_type": "markdown",
   "metadata": {},
   "source": [
    "Creates the model"
   ]
  },
  {
   "cell_type": "code",
   "execution_count": null,
   "metadata": {},
   "outputs": [],
   "source": [
    "model = openmc.Model(geometry, materials, settings, tallies)"
   ]
  },
  {
   "attachments": {},
   "cell_type": "markdown",
   "metadata": {},
   "source": [
    "We are going to run this model twice. Once with survival_biasing and once without. This next code bock makes a function so that we can easily run the simulation twice with these two different settings."
   ]
  },
  {
   "cell_type": "code",
   "execution_count": null,
   "metadata": {},
   "outputs": [],
   "source": [
    "def run_and_plot(model, image_filename):\n",
    "\n",
    "    sp_filename = model.run()\n",
    "\n",
    "    with openmc.StatePoint(sp_filename) as sp:\n",
    "        flux_tally = sp.get_tally(name=\"flux tally\")\n",
    "\n",
    "    mesh_extent = mesh.bounding_box.extent['xy']\n",
    "\n",
    "    # create a plot of the mean flux values\n",
    "    flux_mean = flux_tally.get_reshaped_data(value='mean', expand_dims=True).squeeze()\n",
    "    plt.subplot(1, 2, 1)\n",
    "    plt.imshow(\n",
    "        flux_mean.T,\n",
    "        origin=\"lower\",\n",
    "        extent=mesh_extent,\n",
    "        norm=LogNorm(),\n",
    "    )\n",
    "    plt.title(\"Flux Mean\")\n",
    "\n",
    "\n",
    "    plt.subplot(1, 2, 2)\n",
    "    # create a plot of the flux relative error\n",
    "    flux_std_dev = flux_tally.get_reshaped_data(value='std_dev', expand_dims=True).squeeze()\n",
    "    plt.imshow(\n",
    "        flux_std_dev.T,\n",
    "        origin=\"lower\",\n",
    "        extent=mesh_extent,\n",
    "        norm=LogNorm(),\n",
    "    )\n",
    "    plt.title(\"Flux Std. Dev.\")\n",
    "\n",
    "    plt.savefig(image_filename)\n",
    "    return sp"
   ]
  },
  {
   "attachments": {},
   "cell_type": "markdown",
   "metadata": {},
   "source": [
    "Now we run the model without survival_biasing and save the meesh tally image"
   ]
  },
  {
   "cell_type": "code",
   "execution_count": null,
   "metadata": {},
   "outputs": [],
   "source": [
    "run_and_plot(model, \"no_survival_biasing.png\")"
   ]
  },
  {
   "attachments": {},
   "cell_type": "markdown",
   "metadata": {},
   "source": [
    "Now we run the model again with survival_biasing enabled. This needs to me set on the model settings. The values chosen can be fine tunned to the model but for this example we have chosen some values after a little exploration."
   ]
  },
  {
   "cell_type": "code",
   "execution_count": null,
   "metadata": {},
   "outputs": [],
   "source": [
    "model.settings.survival_biasing = True\n",
    "model.settings.cutoff = {\n",
    "    \"weight\": 0.3,  # value needs to be between 0 and 1\n",
    "    \"weight_avg\": 0.9,  # value needs to be between 0 and 1\n",
    "}\n",
    "run_and_plot(model, \"yes_survival_biasing.png\")"
   ]
  },
  {
   "attachments": {},
   "cell_type": "markdown",
   "metadata": {},
   "source": [
    "Comparing the two simulations we notice that the survival_biasing simulation resulted in slightly improved flux tally and a slightly improved standard deviation.\n",
    "\n",
    "This model is used again in the next example that makes use of weight windows and yields more impressive acceleration. "
   ]
  }
 ],
 "metadata": {
  "kernelspec": {
   "display_name": "Python 3 (ipykernel)",
   "language": "python",
   "name": "python3"
  },
  "language_info": {
   "codemirror_mode": {
    "name": "ipython",
    "version": 3
   },
   "file_extension": ".py",
   "mimetype": "text/x-python",
   "name": "python",
   "nbconvert_exporter": "python",
   "pygments_lexer": "ipython3",
   "version": "3.10.12"
  }
 },
 "nbformat": 4,
 "nbformat_minor": 4
}
