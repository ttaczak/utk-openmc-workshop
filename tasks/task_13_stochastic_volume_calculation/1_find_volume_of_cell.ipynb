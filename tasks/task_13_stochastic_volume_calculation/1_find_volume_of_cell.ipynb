{
 "cells": [
  {
   "attachments": {},
   "cell_type": "markdown",
   "metadata": {},
   "source": [
    "# Finding Volume of a Cell by sampling simulation.\n",
    "\n",
    "For the cell in this example we know the volume as it is a sphere.\n",
    "\n",
    "The method in this example can be adapted and then applied to a cell of unknown volume.\n",
    "\n",
    "We have a cell of known volume so that you can see how accurate the method is when the number of samples is increased.\n",
    "\n",
    "OpenMC samples within a provided bounding box and counts the samples that appear within the cell compared to those that appear outside the cell.\n",
    "\n",
    "By knowing the volume of the bounding box (which is a rectangle) one can determine the volume of the cell within that bounding box by looking at the ratio of volumes and samples in side the cell to outside the cell.\n",
    "\n",
    "The diagram shows the equations carried out by OpenMC in the background"
   ]
  },
  {
   "attachments": {},
   "cell_type": "markdown",
   "metadata": {},
   "source": [
    "![stochastic volume calculation openmc](https://user-images.githubusercontent.com/8583900/229852560-ed349d4c-4c4f-4b3e-98d0-c48f14feffe5.png)"
   ]
  },
  {
   "attachments": {},
   "cell_type": "markdown",
   "metadata": {},
   "source": [
    "This first stage sets up the geometry and materials for the simulation."
   ]
  },
  {
   "cell_type": "code",
   "execution_count": null,
   "metadata": {},
   "outputs": [],
   "source": [
    "import openmc\n",
    "\n",
    "\n",
    "# MATERIALS\n",
    "\n",
    "mat_iron = openmc.Material()\n",
    "mat_iron.set_density('g/cm3', 7.75)\n",
    "mat_iron.add_element('Fe', 1.0, percent_type='wo')\n",
    "mat_iron.id = 1 # the id is set so that is can be accessed later from the volume calculation\n",
    "my_materials = openmc.Materials([mat_iron])\n",
    "my_materials.export_to_xml()\n",
    "\n",
    "# GEOMETRY\n",
    "\n",
    "# surfaces\n",
    "outer_surface = openmc.Sphere(r=100, boundary_type='vacuum')\n",
    "\n",
    "# cells\n",
    "vessel_region = -outer_surface\n",
    "vessel_cell = openmc.Cell(region=vessel_region)\n",
    "vessel_cell.id = 1 # the id is set so that is can be accessed later from the volume calculation\n",
    "vessel_cell.fill = mat_iron\n",
    "\n",
    "my_geometry = openmc.Geometry([vessel_cell])\n",
    "my_geometry.export_to_xml()\n",
    "\n",
    "\n",
    "# SIMULATION SETTINGS\n",
    "\n",
    "# Instantiate a Settings object\n",
    "my_settings = openmc.Settings()\n",
    "batches = 10\n",
    "my_settings.batches = batches\n",
    "my_settings.inactive = 0\n",
    "my_settings.particles = 10000\n",
    "my_settings.run_mode = 'fixed source'\n",
    "\n",
    "# Create a DT point source\n",
    "my_source = openmc.IndependentSource()\n",
    "my_source.space = openmc.stats.Point((0, 0, 0))\n",
    "my_source.angle = openmc.stats.Isotropic()\n",
    "my_source.energy = openmc.stats.Discrete([14e6], [1])\n",
    "my_settings.source = my_source"
   ]
  },
  {
   "attachments": {},
   "cell_type": "markdown",
   "metadata": {},
   "source": [
    "This section carries out a volume calculation for the CSG cell. Particles are created randomly within the bounding box (of known volume). Upon creation of particles a check is carried out to see if the particle is also in the CSG volume. The ratio of the particles made in the bounding box to the particles made in the CSG cell is then used to determine the volume of the CSG cell. And error for the CSG cell is also determined."
   ]
  },
  {
   "cell_type": "code",
   "execution_count": null,
   "metadata": {},
   "outputs": [],
   "source": [
    "# volume calculates for materials require a bounding box\n",
    "# you can make the simulation more efficient if the bounding box volume is set to twice the volume of the cell volume\n",
    "lower_left, upper_right = my_geometry.bounding_box\n",
    "\n",
    "material_vol_calc = openmc.VolumeCalculation([mat_iron], 100000, lower_left, upper_right)\n",
    "\n",
    "cell_vol_calc = openmc.VolumeCalculation([vessel_cell], 100000)\n",
    "\n",
    "settings = openmc.Settings()\n",
    "settings.volume_calculations = [cell_vol_calc, material_vol_calc]\n",
    "settings.run_mode = 'volume'\n",
    "settings.export_to_xml()\n",
    "\n",
    "!rm *.h5\n",
    "openmc.run()\n"
   ]
  },
  {
   "attachments": {},
   "cell_type": "markdown",
   "metadata": {},
   "source": [
    "This next section extracts the results from the output files"
   ]
  },
  {
   "cell_type": "code",
   "execution_count": null,
   "metadata": {},
   "outputs": [],
   "source": [
    "\n",
    "cell_vol_calc_results = openmc.VolumeCalculation.from_hdf5('volume_1.h5')\n",
    "print('\\n cell volume', cell_vol_calc_results.volumes[1], 'cm3')  # the [1] is the ID of the cell\n",
    "\n",
    "material_vol_calc_results = openmc.VolumeCalculation.from_hdf5('volume_2.h5')\n",
    "print(' material volume', material_vol_calc_results.volumes[1], 'cm3')  # the [1] is the ID of the material\n",
    "\n",
    "# the cell_vol_calc_results are combined with errors, you can access the\n",
    "# result on its own using the .nominal_value method\n",
    "\n",
    "volume_of_cell_1 = cell_vol_calc_results.volumes[1].nominal_value\n"
   ]
  },
  {
   "attachments": {},
   "cell_type": "markdown",
   "metadata": {},
   "source": [
    "As we know th volume of the cell in this case (4/3PiR^3=4.18879e6cm3 if radius is 100) then we can check the accuracy of the answer against this known value.\n",
    "\n",
    "This method is intended to be used when the cell is more complex and the volume is not known. However for this example we wanted to be able to check.\n",
    "\n",
    "Now try reducing the number of particles and see how the answer varies in accuracy."
   ]
  },
  {
   "cell_type": "code",
   "execution_count": null,
   "metadata": {},
   "outputs": [],
   "source": []
  },
  {
   "attachments": {},
   "cell_type": "markdown",
   "metadata": {},
   "source": [
    "**Learning Outcomes for Task**\n",
    "\n",
    "- The volume of a cell or a material can be found using the stochastic volume method.\n",
    "- Volume found in this way is accompanied by a uncertainty."
   ]
  }
 ],
 "metadata": {
  "interpreter": {
   "hash": "388a69045c46a6cab693fa82e98fd7f2d33e04d9f9ebcb2c17dde5f00932fece"
  },
  "kernelspec": {
   "display_name": "Python 3.8.13 ('openmc_dev')",
   "language": "python",
   "name": "python3"
  },
  "language_info": {
   "codemirror_mode": {
    "name": "ipython",
    "version": 3
   },
   "file_extension": ".py",
   "mimetype": "text/x-python",
   "name": "python",
   "nbconvert_exporter": "python",
   "pygments_lexer": "ipython3",
   "version": "3.9.16"
  }
 },
 "nbformat": 4,
 "nbformat_minor": 4
}
