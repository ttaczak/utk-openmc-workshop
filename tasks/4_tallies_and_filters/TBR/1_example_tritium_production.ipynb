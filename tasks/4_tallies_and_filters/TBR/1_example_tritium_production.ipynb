{
 "cells": [
  {
   "cell_type": "markdown",
   "metadata": {},
   "source": [
    "# Part 1 - Performing Tritium Breeding Ratio (TBR) simulations\n",
    "\n",
    "This python notebook allows users to perform neutronics simulations to tally tritium production."
   ]
  },
  {
   "cell_type": "markdown",
   "metadata": {},
   "source": [
    "This example uses a simple sphere model with a breeder material and a tritium production tally.\n",
    "\n",
    "This first code block makes the geometry, materials and settings for the neutronics model."
   ]
  },
  {
   "cell_type": "code",
   "execution_count": null,
   "metadata": {},
   "outputs": [],
   "source": [
    "import openmc\n",
    "\n",
    "# MATERIALS\n",
    "\n",
    "breeder_material = openmc.Material()  # lithium lead chemical equation is Pb84.2Li15.8\n",
    "breeder_material.add_element('Pb', 84.2, percent_type='ao')\n",
    "# 50% enriched lithium 6, natural percentage of lithium 6 is just 7% \n",
    "breeder_material.add_element('Li', 15.8, percent_type='ao', enrichment=50.0, enrichment_target='Li6', enrichment_type='ao')\n",
    "# we set density using atoms per b-cm units as then when the enrichment changes the dnesity in these units stays the same.\n",
    "# It equates to around 11 g/cm3\n",
    "breeder_material.set_density('atom/b-cm', 3.2720171e-2)\n",
    "\n",
    "\n",
    "steel = openmc.Material()\n",
    "steel.set_density('g/cm3', 7.75)\n",
    "steel.add_element('Fe', 0.95, percent_type='wo')\n",
    "steel.add_element('C', 0.05, percent_type='wo')\n",
    "\n",
    "my_materials = openmc.Materials([breeder_material, steel])\n",
    "\n",
    "\n",
    "# GEOMETRY\n",
    "\n",
    "# surfaces\n",
    "vessel_inner = openmc.Sphere(r=500)\n",
    "first_wall_outer_surface = openmc.Sphere(r=510)\n",
    "breeder_blanket_outer_surface = openmc.Sphere(r=610, boundary_type='vacuum')\n",
    "\n",
    "\n",
    "# cells\n",
    "inner_vessel_region = -vessel_inner\n",
    "inner_vessel_cell = openmc.Cell(region=inner_vessel_region)\n",
    "\n",
    "first_wall_region = -first_wall_outer_surface & +vessel_inner\n",
    "first_wall_cell = openmc.Cell(region=first_wall_region)\n",
    "first_wall_cell.fill = steel\n",
    "\n",
    "breeder_blanket_region = +first_wall_outer_surface & -breeder_blanket_outer_surface\n",
    "breeder_blanket_cell = openmc.Cell(region=breeder_blanket_region)\n",
    "breeder_blanket_cell.fill = breeder_material\n",
    "\n",
    "my_geometry = openmc.Geometry([inner_vessel_cell, first_wall_cell, breeder_blanket_cell])\n",
    "\n",
    "# SOURCE SETTINGS\n",
    "\n",
    "# Create a DT point source\n",
    "my_source = openmc.IndependentSource()\n",
    "my_source.space = openmc.stats.Point((0, 0, 0))\n",
    "my_source.angle = openmc.stats.Isotropic()\n",
    "my_source.energy = openmc.stats.Discrete([14e6], [1])\n",
    "my_settings.source = my_source\n",
    "\n",
    "# SIMULATION SETTINGS\n",
    "\n",
    "# Instantiate a Settings object\n",
    "my_settings = openmc.Settings()\n",
    "my_settings.batches = 10\n",
    "my_settings.inactive = 0 #only useful in eigenvalue problems\n",
    "my_settings.particles = 500\n",
    "my_settings.run_mode = 'fixed source'\n",
    "\n",
    "\n",
    "\n",
    "# added a cell tally for tritium production\n",
    "cell_filter = openmc.CellFilter(breeder_blanket_cell)\n",
    "tbr_tally = openmc.Tally(name='TBR')\n",
    "# see documentation for all possible scores/filters\n",
    "# https://docs.openmc.org/en/stable/usersguide/tallies.html \n",
    "tbr_tally.filters = [cell_filter]\n",
    "tbr_tally.scores = ['(n,Xt)']  # Where X is a wildcard character, this catches any tritium production\n",
    "# this allows the tally to be recorded per nuclide so we can see which one contributes to tritium production more\n",
    "tbr_tally.nuclides = ['Li6', 'Li7'] \n",
    "my_tallies = openmc.Tallies([tbr_tally])"
   ]
  },
  {
   "cell_type": "markdown",
   "metadata": {},
   "source": [
    "The next code block runs the simulation."
   ]
  },
  {
   "cell_type": "code",
   "execution_count": null,
   "metadata": {},
   "outputs": [],
   "source": [
    "# Run OpenMC!\n",
    "model = openmc.model.Model(my_geometry, my_materials, my_settings, my_tallies)\n",
    "\n",
    "# removes the old output files\n",
    "!rm *.h5\n",
    "\n",
    "sp_filename = model.run()"
   ]
  },
  {
   "cell_type": "markdown",
   "metadata": {},
   "source": [
    "Finally, this code block loads up the output file and extracts the simulation result."
   ]
  },
  {
   "cell_type": "code",
   "execution_count": null,
   "metadata": {},
   "outputs": [],
   "source": [
    "# open the results file\n",
    "sp = openmc.StatePoint(sp_filename)\n",
    "\n",
    "# access the tally using pandas dataframes\n",
    "tbr_tally = sp.get_tally(name='TBR')\n",
    "df = tbr_tally.get_pandas_dataframe()\n",
    "\n",
    "# prints the contents of the dataframe\n",
    "df"
   ]
  },
  {
   "cell_type": "markdown",
   "metadata": {},
   "source": [
    "We can access the values from the dataframe"
   ]
  },
  {
   "cell_type": "code",
   "execution_count": null,
   "metadata": {},
   "outputs": [],
   "source": [
    "# sums up all the values in the mean column\n",
    "tbr_tally_result = df['mean'].sum()\n",
    "\n",
    "# sums up all the values in the std. dev. column\n",
    "tbr_tally_std_dev = df['std. dev.'].sum()\n",
    "\n",
    "# print the results\n",
    "print('The tritium breeding ratio was found, TBR = ', tbr_tally_result)\n",
    "print('Standard deviation on the tbr tally is ', tbr_tally_std_dev)"
   ]
  },
  {
   "cell_type": "markdown",
   "metadata": {},
   "source": [
    "We can also access the individual results of tritium production in each isotope. This is provided because we added ```.nucl"
   ]
  },
  {
   "cell_type": "markdown",
   "metadata": {},
   "source": [
    "**Learning Outcomes for Part 1:**\n",
    "\n",
    "- Running simple neutronics simulations with OpenMC and tallying TBR using a cell tally."
   ]
  },
  {
   "cell_type": "code",
   "execution_count": null,
   "metadata": {},
   "outputs": [],
   "source": [
    "# gets the row that has li6 in the nuclide column and \n",
    "lithium_6_contribution = df[df['nuclide'] == 'Li6']['mean'].sum()\n",
    "\n",
    "lithium_7_contribution = df[df['nuclide'] == 'Li7']['mean'].sum()\n",
    "\n",
    "print('The tritium breeding by lithium 6 is ', lithium_6_contribution)\n",
    "print('The tritium breeding by lithium 7 is ', lithium_7_contribution)"
   ]
  },
  {
   "cell_type": "markdown",
   "metadata": {},
   "source": [
    "**Learning Outcomes for Part 1:**\n",
    "\n",
    "- Running simple neutronics simulations with OpenMC and tallying TBR using a cell tally.\n",
    "- Identify the which lithium isotope makes the majority of tritium production"
   ]
  }
 ],
 "metadata": {
  "interpreter": {
   "hash": "388a69045c46a6cab693fa82e98fd7f2d33e04d9f9ebcb2c17dde5f00932fece"
  },
  "kernelspec": {
   "display_name": "Python 3 (ipykernel)",
   "language": "python",
   "name": "python3"
  },
  "language_info": {
   "codemirror_mode": {
    "name": "ipython",
    "version": 3
   },
   "file_extension": ".py",
   "mimetype": "text/x-python",
   "name": "python",
   "nbconvert_exporter": "python",
   "pygments_lexer": "ipython3",
   "version": "3.10.12"
  },
  "vscode": {
   "interpreter": {
    "hash": "c47dabf1cc2568b64caa04441372f68f02228a3c450a6b1274acdfdc3a93f19e"
   }
  }
 },
 "nbformat": 4,
 "nbformat_minor": 4
}
