{
 "cells": [
  {
   "attachments": {},
   "cell_type": "markdown",
   "metadata": {},
   "source": [
    "# Heating Mesh Tally on CAD geometry made from Components\n",
    "\n",
    "This constructs a reactor geometry from 3 Component objects each made from points.\n",
    "\n",
    "The Component made include a breeder blanket, PF coil and a central column shield.\n",
    "\n",
    "2D and 3D Meshes tally are then simulated to show nuclear heating, flux and tritium_production across the model."
   ]
  },
  {
   "attachments": {},
   "cell_type": "markdown",
   "metadata": {},
   "source": [
    "This makes a 3D geometry and material for PF coil"
   ]
  },
  {
   "cell_type": "code",
   "execution_count": null,
   "metadata": {},
   "outputs": [],
   "source": [
    "import paramak\n",
    "\n",
    "pf_coil = paramak. PoloidalFieldCoil(\n",
    "    height=50,\n",
    "    width=50,\n",
    "    center_point=(725, 25),\n",
    "    name='pf_coil'\n",
    ")"
   ]
  },
  {
   "attachments": {},
   "cell_type": "markdown",
   "metadata": {},
   "source": [
    "This makes a 3D geometry and material for the centre column"
   ]
  },
  {
   "cell_type": "code",
   "execution_count": null,
   "metadata": {},
   "outputs": [],
   "source": [
    "center_column = paramak.CenterColumnShieldHyperbola(\n",
    "    height=1200,\n",
    "    inner_radius=50,\n",
    "    mid_radius=100,\n",
    "    outer_radius=150,\n",
    "    name='center_column'\n",
    ")"
   ]
  },
  {
   "attachments": {},
   "cell_type": "markdown",
   "metadata": {},
   "source": [
    "This makes a 3D geometry and material for breeder blanket. The azimuth_placement_angle argument is used to repeat the geometry around the Z axis at specified angles."
   ]
  },
  {
   "cell_type": "code",
   "execution_count": null,
   "metadata": {},
   "outputs": [],
   "source": [
    "blanket = paramak.BlanketConstantThicknessArcH(\n",
    "    inner_mid_point=(500, 0),\n",
    "    inner_upper_point=(400, 300),\n",
    "    inner_lower_point=(400, -300),\n",
    "    thickness= 100,\n",
    "    rotation_angle=40,\n",
    "    azimuth_placement_angle=[0, 45, 90, 135],\n",
    "    name='blanket'\n",
    ")"
   ]
  },
  {
   "attachments": {},
   "cell_type": "markdown",
   "metadata": {},
   "source": [
    "This makes a reactor object from the three components"
   ]
  },
  {
   "cell_type": "code",
   "execution_count": null,
   "metadata": {},
   "outputs": [],
   "source": [
    "my_reactor = paramak.Reactor([blanket, pf_coil,center_column])\n",
    "\n",
    "my_reactor.show()"
   ]
  },
  {
   "attachments": {},
   "cell_type": "markdown",
   "metadata": {},
   "source": [
    "At this stage we can export the reactor geometry as stp files and make them avaialbe from download and viewing in FreeCAD."
   ]
  },
  {
   "cell_type": "code",
   "execution_count": null,
   "metadata": {},
   "outputs": [],
   "source": [
    "my_reactor.export_stp('my_reactor.stp')\n",
    "\n",
    "from IPython.display import FileLink\n",
    "display(FileLink('my_reactor.stp'))"
   ]
  },
  {
   "attachments": {},
   "cell_type": "markdown",
   "metadata": {},
   "source": [
    "Combines and converts the stl file into a DAGMC h5m file that can be used for the model geometry"
   ]
  },
  {
   "cell_type": "code",
   "execution_count": null,
   "metadata": {},
   "outputs": [],
   "source": [
    "my_reactor.export_dagmc_h5m('dagmc.h5m')\n",
    "\n",
    "import openmc\n",
    "bound_dag_univ = openmc.DAGMCUniverse(filename='dagmc.h5m').bounded_universe()\n",
    "geometry = openmc.Geometry(root=bound_dag_univ)"
   ]
  },
  {
   "attachments": {},
   "cell_type": "markdown",
   "metadata": {},
   "source": [
    "The next section uses materials from the neutronics_material_maker package https://github.com/fusion-energy/neutronics_material_maker/\n",
    "\n",
    "This has an internal database that knows the isotopes and density of various materials.\n",
    "\n",
    "The ```.openmc_material``` obtains an openmc.material object"
   ]
  },
  {
   "cell_type": "code",
   "execution_count": null,
   "metadata": {},
   "outputs": [],
   "source": [
    "# makes use of the previously created neutronics geometry (h5m file) and assigns\n",
    "# actual materials to the material tags. \n",
    "\n",
    "import neutronics_material_maker as nmm\n",
    "\n",
    "# this links the material tags in the dagmc h5m file with materials.\n",
    "# the materials names are changed after their creation to match the \n",
    "# expected material tags in the dagmc file.\n",
    "\n",
    "mat1 = nmm.Material.from_library(name='copper').openmc_material\n",
    "mat1.name = 'pf_coil'\n",
    "mat2 = nmm.Material.from_library(name='Li4SiO4').openmc_material\n",
    "mat2.name = 'blanket'\n",
    "mat3 = nmm.Material.from_library(name='copper').openmc_material\n",
    "mat3.name='center_column'\n",
    "\n",
    "\n",
    "materials = openmc.Materials([mat1, mat2, mat3])"
   ]
  },
  {
   "attachments": {},
   "cell_type": "markdown",
   "metadata": {},
   "source": [
    "This section makes the OpenMC geometry from a DAGMC file. This particular DAGMC file does not have a \"graveyard\" surface at the edge of the geometry so the bound_universe() method is used to automatically add the vacuum surface to the edge of the geometry"
   ]
  },
  {
   "cell_type": "code",
   "execution_count": null,
   "metadata": {},
   "outputs": [],
   "source": [
    "\n",
    "bound_dag_univ = openmc.DAGMCUniverse(filename='dagmc.h5m', auto_geom_ids=True).bounded_universe()\n",
    "my_geometry = openmc.Geometry(root=bound_dag_univ)"
   ]
  },
  {
   "attachments": {},
   "cell_type": "markdown",
   "metadata": {},
   "source": [
    "This next step makes a simple point source. This uses native OpenMC commands but one could also use the openmc-plasma-source package https://github.com/fusion-energy/openmc-plasma-source/"
   ]
  },
  {
   "cell_type": "code",
   "execution_count": null,
   "metadata": {},
   "outputs": [],
   "source": [
    "\n",
    "# initialises a new source object\n",
    "source = openmc.IndependentSource()\n",
    "\n",
    "# sets the location of the source to x=0 y=0 z=0\n",
    "source.space = openmc.stats.Point((100, 0, 0))\n",
    "\n",
    "# sets the direction to isotropic\n",
    "source.angle = openmc.stats.Isotropic()\n",
    "\n",
    "# sets the energy distribution to 100% 14MeV neutrons\n",
    "source.energy = openmc.stats.Discrete([14e6], [1])"
   ]
  },
  {
   "attachments": {},
   "cell_type": "markdown",
   "metadata": {},
   "source": [
    "This next section combines the geometry with the materials and specifies a 2D mesh tally that spans the entire geometry"
   ]
  },
  {
   "cell_type": "code",
   "execution_count": null,
   "metadata": {},
   "outputs": [],
   "source": [
    "\n",
    "mesh = openmc.RegularMesh().from_domain(\n",
    "    my_geometry, # the corners of the mesh are being set automatically to surround the geometry\n",
    "    dimension=[100, 1, 100] # only 1 cell in the Y dimension\n",
    ")\n",
    "\n",
    "mesh_filter = openmc.MeshFilter(mesh)\n",
    "\n",
    "# Create flux mesh tally to score alpha production\n",
    "mesh_tally = openmc.Tally(tally_id=1, name='alpha_production_on_mesh')  # note the tally_id is specified\n",
    "mesh_tally.filters = [mesh_filter]\n",
    "mesh_tally.scores = ['(n,Xa)']  # where X is a wild card\n",
    "\n",
    "\n",
    "tallies = openmc.Tallies([mesh_tally])"
   ]
  },
  {
   "attachments": {},
   "cell_type": "markdown",
   "metadata": {},
   "source": [
    "Assigns a ring source of DT energy neutrons to the source.\n",
    "\n",
    "This source has a 14MeV neutron energy, with a radius of 350cm and is half a ring (0 to 180 degrees)\n",
    "\n",
    "If you are keen to make more realistic plasma sources take a looks at the openmc_plasma_source python package\n",
    "https://github.com/fusion-energy/openmc-plasma-source"
   ]
  },
  {
   "cell_type": "code",
   "execution_count": null,
   "metadata": {},
   "outputs": [],
   "source": [
    "my_source = openmc.IndependentSource()\n",
    "my_source.angle = openmc.stats.Isotropic()\n",
    "my_source.energy = openmc.stats.Discrete([14e6], [1])\n",
    "my_source.space = openmc.stats.CylindricalIndependent(\n",
    "    r=openmc.stats.Discrete([350], [1]),  # all source points at a radius of 350 cm\n",
    "    phi=openmc.stats.Uniform(a=0, b=3.14), # angular distribution between 0 and pi\n",
    "    z=openmc.stats.Discrete([0], [1]), # all source points at 0 on the z axis\n",
    "    origin=(0.0, 0.0, 0.0), # centered around 0,0,0 x,y,z\n",
    ")"
   ]
  },
  {
   "attachments": {},
   "cell_type": "markdown",
   "metadata": {},
   "source": [
    "Sets the simulation intensity then combines the materials, geometry, settines and tallies into a neutronics model and runs the simulation."
   ]
  },
  {
   "cell_type": "code",
   "execution_count": null,
   "metadata": {},
   "outputs": [],
   "source": [
    "settings = openmc.Settings()\n",
    "settings.inactive = 0\n",
    "settings.run_mode = 'fixed source'\n",
    "settings.batches = 10\n",
    "settings.particles = 2000\n",
    "settings.source = my_source\n",
    "\n",
    "my_model = openmc.Model(\n",
    "    materials=materials,\n",
    "    geometry=my_geometry,\n",
    "    settings=settings,\n",
    "    tallies=tallies\n",
    ")\n",
    "\n",
    "!rm *.h5  # just removes old summary.h5 or statepoint files\n",
    "statepoint_file = my_model.run()"
   ]
  },
  {
   "attachments": {},
   "cell_type": "markdown",
   "metadata": {},
   "source": [
    "The next section produces download links for:\n",
    "\n",
    "- vtk files that contain the 3D mesh results (open with Paraview)\n",
    "- png images that show the resuls of the 2D mesh tally"
   ]
  },
  {
   "cell_type": "code",
   "execution_count": null,
   "metadata": {},
   "outputs": [],
   "source": [
    "# assumes you have a statepoint file from the OpenMC simulation\n",
    "statepoint = openmc.StatePoint(statepoint_file)\n",
    "\n",
    "# this shows the tallies present in the statepoint file\n",
    "print(statepoint.tallies)\n",
    "\n",
    "# loads up a tally from the statepoint using it's name\n",
    "my_tally = statepoint.get_tally(name='alpha_production_on_mesh')\n",
    "\n",
    "# converts the tally result into a VTK file\n",
    "mesh.write_data_to_vtk(\n",
    "    datasets={'mean': my_tally.mean},\n",
    "    filename = \"component_alpha_production_on_mesh.vtk\",\n",
    ")"
   ]
  },
  {
   "attachments": {},
   "cell_type": "markdown",
   "metadata": {},
   "source": [
    "The output file vtk file called \"n_Xa_on_3D_mesh.vtk\" should now appear in the left hand side sidebar. The file can be downloaded to your local computer by right mouse clicking on the file and selecting download."
   ]
  }
 ],
 "metadata": {
  "kernelspec": {
   "display_name": "Python 3.8.12 ('paramak_dev')",
   "language": "python",
   "name": "python3"
  },
  "language_info": {
   "codemirror_mode": {
    "name": "ipython",
    "version": 3
   },
   "file_extension": ".py",
   "mimetype": "text/x-python",
   "name": "python",
   "nbconvert_exporter": "python",
   "pygments_lexer": "ipython3",
   "version": "3.8.12"
  },
  "vscode": {
   "interpreter": {
    "hash": "c47dabf1cc2568b64caa04441372f68f02228a3c450a6b1274acdfdc3a93f19e"
   }
  }
 },
 "nbformat": 4,
 "nbformat_minor": 4
}
