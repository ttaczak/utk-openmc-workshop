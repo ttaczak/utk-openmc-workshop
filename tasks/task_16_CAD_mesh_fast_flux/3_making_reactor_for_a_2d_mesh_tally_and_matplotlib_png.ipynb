{
 "cells": [
  {
   "attachments": {},
   "cell_type": "markdown",
   "metadata": {},
   "source": [
    "# Heating Mesh Tally on CAD geometry made from Components\n",
    "\n",
    "This constructs a reactor geometry from 3 Component objects each made from points.\n",
    "\n",
    "The Component made include a breeder blanket, PF coil and a central column shield.\n",
    "\n",
    "2D and 3D Meshes tally are then simulated to show nuclear heating, flux and tritium_production across the model."
   ]
  },
  {
   "attachments": {},
   "cell_type": "markdown",
   "metadata": {},
   "source": [
    "This section makes the 3d geometry for the entire reactor from a input parameters."
   ]
  },
  {
   "cell_type": "code",
   "execution_count": null,
   "metadata": {},
   "outputs": [],
   "source": [
    "import paramak\n",
    "\n",
    "my_reactor = paramak.BallReactor(\n",
    "    inner_bore_radial_thickness=50,\n",
    "    inboard_tf_leg_radial_thickness=55,\n",
    "    center_column_shield_radial_thickness=50,\n",
    "    divertor_radial_thickness=50,\n",
    "    inner_plasma_gap_radial_thickness=50,\n",
    "    plasma_radial_thickness=100,\n",
    "    outer_plasma_gap_radial_thickness=50,\n",
    "    firstwall_radial_thickness=1,\n",
    "    blanket_radial_thickness=100,\n",
    "    blanket_rear_wall_radial_thickness=10,\n",
    "    elongation=2,\n",
    "    triangularity=0.55,\n",
    "    number_of_tf_coils=16,\n",
    "    pf_coil_case_thicknesses=[10, 10, 10, 10],\n",
    "    pf_coil_radial_thicknesses=[20, 50, 50, 20],\n",
    "    pf_coil_vertical_thicknesses=[20, 50, 50, 20],\n",
    "    pf_coil_radial_position=[440, 550, 550, 440],\n",
    "    pf_coil_vertical_position=[230, 100, -100, -230],\n",
    "    rear_blanket_to_tf_gap=5,\n",
    "    outboard_tf_coil_radial_thickness=30,\n",
    "    outboard_tf_coil_poloidal_thickness=30,\n",
    "    rotation_angle=90,\n",
    ")\n",
    "\n",
    "# TF and PF coils can be added with additional arguments.\n",
    "# see the documentation for more details \n",
    "# https://paramak.readthedocs.io/en/main/paramak.parametric_reactors.html\n",
    "\n",
    "my_reactor.show()"
   ]
  },
  {
   "attachments": {},
   "cell_type": "markdown",
   "metadata": {},
   "source": [
    "Exports the 3D geometry to a DAGMC neutronics geometry. The plasma is not included as not many neutron interactions occur in the low density plasma"
   ]
  },
  {
   "cell_type": "code",
   "execution_count": null,
   "metadata": {},
   "outputs": [],
   "source": [
    "# creates a h5m file of the geometry with material tags automatically assigned\n",
    "my_reactor.export_dagmc_h5m(filename=\"dagmc.h5m\", min_mesh_size=5, max_mesh_size=20)"
   ]
  },
  {
   "attachments": {},
   "cell_type": "markdown",
   "metadata": {},
   "source": [
    "Names of material tags can be found with the command line tool"
   ]
  },
  {
   "cell_type": "code",
   "execution_count": null,
   "metadata": {},
   "outputs": [],
   "source": [
    "!mbsize -ll dagmc.h5m | grep 'NAME = mat:'"
   ]
  },
  {
   "attachments": {},
   "cell_type": "markdown",
   "metadata": {},
   "source": [
    "The next section defines the materials. This can be done using openmc.Materials or in this case strings that look up materials from the neutronics material maker."
   ]
  },
  {
   "cell_type": "code",
   "execution_count": null,
   "metadata": {},
   "outputs": [],
   "source": [
    "\n",
    "import neutronics_material_maker as nmm\n",
    "import openmc\n",
    "\n",
    "\n",
    "\n",
    "# simplified material definitions have been used to keen this example minimal\n",
    "mat_pf_coil_1 = nmm.Material.from_library(name='copper').openmc_material\n",
    "mat_pf_coil_1.name='pf_coil_1'\n",
    "\n",
    "mat_pf_coil_2 = nmm.Material.from_library(name='copper').openmc_material\n",
    "mat_pf_coil_2.name='pf_coil_2'\n",
    "\n",
    "mat_pf_coil_3 = nmm.Material.from_library(name='copper').openmc_material\n",
    "mat_pf_coil_3.name='pf_coil_3'\n",
    "\n",
    "mat_pf_coil_4 = nmm.Material.from_library(name='copper').openmc_material\n",
    "mat_pf_coil_4.name='pf_coil_4'\n",
    "\n",
    "mat_pf_coil_case_1 = openmc.Material(name=\"pf_coil_case_1\")\n",
    "mat_pf_coil_case_1.add_element(\"Fe\", 1, \"ao\")\n",
    "mat_pf_coil_case_1.set_density(\"g/cm3\", 8.96)\n",
    "\n",
    "mat_pf_coil_case_2 = openmc.Material(name=\"pf_coil_case_2\")\n",
    "mat_pf_coil_case_2.add_element(\"Fe\", 1, \"ao\")\n",
    "mat_pf_coil_case_2.set_density(\"g/cm3\", 8.96)\n",
    "\n",
    "mat_pf_coil_case_3 = openmc.Material(name=\"pf_coil_case_3\")\n",
    "mat_pf_coil_case_3.add_element(\"Fe\", 1, \"ao\")\n",
    "mat_pf_coil_case_3.set_density(\"g/cm3\", 8.96)\n",
    "\n",
    "mat_pf_coil_case_4 = openmc.Material(name=\"pf_coil_case_4\")\n",
    "mat_pf_coil_case_4.add_element(\"Fe\", 1, \"ao\")\n",
    "mat_pf_coil_case_4.set_density(\"g/cm3\", 8.96)\n",
    "\n",
    "mat_plasma = openmc.Material(name=\"plasma\")\n",
    "mat_plasma.add_element(\"H\", 1, \"ao\")\n",
    "mat_plasma.set_density(\"g/cm3\", 0.00001)\n",
    "\n",
    "mat_center_column_shield = openmc.Material(name=\"center_column_shield\")\n",
    "mat_center_column_shield.add_element(\"W\", 1, \"ao\")\n",
    "mat_center_column_shield.set_density(\"g/cm3\", 19.3)\n",
    "\n",
    "mat_outboard_firstwall = openmc.Material(name=\"firstwall\")\n",
    "mat_outboard_firstwall.add_element(\"Fe\", 1, \"ao\")\n",
    "mat_outboard_firstwall.set_density(\"g/cm3\", 7.7)\n",
    "\n",
    "mat_blanket = openmc.Material(name=\"blanket\")\n",
    "mat_blanket.add_elements_from_formula(\"Pb842Li158\")\n",
    "mat_blanket.set_density(\"g/cm3\", 19.)\n",
    "\n",
    "mat_divertor_upper = openmc.Material(name=\"divertor_upper\")\n",
    "mat_divertor_upper.add_element(\"W\", 1, \"ao\")\n",
    "mat_divertor_upper.set_density(\"g/cm3\", 19.3)\n",
    "\n",
    "mat_divertor_lower = openmc.Material(name=\"divertor_lower\")\n",
    "mat_divertor_lower.add_element(\"W\", 1, \"ao\")\n",
    "mat_divertor_lower.set_density(\"g/cm3\", 19.3)\n",
    "\n",
    "mat_supports = openmc.Material(name=\"supports\")\n",
    "mat_supports.add_element(\"Fe\", 1, \"ao\")\n",
    "mat_supports.set_density(\"g/cm3\", 7.7)\n",
    "\n",
    "mat_outboard_rear_blanket_wall = openmc.Material(name=\"blanket_rear_wall\")\n",
    "mat_outboard_rear_blanket_wall.add_element(\"Fe\", 1, \"ao\")\n",
    "mat_outboard_rear_blanket_wall.set_density(\"g/cm3\", 7.7)\n",
    "\n",
    "mat_inboard_tf_coils = nmm.Material.from_library(name='copper').openmc_material\n",
    "mat_inboard_tf_coils.name = 'inboard_tf_coils'\n",
    "\n",
    "mat_tf_coils = nmm.Material.from_library(name='copper').openmc_material\n",
    "mat_tf_coils.name = 'tf_coil'\n",
    "\n",
    "materials = openmc.Materials(\n",
    "    [\n",
    "        mat_pf_coil_1,\n",
    "        mat_pf_coil_2,\n",
    "        mat_pf_coil_3,\n",
    "        mat_pf_coil_4,\n",
    "        mat_pf_coil_case_1,\n",
    "        mat_pf_coil_case_2,\n",
    "        mat_pf_coil_case_3,\n",
    "        mat_pf_coil_case_4,\n",
    "        mat_plasma,\n",
    "        mat_center_column_shield,\n",
    "        mat_outboard_firstwall,\n",
    "        mat_blanket,\n",
    "        mat_divertor_upper,\n",
    "        mat_divertor_lower,\n",
    "        mat_supports,\n",
    "        mat_outboard_rear_blanket_wall,\n",
    "        mat_inboard_tf_coils,\n",
    "        mat_tf_coils,\n",
    "    ]\n",
    ")"
   ]
  },
  {
   "attachments": {},
   "cell_type": "markdown",
   "metadata": {},
   "source": [
    "This next section builds the geometry, this is achieved using a filled CSG geometry with reflecting surfaces for the 90 degree wedge"
   ]
  },
  {
   "cell_type": "code",
   "execution_count": null,
   "metadata": {},
   "outputs": [],
   "source": [
    "\n",
    "import math\n",
    "\n",
    "# makes use of the dagmc geometry\n",
    "dag_univ = openmc.DAGMCUniverse(\"dagmc.h5m\")\n",
    "\n",
    "# prints all the material tags used in the dagmc geometry\n",
    "print(dag_univ.material_names)\n",
    "\n",
    "# creates an edge of universe boundary surface\n",
    "vac_surf = openmc.Sphere(r=10000, surface_id=9999, boundary_type=\"vacuum\")\n",
    "\n",
    "# adds reflective surface for the sector model at 0 degrees\n",
    "reflective_1 = openmc.Plane(\n",
    "    a=math.sin(0),\n",
    "    b=-math.cos(0),\n",
    "    c=0.0,\n",
    "    d=0.0,\n",
    "    surface_id=9991,\n",
    "    boundary_type=\"reflective\",\n",
    ")\n",
    "\n",
    "# adds reflective surface for the sector model at 90 degrees\n",
    "reflective_2 = openmc.Plane(\n",
    "    a=math.sin(math.radians(90)),\n",
    "    b=-math.cos(math.radians(90)),\n",
    "    c=0.0,\n",
    "    d=0.0,\n",
    "    surface_id=9990,\n",
    "    boundary_type=\"reflective\",\n",
    ")\n",
    "\n",
    "# specifies the region as below the universe boundary and inside the reflective surfaces\n",
    "region = -vac_surf & -reflective_1 & +reflective_2\n",
    "\n",
    "# creates a cell from the region and fills the cell with the dagmc geometry\n",
    "containing_cell = openmc.Cell(cell_id=9999, region=region, fill=dag_univ)\n",
    "\n",
    "my_geometry = openmc.Geometry(root=[containing_cell])\n"
   ]
  },
  {
   "attachments": {},
   "cell_type": "markdown",
   "metadata": {},
   "source": [
    "This next step makes a simple point source."
   ]
  },
  {
   "cell_type": "code",
   "execution_count": null,
   "metadata": {},
   "outputs": [],
   "source": [
    "# creates a simple isotropic neutron source in the center with 14MeV neutrons\n",
    "my_source = openmc.IndependentSource()\n",
    "\n",
    "# the distribution of radius is just a single value at the plasma major radius\n",
    "radius = openmc.stats.Discrete([293.], [1])\n",
    "\n",
    "# the distribution of source z values is just a single value\n",
    "z_values = openmc.stats.Discrete([0], [1])\n",
    "\n",
    "# the distribution of source azimuthal angles values is a uniform distribution between 0 and 0.5 Pi\n",
    "# these angles must be the same as the reflective angles\n",
    "angle = openmc.stats.Uniform(a=0., b=math.radians(90))\n",
    "\n",
    "# this makes the ring source using the three distributions and a radius\n",
    "my_source.space = openmc.stats.CylindricalIndependent(r=radius, phi=angle, z=z_values, origin=(0.0, 0.0, 0.0))\n",
    "\n",
    "# sets the direction to isotropic\n",
    "my_source.angle = openmc.stats.Isotropic()\n",
    "\n",
    "# sets the energy distribution to a Muir distribution neutrons\n",
    "my_source.energy = openmc.stats.muir(e0=14080000.0, m_rat=5.0, kt=20000.0)"
   ]
  },
  {
   "cell_type": "code",
   "execution_count": null,
   "metadata": {},
   "outputs": [],
   "source": [
    "# specifies the simulation computational intensity\n",
    "settings = openmc.Settings()\n",
    "settings.batches = 2\n",
    "settings.particles = 1000\n",
    "settings.inactive = 0\n",
    "settings.run_mode = \"fixed source\"\n",
    "settings.source = my_source"
   ]
  },
  {
   "attachments": {},
   "cell_type": "markdown",
   "metadata": {},
   "source": [
    "Makes a 3D mesh tally"
   ]
  },
  {
   "cell_type": "code",
   "execution_count": null,
   "metadata": {},
   "outputs": [],
   "source": [
    "# creates a mesh that covers the geometry\n",
    "mesh = openmc.RegularMesh().from_domain(\n",
    "    my_geometry, # the corners of the mesh are being set automatically to surround the geometry\n",
    "    dimension=[100, 100, 100] # only 1 cell in the Y dimension\n",
    ")\n",
    "\n",
    "# makes a mesh tally using the previously created mesh and records heating on the mesh\n",
    "mesh_tally = openmc.Tally(name=\"heating_on_mesh\")\n",
    "mesh_filter = openmc.MeshFilter(mesh)\n",
    "mesh_tally.filters = [mesh_filter]\n",
    "mesh_tally.scores = [\"heating\"]\n",
    "\n",
    "heating_tally = openmc.Tally(name=\"heating\")\n",
    "heating_tally.scores = [\"heating\"]\n",
    "\n",
    "# groups the two tallies\n",
    "tallies = openmc.Tallies([mesh_tally, heating_tally])"
   ]
  },
  {
   "attachments": {},
   "cell_type": "markdown",
   "metadata": {},
   "source": [
    "starts the simulation"
   ]
  },
  {
   "cell_type": "code",
   "execution_count": null,
   "metadata": {},
   "outputs": [],
   "source": [
    "# builds the openmc model\n",
    "my_model = openmc.Model(\n",
    "    materials=materials, geometry=my_geometry, settings=settings, tallies=tallies\n",
    ")\n",
    "\n",
    "# starts the simulation\n",
    "statepoint_filename = my_model.run()"
   ]
  },
  {
   "attachments": {},
   "cell_type": "markdown",
   "metadata": {},
   "source": [
    "extracts the 3d mesh tally result and plots it as a vtk"
   ]
  },
  {
   "cell_type": "code",
   "execution_count": null,
   "metadata": {},
   "outputs": [],
   "source": [
    "# open the results file\n",
    "sp = openmc.StatePoint(statepoint_filename)\n",
    "\n",
    "# access the tally using pandas dataframes\n",
    "heating_tally = sp.get_tally(name=\"heating\")\n",
    "\n",
    "# print cell tally results with unit conversion\n",
    "# raw tally result is multipled by 4 as this is a sector model of 1/4 of the total model (90 degrees from 360)\n",
    "# raw tally result is divided by 1e6 to convert the standard units of eV to MeV\n",
    "print(f\"The heating of {4*heating_tally.mean.sum()/1e6} MeV per source particle is deposited\")\n",
    "print(f\"Standard deviation on the heating tally is {heating_tally.std_dev.sum()}\")\n",
    "\n",
    "# extracts the mesh tally result\n",
    "heating_mesh_tally = sp.get_tally(name=\"heating_on_mesh\")\n",
    "\n",
    "mesh.write_data_to_vtk(\n",
    "    datasets={'heating_mean': heating_mesh_tally.mean},\n",
    "    filename=\"reactor_heating_on_mesh.vtk\",\n",
    ")"
   ]
  },
  {
   "attachments": {},
   "cell_type": "markdown",
   "metadata": {},
   "source": [
    "The vtk file should have appeared in the file explorer to the left. Right mouse click on the file to download it and then open with Paraview"
   ]
  }
 ],
 "metadata": {
  "kernelspec": {
   "display_name": "Python 3 (ipykernel)",
   "language": "python",
   "name": "python3"
  },
  "language_info": {
   "codemirror_mode": {
    "name": "ipython",
    "version": 3
   },
   "file_extension": ".py",
   "mimetype": "text/x-python",
   "name": "python",
   "nbconvert_exporter": "python",
   "pygments_lexer": "ipython3",
   "version": "3.9.1"
  },
  "vscode": {
   "interpreter": {
    "hash": "d4d1e4263499bec80672ea0156c357c1ee493ec2b1c70f0acce89fc37c4a6abe"
   }
  }
 },
 "nbformat": 4,
 "nbformat_minor": 4
}
