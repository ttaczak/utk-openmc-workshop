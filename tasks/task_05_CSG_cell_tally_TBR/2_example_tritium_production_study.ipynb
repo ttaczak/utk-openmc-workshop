{
 "cells": [
  {
   "cell_type": "markdown",
   "metadata": {},
   "source": [
    "# Part 2 - Simulating TBR as a function of Lithium enrichment\n",
    "\n",
    "Lithium isotopes have natural abundances of 7.59% Li6 and 92.41% Li7. However, due to the different (n,Xt) cross sections of the two isotopes it is often beneficial to enrich the Li6 content to increase tritium breeding.\n",
    "\n",
    "This python notebook allows users to make a simple model with a Lithium blanket of controllable enrichment. Simulations are then performed for several different Li6 enrichments and the TBR found."
   ]
  },
  {
   "cell_type": "markdown",
   "metadata": {},
   "source": [
    "This first code block a neutronics model for the provided enrichment value, runs the simulation and returns the TBR value obtained."
   ]
  },
  {
   "cell_type": "code",
   "execution_count": null,
   "metadata": {},
   "outputs": [],
   "source": [
    "import openmc\n",
    "\n",
    "\n",
    "def make_materials_geometry_tallies(enrichment):\n",
    "    \"\"\"Makes a neutronics model of a blanket and simulates the TBR value.\n",
    "\n",
    "    Arguments:\n",
    "        enrichment (float): the enrichment percentage of Li6 in the breeder material\n",
    "    \n",
    "    Returns:\n",
    "        resutsl (dict): simulation tally results for TBR along with the standard deviation and enrichment\n",
    "    \"\"\"\n",
    "\n",
    "    # MATERIALS\n",
    "\n",
    "    breeder_material = openmc.Material()  # Pb84.2Li15.8\n",
    "    breeder_material.add_element('Pb', 84.2, percent_type='ao')\n",
    "    breeder_material.add_element('Li', 15.8, percent_type='ao', enrichment=enrichment, enrichment_target='Li6', enrichment_type='ao')\n",
    "    breeder_material.set_density('atom/b-cm', 3.2720171e-2)  # around 11 g/cm3\n",
    "\n",
    "\n",
    "    steel = openmc.Material()\n",
    "    steel.set_density('g/cm3', 7.75)\n",
    "    steel.add_element('Fe', 0.95, percent_type='wo')\n",
    "    steel.add_element('C', 0.05, percent_type='wo')\n",
    "\n",
    "    my_materials = openmc.Materials([breeder_material, steel])\n",
    "\n",
    "\n",
    "    # GEOMETRY\n",
    "\n",
    "    # surfaces\n",
    "    vessel_inner = openmc.Sphere(r=500)\n",
    "    first_wall_outer_surface = openmc.Sphere(r=510)\n",
    "    breeder_blanket_outer_surface = openmc.Sphere(r=610, boundary_type='vacuum')\n",
    "\n",
    "\n",
    "    # cells\n",
    "    inner_vessel_region = -vessel_inner\n",
    "    inner_vessel_cell = openmc.Cell(region=inner_vessel_region)\n",
    "\n",
    "    first_wall_region = -first_wall_outer_surface & +vessel_inner\n",
    "    first_wall_cell = openmc.Cell(region=first_wall_region)\n",
    "    first_wall_cell.fill = steel\n",
    "\n",
    "    breeder_blanket_region = +first_wall_outer_surface & -breeder_blanket_outer_surface\n",
    "    breeder_blanket_cell = openmc.Cell(region=breeder_blanket_region)\n",
    "    breeder_blanket_cell.fill = breeder_material\n",
    "\n",
    "    my_geometry = openmc.Geometry([inner_vessel_cell, first_wall_cell, breeder_blanket_cell])\n",
    "\n",
    "\n",
    "    # SIMULATION SETTINGS\n",
    "    my_settings = openmc.Settings()\n",
    "    my_settings.batches = 10  # this is minimum number of batches that will be run\n",
    "    my_settings.trigger_active = True\n",
    "    my_settings.trigger_max_batches =  100  # this is maximum number of batches that will be run\n",
    "    my_settings.inactive = 0\n",
    "    my_settings.particles = 1000\n",
    "    my_settings.run_mode = 'fixed source'\n",
    "\n",
    "    source = openmc.IndependentSource()\n",
    "    source.space = openmc.stats.Point((0, 0, 0))\n",
    "    source.angle = openmc.stats.Isotropic()\n",
    "    source.energy = openmc.stats.Discrete([14e6], [1])\n",
    "    my_settings.source = source\n",
    "\n",
    "    # TALLIES\n",
    "\n",
    "    cell_filter = openmc.CellFilter(breeder_blanket_cell)\n",
    "    tbr_tally = openmc.Tally(name='TBR')\n",
    "    tbr_tally.filters = [cell_filter]\n",
    "    tbr_tally.scores = ['(n,Xt)']  # Where X is a wildcard character, this catches any tritium production\n",
    "    tbr_tally.triggers = [openmc.Trigger(trigger_type='std_dev', threshold=0.01)]  # This stops the simulation if the threshold is meet\n",
    "    my_tallies = openmc.Tallies([tbr_tally])\n",
    "\n",
    "    # RUN OPENMC\n",
    "    model = openmc.model.Model(my_geometry, my_materials, my_settings, my_tallies)\n",
    "    !rm *.h5\n",
    "    sp_filename = model.run(output=False)  # runs with reduced amount of output printing\n",
    "\n",
    "    # OPEN OUPUT FILE\n",
    "    sp = openmc.StatePoint(sp_filename)\n",
    "\n",
    "    tbr_tally = sp.get_tally(name='TBR')\n",
    "\n",
    "    df = tbr_tally.get_pandas_dataframe()\n",
    "\n",
    "    tbr_tally_result = df['mean'].sum()\n",
    "    tbr_tally_std_dev = df['std. dev.'].sum()\n",
    "\n",
    "    return {'enrichment': enrichment,\n",
    "            'tbr_tally_result': tbr_tally_result,\n",
    "            'tbr_tally_std_dev': tbr_tally_std_dev}"
   ]
  },
  {
   "cell_type": "markdown",
   "metadata": {},
   "source": [
    "This code block runs the code defined above with different blanket enrichments and returns the TBR tally results."
   ]
  },
  {
   "cell_type": "code",
   "execution_count": null,
   "metadata": {},
   "outputs": [],
   "source": [
    "results = []\n",
    "for enrichment in [0, 25, 50, 75, 100]:  # percentage enrichment from 0% Li6 to 100% Li6\n",
    "    results.append(make_materials_geometry_tallies(enrichment))"
   ]
  },
  {
   "cell_type": "markdown",
   "metadata": {},
   "source": [
    "Finally, this code block plots a figure showing TBR as a function of Li6 enrichment."
   ]
  },
  {
   "cell_type": "code",
   "execution_count": null,
   "metadata": {},
   "outputs": [],
   "source": [
    "import plotly.graph_objects as go\n",
    "\n",
    "fig = go.Figure()\n",
    "\n",
    "# PLOTS RESULTS\n",
    "fig.add_trace(\n",
    "    go.Scatter(\n",
    "        x=[entry['enrichment'] for entry in results],\n",
    "        y=[entry['tbr_tally_result'] for entry in results],\n",
    "        mode='lines',\n",
    "        error_y={'array': [entry['tbr_tally_std_dev'] for entry in results]},\n",
    "        )\n",
    ")\n",
    "\n",
    "fig.update_layout(\n",
    "    title=\"TBR as a function of Li6 enrichment\",\n",
    "    xaxis_title=\"Li6 enrichment (%)\",\n",
    "    yaxis_title=\"TBR\"\n",
    ")\n",
    "\n",
    "fig.show()"
   ]
  },
  {
   "cell_type": "markdown",
   "metadata": {},
   "source": [
    "**Learning Outcomes for Part 2:**\n",
    "\n",
    "- Performing parameter studies with OpenMC.\n",
    "- Simple methods of increasing the TBR using Lithium enrichment."
   ]
  },
  {
   "cell_type": "code",
   "execution_count": null,
   "metadata": {},
   "outputs": [],
   "source": []
  }
 ],
 "metadata": {
  "interpreter": {
   "hash": "388a69045c46a6cab693fa82e98fd7f2d33e04d9f9ebcb2c17dde5f00932fece"
  },
  "kernelspec": {
   "display_name": "Python 3 (ipykernel)",
   "language": "python",
   "name": "python3"
  },
  "language_info": {
   "codemirror_mode": {
    "name": "ipython",
    "version": 3
   },
   "file_extension": ".py",
   "mimetype": "text/x-python",
   "name": "python",
   "nbconvert_exporter": "python",
   "pygments_lexer": "ipython3",
   "version": "3.10.12"
  }
 },
 "nbformat": 4,
 "nbformat_minor": 4
}
