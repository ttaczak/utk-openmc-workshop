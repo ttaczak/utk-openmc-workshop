{
 "cells": [
  {
   "cell_type": "markdown",
   "metadata": {},
   "source": [
    "# Part 2 - plasma source plotting\n",
    "\n",
    "As show in Part 1, OpenMC can be used to create point sources with different energy distributions. However, there are other ways to create neutron sources for use in neutronics simulations.\n",
    "\n",
    "This python notebook allows users to plot the energy, position and initial directions of a parametric plasma source.\n",
    "\n",
    "The plasma source used is from the This notebook makes use of the openmc-plasma-source package."
   ]
  },
  {
   "cell_type": "code",
   "execution_count": null,
   "metadata": {},
   "outputs": [],
   "source": [
    "import openmc\n",
    "import openmc_source_plotter  # extends the openmc.IndependentSource class to include plotting functions"
   ]
  },
  {
   "cell_type": "markdown",
   "metadata": {},
   "source": [
    "This first code block creates a neutron source using the PlasmaSource class from the parametric_plasma_source package. The properties of the source are controlled by the input parameters."
   ]
  },
  {
   "cell_type": "code",
   "execution_count": null,
   "metadata": {},
   "outputs": [],
   "source": [
    "from openmc_plasma_source import TokamakSource\n",
    "\n",
    "my_sources = TokamakSource(\n",
    "    elongation=1.557,\n",
    "    ion_density_centre=1.09e20,\n",
    "    ion_density_peaking_factor=1,\n",
    "    ion_density_pedestal=1.09e20,\n",
    "    ion_density_separatrix=3e19,\n",
    "    ion_temperature_centre=45.9,\n",
    "    ion_temperature_peaking_factor=8.06,\n",
    "    ion_temperature_pedestal=6.09,\n",
    "    ion_temperature_separatrix=0.1,\n",
    "    major_radius=9.06,\n",
    "    minor_radius=2.92258,\n",
    "    pedestal_radius=0.8 * 2.92258,\n",
    "    mode=\"H\",\n",
    "    shafranov_factor=0.44789,\n",
    "    triangularity=0.270,\n",
    "    ion_temperature_beta=6,\n",
    "    sample_size=50,  # the number of individual sources to use to make a combined source\n",
    "    angles=(0, 2 * 3.14)  # angle in radians\n",
    ").make_openmc_sources()  # returns a list of openmc sources"
   ]
  },
  {
   "cell_type": "markdown",
   "metadata": {},
   "source": [
    "To plot the parametric plasma source we store the x y z birth locations, energies and directions of neutrons in the source in separate lists."
   ]
  },
  {
   "cell_type": "code",
   "execution_count": null,
   "metadata": {},
   "outputs": [],
   "source": [
    "# plots multiple sources on one plot by iterating through\n",
    "# the list of sources and building up the plot\n",
    "plot = None\n",
    "for source in my_sources:\n",
    "    plot = source.plot_source_energy(figure=plot)\n",
    "plot.show()"
   ]
  },
  {
   "cell_type": "markdown",
   "metadata": {},
   "source": [
    "This code block then plots the birth location of each neutron, coloured by neutron birth energy."
   ]
  },
  {
   "cell_type": "code",
   "execution_count": null,
   "metadata": {},
   "outputs": [],
   "source": [
    "# plots multiple sources on one plot by iterating through\n",
    "# the list of sources and building up the plot\n",
    "plot = None\n",
    "for source in my_sources:\n",
    "    plot = source.plot_source_position(figure=plot)\n",
    "plot.show()"
   ]
  },
  {
   "cell_type": "markdown",
   "metadata": {},
   "source": [
    "We can also plot the birth direction of each neutron."
   ]
  },
  {
   "cell_type": "code",
   "execution_count": null,
   "metadata": {},
   "outputs": [],
   "source": [
    "plot = None\n",
    "for source in my_sources:\n",
    "    plot = source.plot_source_direction(figure=plot)\n",
    "plot.show()"
   ]
  },
  {
   "cell_type": "markdown",
   "metadata": {},
   "source": [
    "**Learning Outcomes for Part 2:**\n",
    "\n",
    "- Plasma sources can be defined using the parametric_plasma_source package."
   ]
  }
 ],
 "metadata": {
  "interpreter": {
   "hash": "5bd4b41850c31a1d72163a729a4c4fa5fa95797eb7378d3a268e56354026bb3c"
  },
  "kernelspec": {
   "display_name": "Python 3 (ipykernel)",
   "language": "python",
   "name": "python3"
  },
  "language_info": {
   "codemirror_mode": {
    "name": "ipython",
    "version": 3
   },
   "file_extension": ".py",
   "mimetype": "text/x-python",
   "name": "python",
   "nbconvert_exporter": "python",
   "pygments_lexer": "ipython3",
   "version": "3.10.12"
  }
 },
 "nbformat": 4,
 "nbformat_minor": 4
}
