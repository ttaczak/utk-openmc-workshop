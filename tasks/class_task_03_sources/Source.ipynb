{
 "cells": [
  {
   "cell_type": "markdown",
   "metadata": {},
   "source": [
    "# Types of Sources\n",
    "\n",
    "There are many types of sources you can input for openMC but the two primary ways that will be discussed in this tutorial are point sources and ring sources."
   ]
  },
  {
   "cell_type": "markdown",
   "metadata": {},
   "source": [
    "# Point sources\n",
    "\n",
    "To perform a neutronics simulation a neutron source must also be defined.\n",
    "\n",
    "This python notebook allows users to make a simple OpenMC point source and plot its energy, position and initial directions."
   ]
  },
  {
   "cell_type": "code",
   "execution_count": null,
   "metadata": {},
   "outputs": [],
   "source": [
    "import openmc\n",
    "import openmc_source_plotter  # extends the openmc.IndependentSource class to include plotting functions"
   ]
  },
  {
   "cell_type": "markdown",
   "metadata": {},
   "source": [
    "This first code block creates an isotropic point source with 14 MeV monoenergetic neutrons."
   ]
  },
  {
   "cell_type": "code",
   "execution_count": null,
   "metadata": {},
   "outputs": [],
   "source": [
    "# initialises a new source object\n",
    "my_source = openmc.IndependentSource()\n",
    "\n",
    "# sets the location of the source to x=0 y=0 z=0\n",
    "my_source.space = openmc.stats.Point((0, 0, 0))\n",
    "\n",
    "# sets the direction to isotropic\n",
    "my_source.angle = openmc.stats.Isotropic()\n",
    "\n",
    "# sets the energy distribution to 100% 14MeV neutrons\n",
    "my_source.energy = openmc.stats.Discrete([14e6], [1])"
   ]
  },
  {
   "cell_type": "markdown",
   "metadata": {},
   "source": [
    "this next code block runs openmc and creates a file containing information on the initial particles. The energy information is the extracted and plotted"
   ]
  },
  {
   "cell_type": "code",
   "execution_count": null,
   "metadata": {},
   "outputs": [],
   "source": [
    "my_source.plot_source_energy()"
   ]
  },
  {
   "cell_type": "markdown",
   "metadata": {},
   "source": [
    "The next code block creates an isotropic point source with a fission energy distribution."
   ]
  },
  {
   "cell_type": "code",
   "execution_count": null,
   "metadata": {},
   "outputs": [],
   "source": [
    "my_source_2 = openmc.IndependentSource()\n",
    "my_source_2.space = openmc.stats.Point((0, 0, 0))\n",
    "my_source_2.angle = openmc.stats.Isotropic()\n",
    "\n",
    "# Documentation on the Watt distribution is here\n",
    "# https://docs.openmc.org/en/stable/pythonapi/generated/openmc.data.WattEnergy.html\n",
    "my_source_2.energy = openmc.stats.Watt(a=988000.0, b=2.249e-06)\n",
    "\n",
    "my_source_2.plot_source_energy()"
   ]
  },
  {
   "cell_type": "markdown",
   "metadata": {},
   "source": [
    "This code block creates an isotropic point source with a fusion energy distribution."
   ]
  },
  {
   "cell_type": "code",
   "execution_count": null,
   "metadata": {},
   "outputs": [],
   "source": [
    "my_source_3 = openmc.IndependentSource()\n",
    "my_source_3.space = openmc.stats.Point((0, 0, 0))\n",
    "my_source_3.angle = openmc.stats.Isotropic()\n",
    "\n",
    "# Documentation on the Muir distribution is here\n",
    "# https://docs.openmc.org/en/stable/pythonapi/generated/openmc.stats.muir.html\n",
    "my_source_3.energy = openmc.stats.muir(e0=14080000.0, m_rat=5.0, kt=20000.0)\n",
    "\n",
    "my_source_3.plot_source_energy()"
   ]
  },
  {
   "cell_type": "markdown",
   "metadata": {},
   "source": [
    "The following code block plots the birth location of the neutrons from a 14 MeV monoenergetic point source."
   ]
  },
  {
   "cell_type": "code",
   "execution_count": null,
   "metadata": {},
   "outputs": [],
   "source": [
    "# Creates an isotropic point source with monoenergetic 14MeV neutrons\n",
    "my_source_4 = openmc.IndependentSource()\n",
    "my_source_4.space = openmc.stats.Point((0, 0, 0))\n",
    "my_source_4.angle = openmc.stats.Isotropic()\n",
    "my_source_4.energy = openmc.stats.Discrete([14e6], [1])\n",
    "\n",
    "my_source_4.plot_source_position()"
   ]
  },
  {
   "cell_type": "markdown",
   "metadata": {},
   "source": [
    "Finally, the following code block plots the birth direction of the neutrons from the same source."
   ]
  },
  {
   "cell_type": "code",
   "execution_count": null,
   "metadata": {},
   "outputs": [],
   "source": [
    "# Plots the direction of the neutrons\n",
    "my_source_4.plot_source_direction()"
   ]
  },
  {
   "cell_type": "markdown",
   "metadata": {},
   "source": [
    "# Ring sources\n",
    "\n",
    "We will make use of the CylindricalIndependent source as described in the docs\n",
    "https://docs.openmc.org/en/stable/pythonapi/generated/openmc.stats.CylindricalIndependent.html\n",
    "\n",
    "The CylindricalIndependent source can make makes a ring shaped source with the corect inputs.\n",
    "- The r value (distribution of radius values)\n",
    "- The phi value (distribution of azimuthal angle values)\n",
    "- The z value (distribution of z values on the z axis)\n",
    "\n",
    "Each of these inputs must be a univariate probability disitribution."
   ]
  },
  {
   "cell_type": "markdown",
   "metadata": {},
   "source": [
    "OpenMC has several built in distributions for popular distributions such as Normal, Maxwell and others.\n",
    "\n",
    "See the full list here https://docs.openmc.org/en/stable/pythonapi/stats.html#univariate-probability-distributions\n",
    "\n",
    "In this example we are going to make use of the Uniform disitrbution by feel free to tinker with the differnt distributions an make your own source."
   ]
  },
  {
   "cell_type": "code",
   "execution_count": null,
   "metadata": {},
   "outputs": [],
   "source": [
    "import openmc\n",
    "import openmc_source_plotter  # extends the openmc.IndependentSource class to include plotting functions\n",
    "\n",
    "# initialises a new source object\n",
    "my_source = openmc.IndependentSource()\n",
    "\n",
    "# the distribution of radius is just a single value\n",
    "radius = openmc.stats.Discrete([10], [1])\n",
    "\n",
    "# the distribution of source z values is just a single value\n",
    "z_values = openmc.stats.Discrete([0], [1])\n",
    "\n",
    "# the distribution of source azimuthal angles values is a uniform distribution between 0 and 2 Pi\n",
    "angle = openmc.stats.Uniform(a=0., b=2* 3.14159265359)\n",
    "\n",
    "# this makes the ring source using the three distributions and a radius\n",
    "my_source.space = openmc.stats.CylindricalIndependent(r=radius, phi=angle, z=z_values, origin=(0.0, 0.0, 0.0))\n",
    "\n",
    "# sets the direction to isotropic\n",
    "my_source.angle = openmc.stats.Isotropic()\n",
    "\n",
    "# sets the energy distribution to a Muir distribution neutrons\n",
    "my_source.energy = openmc.stats.muir(e0=14080000.0, m_rat=5.0, kt=20000.0)"
   ]
  },
  {
   "cell_type": "markdown",
   "metadata": {},
   "source": [
    "this next code block runs openmc and creates a file containing information on the initial particles. The position information is the extracted and plotted"
   ]
  },
  {
   "cell_type": "code",
   "execution_count": null,
   "metadata": {},
   "outputs": [],
   "source": [
    "my_source.plot_source_position()"
   ]
  },
  {
   "cell_type": "markdown",
   "metadata": {},
   "source": [
    "This is closer to looking like a plasma compared to a point source but the distribution of spatial distribution can be improved in the next task"
   ]
  },
  {
   "cell_type": "code",
   "execution_count": null,
   "metadata": {},
   "outputs": [],
   "source": [
    "# these plotting methods can also be run if you are interested in energy or direction\n",
    "# my_source.plot_source_energy()\n",
    "# my_source.plot_source_direction()"
   ]
  },
  {
   "cell_type": "markdown",
   "metadata": {},
   "source": [
    "# Plasma source plotting\n",
    "\n",
    "OpenMC can be used to create point sources with different energy distributions. However, there are other ways to create neutron sources for use in neutronics simulations.\n",
    "\n",
    "This python notebook allows users to plot the energy, position and initial directions of a parametric plasma source."
   ]
  },
  {
   "cell_type": "code",
   "execution_count": null,
   "metadata": {},
   "outputs": [],
   "source": [
    "import openmc\n",
    "import openmc_source_plotter  # extends the openmc.IndependentSource class to include plotting functions"
   ]
  },
  {
   "cell_type": "markdown",
   "metadata": {},
   "source": [
    "This first code block creates a neutron source using the PlasmaSource class from the parametric_plasma_source package. The properties of the source are controlled by the input parameters."
   ]
  },
  {
   "cell_type": "code",
   "execution_count": null,
   "metadata": {},
   "outputs": [],
   "source": [
    "from openmc_plasma_source import TokamakSource\n",
    "\n",
    "my_sources = TokamakSource(\n",
    "    elongation=1.557,\n",
    "    ion_density_centre=1.09e20,\n",
    "    ion_density_peaking_factor=1,\n",
    "    ion_density_pedestal=1.09e20,\n",
    "    ion_density_separatrix=3e19,\n",
    "    ion_temperature_centre=45.9,\n",
    "    ion_temperature_peaking_factor=8.06,\n",
    "    ion_temperature_pedestal=6.09,\n",
    "    ion_temperature_separatrix=0.1,\n",
    "    major_radius=9.06,\n",
    "    minor_radius=2.92258,\n",
    "    pedestal_radius=0.8 * 2.92258,\n",
    "    mode=\"H\",\n",
    "    shafranov_factor=0.44789,\n",
    "    triangularity=0.270,\n",
    "    ion_temperature_beta=6,\n",
    "    sample_size=50,  # the number of individual sources to use to make a combined source\n",
    "    angles=(0, 2 * 3.14)  # angle in radians\n",
    ").make_openmc_sources()  # returns a list of openmc sources"
   ]
  },
  {
   "cell_type": "markdown",
   "metadata": {},
   "source": [
    "To plot the parametric plasma source we store the x y z birth locations, energies and directions of neutrons in the source in separate lists."
   ]
  },
  {
   "cell_type": "code",
   "execution_count": null,
   "metadata": {},
   "outputs": [],
   "source": [
    "# plots multiple sources on one plot by iterating through\n",
    "# the list of sources and building up the plot\n",
    "plot = None\n",
    "for source in my_sources:\n",
    "    plot = source.plot_source_energy(figure=plot)\n",
    "plot.show()"
   ]
  },
  {
   "cell_type": "markdown",
   "metadata": {},
   "source": [
    "This code block then plots the birth location of each neutron, coloured by neutron birth energy."
   ]
  },
  {
   "cell_type": "code",
   "execution_count": null,
   "metadata": {},
   "outputs": [],
   "source": [
    "# plots multiple sources on one plot by iterating through\n",
    "# the list of sources and building up the plot\n",
    "plot = None\n",
    "for source in my_sources:\n",
    "    plot = source.plot_source_position(figure=plot)\n",
    "plot.show()"
   ]
  },
  {
   "cell_type": "markdown",
   "metadata": {},
   "source": [
    "We can also plot the birth direction of each neutron."
   ]
  },
  {
   "cell_type": "code",
   "execution_count": null,
   "metadata": {},
   "outputs": [],
   "source": [
    "plot = None\n",
    "for source in my_sources:\n",
    "    plot = source.plot_source_direction(figure=plot)\n",
    "plot.show()"
   ]
  },
  {
   "cell_type": "markdown",
   "metadata": {},
   "source": [
    "**Learning Outcomes for Part 2:**\n",
    "\n",
    "- Plasma sources can be defined using the parametric_plasma_source package."
   ]
  }
 ],
 "metadata": {
  "interpreter": {
   "hash": "5bd4b41850c31a1d72163a729a4c4fa5fa95797eb7378d3a268e56354026bb3c"
  },
  "kernelspec": {
   "display_name": "Python 3 (ipykernel)",
   "language": "python",
   "name": "python3"
  },
  "language_info": {
   "codemirror_mode": {
    "name": "ipython",
    "version": 3
   },
   "file_extension": ".py",
   "mimetype": "text/x-python",
   "name": "python",
   "nbconvert_exporter": "python",
   "pygments_lexer": "ipython3",
   "version": "3.12.0"
  }
 },
 "nbformat": 4,
 "nbformat_minor": 4
}
