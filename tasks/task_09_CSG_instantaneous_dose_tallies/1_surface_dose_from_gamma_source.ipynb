{
 "cells": [
  {
   "attachments": {},
   "cell_type": "markdown",
   "metadata": {},
   "source": [
    "# Part 1 - Simulations of effective dose on a surface\n",
    "\n",
    "\n",
    "Effective dose is used to assess the potential for long-term radiation effects that might occur in the future.\n",
    "\n",
    "Effective dose provides a single number that reflects the exposure to radiation. To quote ICRP who define the quantity, \"it sums up any number of different exposures into a single number that reflects, in a general way, the overall risk\".\n",
    "\n",
    "Effective dose is a calculated value, measured in mSv. Effective dose is calculated for the whole body. It is the sum of equivalent doses to all organs, each adjusted to account for the sensitivity of the organ to radiation. Read more about equivalent dose, absorbed dose and effective dose on the ICRP website.\n",
    "\n",
    "http://icrpaedia.org/Absorbed,_Equivalent,_and_Effective_Dose"
   ]
  },
  {
   "attachments": {},
   "cell_type": "markdown",
   "metadata": {},
   "source": [
    "The effective dose deposited by a neutron or photon depends on the energy of the particle. The dose coefficients provided by ICRP are energy dependant.\n",
    "\n",
    "The following section plots effective dose coefficient as a function of incident particle energy for neutrons and photons."
   ]
  },
  {
   "cell_type": "code",
   "execution_count": null,
   "metadata": {
    "scrolled": true
   },
   "outputs": [],
   "source": [
    "import openmc\n",
    "import plotly.graph_objects as go\n",
    "\n",
    "energy_bins_n, dose_coeffs_n = openmc.data.dose_coefficients(\n",
    "    particle='neutron',\n",
    "    geometry='AP'  # AP defines the direction of the source to person, for more details see documentation https://docs.openmc.org/en/stable/pythonapi/generated/openmc.data.dose_coefficients.html\n",
    ")\n",
    "\n",
    "energy_bins_p, dose_coeffs_p = openmc.data.dose_coefficients(particle='photon', geometry='AP')\n",
    "\n",
    "fig = go.Figure()\n",
    "\n",
    "fig.update_layout(\n",
    "      title='ICRP Effective Dose Coefficient (AP)',\n",
    "      xaxis={'title': 'Energy (eV)',\n",
    "             'range': (0, 14.1e6)},\n",
    "      yaxis={'title': 'Effective dose per fluence, in units of pSv cm²'}\n",
    ")\n",
    "\n",
    "\n",
    "fig.add_trace(go.Scatter(\n",
    "    x=energy_bins_p,\n",
    "    y=dose_coeffs_p,\n",
    "    mode='lines',\n",
    "    name='photon'\n",
    "))\n",
    "\n",
    "fig.add_trace(go.Scatter(\n",
    "    x=energy_bins_n,\n",
    "    y=dose_coeffs_n,\n",
    "    mode='lines',\n",
    "    name='neutron'\n",
    "))"
   ]
  },
  {
   "attachments": {},
   "cell_type": "markdown",
   "metadata": {},
   "source": [
    "To find the effective dose on a surface a geometry is needed along with some materials and a tally.\n",
    "\n",
    "The following section makes a 'cask' geometry and materials which will have a dose tally added to it later."
   ]
  },
  {
   "attachments": {},
   "cell_type": "markdown",
   "metadata": {},
   "source": [
    "This code block makes the material used for the cask."
   ]
  },
  {
   "cell_type": "code",
   "execution_count": null,
   "metadata": {},
   "outputs": [],
   "source": [
    "steel = openmc.Material()\n",
    "steel.set_density('g/cm3', 7.75)\n",
    "steel.add_element('Fe', 0.95, percent_type='wo')\n",
    "steel.add_element('C', 0.05, percent_type='wo')\n",
    "\n",
    "my_materials = openmc.Materials([steel])"
   ]
  },
  {
   "attachments": {},
   "cell_type": "markdown",
   "metadata": {},
   "source": [
    "This code block makes the CSG geometry for the cask."
   ]
  },
  {
   "cell_type": "code",
   "execution_count": null,
   "metadata": {
    "scrolled": true
   },
   "outputs": [],
   "source": [
    "height = 100\n",
    "outer_radius = 50\n",
    "thickness = 10\n",
    "\n",
    "outer_cylinder = openmc.ZCylinder(r=outer_radius)\n",
    "inner_cylinder = openmc.ZCylinder(r=outer_radius-thickness)\n",
    "inner_top = openmc.ZPlane(z0=height*0.5)\n",
    "inner_bottom = openmc.ZPlane(z0=-height*0.5)\n",
    "outer_top = openmc.ZPlane(z0=(height*0.5)+thickness)\n",
    "outer_bottom = openmc.ZPlane(z0=(-height*0.5)-thickness)\n",
    "\n",
    "# this shpere_1 are used to tally the dose\n",
    "sphere_1 = openmc.Sphere(r=100)\n",
    "# can't actually tally on the end of universe sphere hence sphere 1 is needed\n",
    "sphere_2 = openmc.Sphere(r=101, boundary_type='vacuum')\n",
    "\n",
    "cylinder_region = -outer_cylinder & +inner_cylinder & -inner_top & +inner_bottom\n",
    "cylinder_cell = openmc.Cell(region=cylinder_region)\n",
    "cylinder_cell.fill = steel\n",
    "\n",
    "top_cap_region = -outer_top & +inner_top & -outer_cylinder\n",
    "top_cap_cell = openmc.Cell(region=top_cap_region)\n",
    "top_cap_cell.fill = steel\n",
    "\n",
    "bottom_cap_region = +outer_bottom & -inner_bottom & -outer_cylinder\n",
    "bottom_cap_cell = openmc.Cell(region=bottom_cap_region)\n",
    "bottom_cap_cell.fill = steel\n",
    "\n",
    "inner_void_region = -inner_cylinder & -inner_top & +inner_bottom\n",
    "inner_void_cell = openmc.Cell(region=inner_void_region)\n",
    "\n",
    "# sphere 1 region is below -sphere_1 and not (~) in the other regions\n",
    "sphere_1_region = -sphere_1\n",
    "sphere_1_cell = openmc.Cell(\n",
    "    region= sphere_1_region\n",
    "    & ~bottom_cap_region\n",
    "    & ~top_cap_region\n",
    "    & ~cylinder_region\n",
    "    & ~inner_void_region\n",
    ")\n",
    "\n",
    "sphere_2_region = +sphere_1 & -sphere_2\n",
    "sphere_2_cell = openmc.Cell(region= sphere_2_region)\n",
    "\n",
    "my_geometry = openmc.Geometry([\n",
    "    inner_void_cell, cylinder_cell, top_cap_cell,\n",
    "    bottom_cap_cell, sphere_1_cell, sphere_2_cell])"
   ]
  },
  {
   "attachments": {},
   "cell_type": "markdown",
   "metadata": {},
   "source": [
    "This code block plots the geometry and colours regions to identify the cells / materials - useful for checking the geometry looks correct."
   ]
  },
  {
   "cell_type": "code",
   "execution_count": null,
   "metadata": {
    "scrolled": true
   },
   "outputs": [],
   "source": [
    "import matplotlib.pyplot as plt\n",
    "color_assignment = {sphere_1_cell: 'grey',\n",
    "                    sphere_2_cell: 'grey',\n",
    "                    inner_void_cell: 'grey',\n",
    "                    bottom_cap_cell: 'red',\n",
    "                    top_cap_cell: 'blue',\n",
    "                    cylinder_cell:'yellow',\n",
    "                   }\n",
    "x, y = 200, 200\n",
    "plot = my_geometry.plot(basis='xz', color_by='material', colors=color_assignment) \n",
    "plot.figure.savefig('xz.png')\n",
    "\n",
    "plot = my_geometry.plot(basis='xy', color_by='material', colors=color_assignment) \n",
    "plot.figure.savefig('xy.png')"
   ]
  },
  {
   "attachments": {},
   "cell_type": "markdown",
   "metadata": {},
   "source": [
    "This section makes the source. Note the use of the Co60 gamma source with two energy levels."
   ]
  },
  {
   "cell_type": "code",
   "execution_count": null,
   "metadata": {},
   "outputs": [],
   "source": [
    "# Instantiate a Settings object\n",
    "my_settings = openmc.Settings()\n",
    "my_settings.batches = 10\n",
    "my_settings.inactive = 0\n",
    "my_settings.particles = 500\n",
    "my_settings.run_mode = 'fixed source'\n",
    "\n",
    "# Create a gamma point source\n",
    "my_source = openmc.IndependentSource()\n",
    "my_source.space = openmc.stats.Point((0, 0, 0))\n",
    "my_source.angle = openmc.stats.Isotropic()\n",
    "# This is a Co60 source, see the task on sources to understand it\n",
    "my_source.energy = openmc.stats.Discrete([1.1732e6,1.3325e6], [0.5, 0.5])\n",
    "my_source.particle = 'photon'\n",
    "my_settings.source = my_source"
   ]
  },
  {
   "attachments": {},
   "cell_type": "markdown",
   "metadata": {},
   "source": [
    "Dose coefficients can then be used in a neutronics tally with the openmc.EnergyFunctionFilter.\n",
    "\n",
    "This will multiply the particle energy spectra with the effective dose coefficient to produce a single number for effective dose.\n",
    "\n",
    "ICRP recommend the use of 'cubic' interpolation.\n",
    "\"For interpolations of absorbed dose and effective dose per fluence, a four-point (cubic) Lagrangian interpolation formula is recommended, and alog–log graph scale is more appropriate. Interpolations of absorbed dose and effective dose per air kerma of photons should be carried out using a four-point(cubic) Lagrangian interpolation formula, and a linear–log graph scale is more appropriate.\" \n",
    "https://journals.sagepub.com/doi/pdf/10.1177/ANIB_40_2-5"
   ]
  },
  {
   "cell_type": "code",
   "execution_count": null,
   "metadata": {},
   "outputs": [],
   "source": [
    "energy_function_filter_n = openmc.EnergyFunctionFilter(energy_bins_n, dose_coeffs_n)\n",
    "energy_function_filter_n.interpolation = 'cubic'  # cubic interpolation is recommended by ICRP\n",
    "\n",
    "energy_function_filter_p = openmc.EnergyFunctionFilter(energy_bins_p, dose_coeffs_p)\n",
    "energy_function_filter_p.interpolation = 'cubic'  # cubic interpolation is recommended by ICRP\n",
    "\n",
    "photon_particle_filter = openmc.ParticleFilter([\"photon\"])\n",
    "surface_filter = openmc.SurfaceFilter(sphere_1)\n",
    "\n",
    "dose_tally = openmc.Tally(name=\"dose_tally_on_surface\")\n",
    "dose_tally.scores = [\"current\"]\n",
    "dose_tally.filters = [\n",
    "    surface_filter,\n",
    "    photon_particle_filter,\n",
    "    energy_function_filter_p,\n",
    "]\n",
    "my_tallies = openmc.Tallies([dose_tally])"
   ]
  },
  {
   "attachments": {},
   "cell_type": "markdown",
   "metadata": {},
   "source": [
    "This code block runs the simulations."
   ]
  },
  {
   "cell_type": "code",
   "execution_count": null,
   "metadata": {},
   "outputs": [],
   "source": [
    "# Run OpenMC!\n",
    "model = openmc.model.Model(my_geometry, my_materials, my_settings, my_tallies)\n",
    "!rm *.h5\n",
    "sp_filename = model.run()"
   ]
  },
  {
   "attachments": {},
   "cell_type": "markdown",
   "metadata": {},
   "source": [
    "The following section extracts the tally result of the simulation and post-processes it to calculate the dose rate.\n",
    "\n",
    "The cell tally has units of pSv cm² per source particle (p is pico). Therefore, the tally result must be divided by the surface area of the sphere to make the units into pSv, and then multiplied by the activity (in Bq) of the source to get pSv per second."
   ]
  },
  {
   "cell_type": "code",
   "execution_count": null,
   "metadata": {},
   "outputs": [],
   "source": [
    "import math\n",
    "\n",
    "# open the results file\n",
    "sp = openmc.StatePoint(sp_filename)\n",
    "\n",
    "# access the tally using pandas dataframes\n",
    "tally = sp.get_tally(name='dose_tally_on_surface')\n",
    "df = tally.get_pandas_dataframe()\n",
    "\n",
    "tally_result = df['mean'].sum()\n",
    "tally_std_dev = df['std. dev.'].sum()\n",
    "\n",
    "# convert from the tally output units of pSv cm² to pSv by dividing by the surface area of the surface\n",
    "dose_in_pSv = tally_result / (4 * math.pi * math.pow(200, 2))\n",
    "\n",
    "source_activity = 56000  # in decays per second (Bq)\n",
    "emission_rate = 2  # the number of gammas emitted per decay which is approximately 2 for Co60\n",
    "gamma_per_second = source_activity * emission_rate\n",
    "dose_rate_in_pSv = dose_in_pSv * gamma_per_second\n",
    "\n",
    "# print results\n",
    "print('The surface dose = ', dose_rate_in_pSv, 'pico Sv per second')"
   ]
  },
  {
   "attachments": {},
   "cell_type": "markdown",
   "metadata": {},
   "source": [
    "**Learning Outcomes for Part 1:**\n",
    "\n",
    "- Appreciation of equivalent and effective dose.\n",
    "- Dose tallies.\n",
    "- Post-processing of tally results to obtain dose rate."
   ]
  }
 ],
 "metadata": {
  "kernelspec": {
   "display_name": "Python 3 (ipykernel)",
   "language": "python",
   "name": "python3"
  },
  "language_info": {
   "codemirror_mode": {
    "name": "ipython",
    "version": 3
   },
   "file_extension": ".py",
   "mimetype": "text/x-python",
   "name": "python",
   "nbconvert_exporter": "python",
   "pygments_lexer": "ipython3",
   "version": "3.10.12"
  }
 },
 "nbformat": 4,
 "nbformat_minor": 4
}
