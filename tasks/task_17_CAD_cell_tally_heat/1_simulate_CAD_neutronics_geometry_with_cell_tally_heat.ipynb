{
 "cells": [
  {
   "attachments": {},
   "cell_type": "markdown",
   "metadata": {},
   "source": [
    "# Neutronics simulation with CAD geometry\n",
    "\n",
    "This example creates a CAD geometry and then carries out a neutronics simulation with a heating cell tally."
   ]
  },
  {
   "attachments": {},
   "cell_type": "markdown",
   "metadata": {},
   "source": [
    "This section makes a few components and places them in a reactor object. These will form the CAD model with which we will perform a neutronics simulation."
   ]
  },
  {
   "cell_type": "code",
   "execution_count": null,
   "metadata": {},
   "outputs": [],
   "source": [
    "import paramak\n",
    "\n",
    "plasma = paramak.Plasma(\n",
    "    minor_radius=150.,\n",
    "    major_radius=450.,\n",
    "    triangularity=0.55,\n",
    "    elongation=2.,\n",
    "    rotation_angle=180,\n",
    "    name='plasma'\n",
    ")\n",
    "\n",
    "blanket = paramak.BlanketFP(\n",
    "    plasma=plasma,\n",
    "    thickness=50,\n",
    "    stop_angle=90,\n",
    "    start_angle=-90,\n",
    "    offset_from_plasma=40,\n",
    "    rotation_angle=180,\n",
    "    name='blanket'\n",
    ")\n",
    "\n",
    "my_reactor = paramak.Reactor([plasma, blanket])\n",
    "my_reactor.show()"
   ]
  },
  {
   "attachments": {},
   "cell_type": "markdown",
   "metadata": {},
   "source": [
    "This next code block exports the 3D reactor geometry as a DAGMC compatibile h5m file which can be used as a neutronics geometry. DAGMC is a neutronics code that allows particle transport on CAD geometry with various neutronics transport codes (including OpenMC).\n",
    "\n",
    "More details on DAGMC here https://svalinn.github.io/DAGMC/\n",
    "\n",
    "This export will take a reasonable amount of time compared to other cells"
   ]
  },
  {
   "cell_type": "code",
   "execution_count": null,
   "metadata": {},
   "outputs": [],
   "source": [
    "!rm dagmc.h5m\n",
    "my_reactor.export_dagmc_h5m(filename='dagmc.h5m', min_mesh_size=15, max_mesh_size=30)"
   ]
  },
  {
   "attachments": {},
   "cell_type": "markdown",
   "metadata": {},
   "source": [
    "The model can now be simulated in OpenMC. OpenMC is imported along with some convenience packages"
   ]
  },
  {
   "cell_type": "code",
   "execution_count": null,
   "metadata": {},
   "outputs": [],
   "source": [
    "import openmc\n",
    "import neutronics_material_maker as nmm  # makes materials from a database"
   ]
  },
  {
   "attachments": {},
   "cell_type": "markdown",
   "metadata": {},
   "source": [
    "This section forms the neutronics model by combining the DAGMC model with a plasma source and some assigned materials. Additionally, the tallies to record the heating are specified. The code block also sets simulation intensity and specifies the neutronics results to record (know as tallies)."
   ]
  },
  {
   "cell_type": "code",
   "execution_count": null,
   "metadata": {},
   "outputs": [],
   "source": [
    "# makes a bounding box around the CAD geometry with vacuum surfaces\n",
    "bound_dag_univ = openmc.DAGMCUniverse(filename='dagmc.h5m').bounded_universe()\n",
    "my_geometry = openmc.Geometry(root=bound_dag_univ)\n",
    "\n",
    "\n",
    "# this links the material tags in the dagmc h5m file with materials.\n",
    "# the materials names are changed after their creation to match the \n",
    "# expected material tags in the dagmc file.\n",
    "mat1 = nmm.Material.from_library(name='DT_plasma').openmc_material\n",
    "mat1.name = 'plasma'\n",
    "mat2 = nmm.Material.from_library(name='Li4SiO4').openmc_material\n",
    "mat2.name = 'blanket'\n",
    "\n",
    "materials = openmc.Materials([mat1, mat2])\n",
    "\n",
    "\n",
    "tally1 = openmc.Tally()\n",
    "material_filter = openmc.MaterialFilter(mat2)  # the center column material\n",
    "tally1 = openmc.Tally(name='blanket_heating')\n",
    "tally1.filters = [material_filter]\n",
    "tally1.scores = ['heating']\n",
    "\n",
    "my_tallies = openmc.Tallies([tally1])\n",
    "\n",
    "# here an instance of the settings object has been created and attributes set on creation\n",
    "my_settings = openmc.Settings(batches = 1, particles = 100, run_mode = 'fixed source')\n",
    "\n",
    "# Assigns a ring source of DT energy neutrons to the source. This source has a\n",
    "# 14MeV neutron energy, with a radius of 350cm and is half a ring (0 to 180 degrees)\n",
    "# If you are keen to make more realistic plasma sources take a looks at the\n",
    "# openmc_plasma_source python package https://github.com/fusion-energy/openmc-plasma-source\n",
    "my_source = openmc.IndependentSource()\n",
    "my_source.angle = openmc.stats.Isotropic()\n",
    "my_source.energy = openmc.stats.Discrete([14e6], [1])\n",
    "my_source.space = openmc.stats.CylindricalIndependent(\n",
    "    r=openmc.stats.Discrete([350], [1]),  # all source points at a radius of 350 cm\n",
    "    phi=openmc.stats.Uniform(a=0, b=3.14), # angular distribution between 0 and pi\n",
    "    z=openmc.stats.Discrete([0], [1]), # all source points at 0 on the z axis\n",
    "    origin=(0.0, 0.0, 0.0), # centered around 0,0,0 x,y,z\n",
    ")\n",
    "my_settings.source = my_source\n",
    "\n",
    "my_model = openmc.Model(\n",
    "    materials=materials, geometry=my_geometry, settings=my_settings, tallies=my_tallies\n",
    ")\n",
    "\n",
    "# delete old files just in case they are there\n",
    "!rm summary.h5\n",
    "!rm statepoint*.h5\n",
    "\n",
    "# starts the simulation and gets the filename of the output file produced\n",
    "statepoint_file = my_model.run()"
   ]
  },
  {
   "attachments": {},
   "cell_type": "markdown",
   "metadata": {},
   "source": [
    "Extracting the resulting tally value from the statepoint file"
   ]
  },
  {
   "cell_type": "code",
   "execution_count": null,
   "metadata": {},
   "outputs": [],
   "source": [
    "sp = openmc.StatePoint(statepoint_file)\n",
    "\n",
    "heating_tally = sp.get_tally(name='blanket_heating')\n",
    "\n",
    "# this returns the tally in unknown base units\n",
    "heating_tally.get_values().sum()"
   ]
  },
  {
   "attachments": {},
   "cell_type": "markdown",
   "metadata": {},
   "source": [
    "This next cell just imports a post processing package and uses that package to find the units of the tally"
   ]
  },
  {
   "cell_type": "code",
   "execution_count": null,
   "metadata": {},
   "outputs": [],
   "source": [
    "import openmc_tally_unit_converter as otuc\n",
    "\n",
    "tally = otuc.process_tally(\n",
    "    heating_tally,\n",
    ")\n",
    "# this prints the tally with base units identified\n",
    "print(tally)"
   ]
  },
  {
   "attachments": {},
   "cell_type": "markdown",
   "metadata": {},
   "source": [
    "Converts the units from the base units (eV/simulated particle) to MeV/simulated particle"
   ]
  },
  {
   "cell_type": "code",
   "execution_count": null,
   "metadata": {},
   "outputs": [],
   "source": [
    "otuc.process_tally(\n",
    "    heating_tally,\n",
    "    required_units=\"MeV/source_particle\"\n",
    ")"
   ]
  },
  {
   "attachments": {},
   "cell_type": "markdown",
   "metadata": {},
   "source": [
    "Converts units by normalising by the source strength (number of nuetrons per second)"
   ]
  },
  {
   "cell_type": "code",
   "execution_count": null,
   "metadata": {},
   "outputs": [],
   "source": [
    "otuc.process_tally(\n",
    "    heating_tally,\n",
    "    required_units=\"gigawatts\",\n",
    "    source_strength=1e21\n",
    ")"
   ]
  },
  {
   "attachments": {},
   "cell_type": "markdown",
   "metadata": {},
   "source": [
    "**Learning Outcomes from Task 11**\n",
    "\n",
    "- Neutronics simulations can be performed by combining CAD models, neutron sources and material definitions.\n",
    "- Scaled the units of the output results using post processing package"
   ]
  }
 ],
 "metadata": {
  "kernelspec": {
   "display_name": "Python 3.8.12 ('paramak_dev')",
   "language": "python",
   "name": "python3"
  },
  "language_info": {
   "codemirror_mode": {
    "name": "ipython",
    "version": 3
   },
   "file_extension": ".py",
   "mimetype": "text/x-python",
   "name": "python",
   "nbconvert_exporter": "python",
   "pygments_lexer": "ipython3",
   "version": "3.8.12"
  },
  "vscode": {
   "interpreter": {
    "hash": "c47dabf1cc2568b64caa04441372f68f02228a3c450a6b1274acdfdc3a93f19e"
   }
  }
 },
 "nbformat": 4,
 "nbformat_minor": 4
}
