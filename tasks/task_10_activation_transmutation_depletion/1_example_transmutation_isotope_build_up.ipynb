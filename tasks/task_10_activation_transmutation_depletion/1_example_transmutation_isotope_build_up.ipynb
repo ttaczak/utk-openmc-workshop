{
 "cells": [
  {
   "attachments": {},
   "cell_type": "markdown",
   "id": "cc29c481-66a0-4cb1-9bbd-2062e84ac1bb",
   "metadata": {},
   "source": [
    "This example simulates the build up of activate products within a material under neutron irradiation. The subsequent decay of unstable isotopes is also simulated."
   ]
  },
  {
   "attachments": {},
   "cell_type": "markdown",
   "id": "d4ccbdf3-2acc-45e8-8ece-62e5efb08dd0",
   "metadata": {},
   "source": [
    "This first cell imports the packages needed, note the extra import openmc.deplete import"
   ]
  },
  {
   "cell_type": "code",
   "execution_count": null,
   "id": "79109819-dc17-4406-a9b7-0a870668ef9c",
   "metadata": {},
   "outputs": [],
   "source": [
    "# remove any old files\n",
    "!rm settings.xm model.xml materials.xml geometry.xml settings.xml\n",
    "\n",
    "import openmc\n",
    "import openmc.deplete\n",
    "from pathlib import Path\n",
    "\n",
    "# users might want to change these to use specific xml files to use particular decay data or transport cross sections\n",
    "# the chain file was downloaded with\n",
    "# pip install openmc_data\n",
    "# download_endf_chain -r b8.0\n",
    "# chain_file = '/nuclear_data/chain-endf-b8.0.xml'\n",
    "# openmc.config['chain_file'] = chain_file\n"
   ]
  },
  {
   "attachments": {},
   "cell_type": "markdown",
   "id": "c0e736bb-6e0b-4825-811d-c4683dd6b65c",
   "metadata": {},
   "source": [
    "This section creates the geometry and the cells.\n",
    "Note that it it necessary to set the volume of the material or cell.\n",
    "This is so that the depletion code can find the number of atoms within the cell given the material composition, material density and volume."
   ]
  },
  {
   "cell_type": "code",
   "execution_count": null,
   "id": "23f9d871-3ed2-41c1-99b6-c3fa2b59e36e",
   "metadata": {},
   "outputs": [],
   "source": [
    "\n",
    "import math\n",
    "\n",
    "# MATERIALS\n",
    "\n",
    "# makes a simple material from Silver\n",
    "my_material = openmc.Material() \n",
    "my_material.add_element('Ag', 1, percent_type='ao')\n",
    "my_material.set_density('g/cm3', 10.49)\n",
    "\n",
    "\n",
    "sphere_radius = 100\n",
    "volume_of_sphere = (4/3) * math.pi * math.pow(sphere_radius, 3)\n",
    "my_material.volume = volume_of_sphere  # a volume is needed so openmc can find the number of atoms in the cell/material\n",
    "my_material.depletable = True  # depletable = True is needed to tell openmc to update the material with each time step\n",
    "\n",
    "materials = openmc.Materials([my_material])\n",
    "materials.export_to_xml()\n",
    "\n",
    "\n",
    "# GEOMETRY\n",
    "\n",
    "# surfaces\n",
    "sph1 = openmc.Sphere(r=sphere_radius, boundary_type='vacuum')\n",
    "\n",
    "# cells, makes a simple sphere cell\n",
    "shield_cell = openmc.Cell(region=-sph1)\n",
    "shield_cell.fill = my_material\n",
    "\n",
    "# sets the geometry to the universe that contains just the one cell\n",
    "geometry = openmc.Geometry([shield_cell])\n",
    "\n"
   ]
  },
  {
   "attachments": {},
   "cell_type": "markdown",
   "id": "9c02c01d-c0ac-42dc-8167-add037e1b68c",
   "metadata": {},
   "source": [
    "This section defines the neutron source term to use and the settings"
   ]
  },
  {
   "cell_type": "code",
   "execution_count": null,
   "id": "6f19a174-bec2-4a88-be89-d156db142521",
   "metadata": {},
   "outputs": [],
   "source": [
    "# creates a 14MeV neutron point source\n",
    "source = openmc.IndependentSource()\n",
    "source.space = openmc.stats.Point((0, 0, 0))\n",
    "source.angle = openmc.stats.Isotropic()\n",
    "source.energy = openmc.stats.Discrete([14e6], [1])\n",
    "source.particles = 'neutron'\n",
    "\n",
    "# SETTINGS\n",
    "\n",
    "# Instantiate a Settings object\n",
    "settings = openmc.Settings()\n",
    "settings.batches = 2\n",
    "settings.inactive = 0\n",
    "settings.particles = 10000\n",
    "settings.source = source\n",
    "settings.run_mode = 'fixed source'\n",
    "\n",
    "model = openmc.model.Model(geometry, materials, settings)"
   ]
  },
  {
   "attachments": {},
   "cell_type": "markdown",
   "id": "74ad9236-6cbf-41e0-940d-a686588a4e3b",
   "metadata": {},
   "source": [
    "This is the depletion specific part of the model setup.\n",
    "\n",
    "This section specifies the chain file, this tells openmc the decay paths between isotopes including probabilities of different routes and half lives"
   ]
  },
  {
   "attachments": {},
   "cell_type": "markdown",
   "id": "601d7b58",
   "metadata": {},
   "source": [
    "This next stage sets the time steps and corresponding source rates for the irradiation schedule.\n",
    "\n",
    "An output file will be produced with showing the material composition at every time step.\n",
    "\n",
    "We are irradiating the Silver for multiple half lives to show build up and saturation\n",
    "\n",
    "Saturation happens when decay is = to creation of the particular isotope\n",
    "\n",
    "Ag110 half life is 24 seconds so it will start to become saturated after 120 seconds\n",
    "\n",
    "Ag108 half life is 145 seconds so it will not be saturated"
   ]
  },
  {
   "cell_type": "code",
   "execution_count": null,
   "id": "c35d5f9b",
   "metadata": {},
   "outputs": [],
   "source": [
    "# We define timesteps together with the source rate to make it clearer\n",
    "timesteps_and_source_rates = [\n",
    "    (24, 1e20),\n",
    "    (24, 1e20),\n",
    "    (24, 1e20),\n",
    "    (24, 1e20),\n",
    "    (24, 1e20),  # should saturate Ag110 here as it has been irradiated for over 5 halflives\n",
    "    (24, 1e20),\n",
    "    (24, 1e20),\n",
    "    (24, 1e20),\n",
    "    (24, 1e20),\n",
    "    (24, 0),\n",
    "    (24, 0),\n",
    "    (24, 0),\n",
    "    (24, 0),\n",
    "    (24, 0),\n",
    "    (24, 0),\n",
    "    (24, 0),\n",
    "    (24, 0),\n",
    "    (24, 0),\n",
    "    (24, 0),\n",
    "    (24, 0),\n",
    "]\n",
    "\n",
    "# Uses list Python comprehension to get the timesteps and source_rates separately\n",
    "timesteps = [item[0] for item in timesteps_and_source_rates]\n",
    "source_rates = [item[1] for item in timesteps_and_source_rates]\n",
    "\n",
    "\n",
    "# PredictorIntegrator has been selected as the depletion operator for this example as it is a fast first order Integrator\n",
    "# OpenMC offers several time-integration algorithms https://docs.openmc.org/en/stable/pythonapi/deplete.html#primary-api\\n\",\n",
    "# CF4Integrator should normally be selected as it appears to be the most accurate https://dspace.mit.edu/handle/1721.1/113721\\n\",\n",
    "\n",
    "model.deplete(\n",
    "    timesteps,\n",
    "    source_rates=source_rates,\n",
    "    method=\"predictor\",  # predictor is a simple but quick method\n",
    "    operator_kwargs={\n",
    "        \"normalization_mode\": \"source-rate\",  # needed as this is a fixed source simulation\n",
    "        \"chain_file\": openmc.config['chain_file'],\n",
    "        \"reduce_chain_level\": 5,\n",
    "        \"reduce_chain\": True\n",
    "    },\n",
    ")"
   ]
  },
  {
   "attachments": {},
   "cell_type": "markdown",
   "id": "ee0f0913",
   "metadata": {},
   "source": [
    "This next section starts the depletion simulation and produces the output files"
   ]
  },
  {
   "attachments": {},
   "cell_type": "markdown",
   "id": "2cb387d1-d9bb-45bb-89ff-dea703fa3c3e",
   "metadata": {},
   "source": [
    "This section extracts the results of the depletion simulation from the h5 file and gets the amount of Ag110 in the material at each of the time steps"
   ]
  },
  {
   "cell_type": "code",
   "execution_count": null,
   "id": "da98efe3-c303-48e0-9928-09a74f7cfa0a",
   "metadata": {},
   "outputs": [],
   "source": [
    "results = openmc.deplete.ResultsList.from_hdf5(\"depletion_results.h5\")\n",
    "\n",
    "times, number_of_Ag110_atoms = results.get_atoms(my_material, 'Ag110')\n",
    "\n",
    "for time, num in zip(times, number_of_Ag110_atoms):\n",
    "    print(f\" Time {time}s. Number of Ag110 atoms {num}\")"
   ]
  },
  {
   "attachments": {},
   "cell_type": "markdown",
   "id": "072b7db4-e37c-47bd-9c59-40f2a5a85e83",
   "metadata": {},
   "source": [
    "In addition to Ag110 other atoms get created. This section plots the number of nuclides in the material excluding the original nuclides in the unirradiated material"
   ]
  },
  {
   "cell_type": "code",
   "execution_count": null,
   "id": "3a133961-9485-4f95-ace1-4138cf6f5029",
   "metadata": {},
   "outputs": [],
   "source": [
    "import openmc_depletion_plotter\n",
    "# this package provides convenient plotting methods for depletion simulations like this one\n",
    "# more details here https://github.com/fusion-energy/openmc_depletion_plotter\n",
    "\n",
    "results.plot_atoms_vs_time(excluded_material=my_material)"
   ]
  },
  {
   "attachments": {},
   "cell_type": "markdown",
   "id": "819a86c6",
   "metadata": {},
   "source": [
    "Not all nuclide are unstable and the unstable ones have a different half life. This next plot shows the specific activity (activity per unit mass) as a function of time.\n",
    "\n",
    "This is useful for identifying a suitable waste repository for activated waste."
   ]
  },
  {
   "cell_type": "code",
   "execution_count": null,
   "id": "1aecca70",
   "metadata": {},
   "outputs": [],
   "source": [
    "results.plot_activity_vs_time()"
   ]
  }
 ],
 "metadata": {
  "kernelspec": {
   "display_name": "Python 3 (ipykernel)",
   "language": "python",
   "name": "python3"
  },
  "language_info": {
   "codemirror_mode": {
    "name": "ipython",
    "version": 3
   },
   "file_extension": ".py",
   "mimetype": "text/x-python",
   "name": "python",
   "nbconvert_exporter": "python",
   "pygments_lexer": "ipython3",
   "version": "3.10.12"
  },
  "vscode": {
   "interpreter": {
    "hash": "c4091e6bedd918551d58365c181e219409ee0bad4691fd7a9c5816fcde549631"
   }
  }
 },
 "nbformat": 4,
 "nbformat_minor": 5
}
