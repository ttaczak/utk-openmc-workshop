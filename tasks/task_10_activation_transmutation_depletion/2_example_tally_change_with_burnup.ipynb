{
 "cells": [
  {
   "attachments": {},
   "cell_type": "markdown",
   "id": "4b581989-47fb-401b-a8c8-ad97746670d5",
   "metadata": {},
   "source": [
    "This example simulates the variation of a tally responce as a function of time. This particular tally is the tritium breeding ratio and this tends to decrease over time as the lithium gets burnt up by neutron irradiation"
   ]
  },
  {
   "cell_type": "code",
   "execution_count": null,
   "id": "9f65541a-65d9-423b-99f4-aa21f6e6b017",
   "metadata": {},
   "outputs": [],
   "source": [
    "# remove any old files\n",
    "!rm settings.xm model.xml materials.xml geometry.xml settings.xml model.xml\n",
    "\n",
    "import openmc\n",
    "import openmc.deplete\n",
    "import math\n",
    "\n",
    "\n",
    "# MATERIALS\n",
    "\n",
    "mats = openmc.Materials()\n",
    "\n",
    "# makes a simple material from Iron\n",
    "breeding_material = openmc.Material() \n",
    "breeding_material.add_elements_from_formula('Li4SiO4')\n",
    "breeding_material.set_density('g/cm3', 2.5)\n",
    "\n",
    "lithium_orthosilicate_radius = 250\n",
    "breeding_material.volume = (4/3) * math.pi * lithium_orthosilicate_radius**3 # a volume is needed so openmc can find the number of atoms in the cell/material\n",
    "breeding_material.depletable = True  # depletable = True is needed to tell openmc to update the material with each time step\n",
    "\n",
    "materials = openmc.Materials([breeding_material])\n",
    "materials.export_to_xml()\n",
    "\n",
    "\n",
    "# GEOMETRY\n",
    "\n",
    "# surfaces\n",
    "sph1 = openmc.Sphere(r=lithium_orthosilicate_radius, boundary_type='vacuum')\n",
    "\n",
    "# cells\n",
    "shield_cell = openmc.Cell(region=-sph1)\n",
    "shield_cell.fill = breeding_material\n",
    "shield_cell.volume = (4/3) * math.pi * sph1.r**3\n",
    "\n",
    "geometry = openmc.Geometry([shield_cell])"
   ]
  },
  {
   "attachments": {},
   "cell_type": "markdown",
   "id": "f4071ae5-ae09-4f3d-a294-0f0aa126d0f4",
   "metadata": {},
   "source": [
    "This section defines the neutron source term to use and the settings"
   ]
  },
  {
   "cell_type": "code",
   "execution_count": null,
   "id": "9c4c1b2c-1719-4e43-acf7-a4cd433f84e7",
   "metadata": {},
   "outputs": [],
   "source": [
    "# creates a 14MeV neutron point source\n",
    "source = openmc.IndependentSource()\n",
    "source.space = openmc.stats.Point((0, 0, 0))\n",
    "source.angle = openmc.stats.Isotropic()\n",
    "source.energy = openmc.stats.Discrete([14e6], [1])\n",
    "source.particles = 'neutron'\n",
    "\n",
    "# SETTINGS\n",
    "\n",
    "# Instantiate a Settings object\n",
    "settings = openmc.Settings()\n",
    "settings.batches = 2\n",
    "settings.inactive = 0\n",
    "settings.particles = 5000\n",
    "settings.source = source\n",
    "settings.run_mode = 'fixed source'\n",
    "\n",
    "\n",
    "tallies = openmc.Tallies()\n",
    "\n",
    "# added a cell tally for tritium production\n",
    "cell_filter = openmc.CellFilter(shield_cell)\n",
    "tbr_tally = openmc.Tally(name='TBR')\n",
    "tbr_tally.filters = [cell_filter]\n",
    "tbr_tally.scores = ['(n,Xt)']  # Where X is a wildcard character, this catches any tritium production\n",
    "tallies.append(tbr_tally)\n",
    "\n",
    "geometry.export_to_xml()\n",
    "settings.export_to_xml()\n",
    "tallies.export_to_xml()\n",
    "materials.export_to_xml()\n",
    "model = openmc.model.Model(geometry, materials, settings, tallies)"
   ]
  },
  {
   "attachments": {},
   "cell_type": "markdown",
   "id": "7129ed95-8268-4484-9df5-a93e83ad3268",
   "metadata": {},
   "source": [
    "This is the depltion specific part of the model setup.\n",
    "Here we:\n",
    "\n",
    "    specify the chain file, this tells openmc the decay paths between isotopes including probabilities of different routes and half lives\n",
    "    \n",
    "    set the time steps and corresponding source rates "
   ]
  },
  {
   "cell_type": "code",
   "execution_count": null,
   "id": "ff40774e-ab4e-4de1-8ef1-2c4ddc3d20cf",
   "metadata": {},
   "outputs": [],
   "source": [
    "# This chain file was downloaded using the download_endf_chain script that is included in the openmc_data package https://github.com/openmc-data-storage/openmc_data\\n\",\n",
    "# this file tells openmc the decay paths between isotopes including probabilities of different routes and half lives\n",
    "# To download this xml file you can run these commands\n",
    "# pip install openmc_data\n",
    "# download_endf_chain -d nuclear_data -r b8.0\n",
    "# openmc.config['chain_file'] = '/nuclear_data/chain-endf-b8.0.xml'\n",
    "\n",
    "operator = openmc.deplete.CoupledOperator(\n",
    "    model=model,\n",
    "    normalization_mode=\"source-rate\",  # set for fixed source simulation, otherwise defaults to fission simulation\n",
    "    reduce_chain=True, # reduced to only the isotopes present in depletable materials and their possible progeny\n",
    "    reduce_chain_level=5\n",
    ")\n",
    "\n",
    "time_steps = [365*24*60*60] * 5 # 5 steps of 5 years in seconds\n",
    "source_rates = [1e9]*5 # 1GW\n",
    "\n",
    "integrator = openmc.deplete.PredictorIntegrator(operator, time_steps, source_rates)\n",
    "\n",
    "integrator.integrate()"
   ]
  },
  {
   "attachments": {},
   "cell_type": "markdown",
   "id": "5c81dbae-5897-4526-9120-c1cbba0c07f9",
   "metadata": {},
   "source": [
    "Access the TBR tally at each depletion time step, to observe the TBR decreasing as a function of time the simulation needs to be run with around 50000 particles"
   ]
  },
  {
   "cell_type": "code",
   "execution_count": null,
   "id": "1e820e57-ab13-4944-807c-fdcc8f3ba53a",
   "metadata": {},
   "outputs": [],
   "source": [
    "for counter in [0,1,2,3,4,5]:\n",
    "    sp = openmc.StatePoint(f'openmc_simulation_n{counter}.h5')\n",
    "    tbr_tally = sp.get_tally(name='TBR')\n",
    "    print(f'depletion step {counter} TBR={tbr_tally.mean.sum()}')"
   ]
  },
  {
   "attachments": {},
   "cell_type": "markdown",
   "id": "5fd705f8-4bf7-419a-b528-f062262195b1",
   "metadata": {},
   "source": [
    "Certain reations are also available in the depletion results file. \n",
    "\n",
    "For example you can access the rate of n,gamma reactions at each time step"
   ]
  },
  {
   "cell_type": "code",
   "execution_count": null,
   "id": "93cf32a5-6f6a-4ef7-b631-6c64526d9ac9",
   "metadata": {},
   "outputs": [],
   "source": [
    "results = openmc.deplete.ResultsList.from_hdf5(\"depletion_results.h5\")\n",
    "\n",
    "times, number_of_n_gamma_reactions = results.get_reaction_rate(breeding_material, 'Li6', '(n,gamma)')"
   ]
  },
  {
   "attachments": {},
   "cell_type": "markdown",
   "id": "f4e5eaee-f68c-48cc-b8c2-fb79ba4abee5",
   "metadata": {},
   "source": [
    "Then we can plot the changing reaction rate as a function of time steps"
   ]
  },
  {
   "cell_type": "code",
   "execution_count": null,
   "id": "bba28c5c-21fc-4563-a473-d9638541d56a",
   "metadata": {},
   "outputs": [],
   "source": [
    "import matplotlib.pyplot as plt\n",
    "plt.plot(times, number_of_n_gamma_reactions)\n",
    "plt.show()"
   ]
  },
  {
   "cell_type": "code",
   "execution_count": null,
   "id": "a268d5ff-d90a-4e2c-be05-5f8c6d7f61ea",
   "metadata": {},
   "outputs": [],
   "source": []
  }
 ],
 "metadata": {
  "kernelspec": {
   "display_name": "Python 3 (ipykernel)",
   "language": "python",
   "name": "python3"
  },
  "language_info": {
   "codemirror_mode": {
    "name": "ipython",
    "version": 3
   },
   "file_extension": ".py",
   "mimetype": "text/x-python",
   "name": "python",
   "nbconvert_exporter": "python",
   "pygments_lexer": "ipython3",
   "version": "3.8.13"
  },
  "vscode": {
   "interpreter": {
    "hash": "c4091e6bedd918551d58365c181e219409ee0bad4691fd7a9c5816fcde549631"
   }
  }
 },
 "nbformat": 4,
 "nbformat_minor": 5
}
