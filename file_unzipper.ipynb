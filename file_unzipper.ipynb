{
 "cells": [
  {
   "cell_type": "markdown",
   "id": "35ca09fc",
   "metadata": {},
   "source": [
    "# Method for unzipping downloaded folder in jupyterlab"
   ]
  },
  {
   "cell_type": "code",
   "execution_count": null,
   "id": "979c49b5",
   "metadata": {
    "vscode": {
     "languageId": "plaintext"
    }
   },
   "outputs": [],
   "source": [
    "import zipfile as zf\n",
    "files = zf.ZipFile(\"utk-openmc-workshop-main.zip\", 'r')\n",
    "files.extractall()\n",
    "files.close()"
   ]
  }
 ],
 "metadata": {
  "kernelspec": {
   "display_name": "Python 3 (ipykernel)",
   "language": "python",
   "name": "python3"
  },
  "language_info": {
   "codemirror_mode": {
    "name": "ipython",
    "version": 3
   },
   "file_extension": ".py",
   "mimetype": "text/x-python",
   "name": "python",
   "nbconvert_exporter": "python",
   "pygments_lexer": "ipython3",
   "version": "3.11.2"
  }
 },
 "nbformat": 4,
 "nbformat_minor": 5
}
